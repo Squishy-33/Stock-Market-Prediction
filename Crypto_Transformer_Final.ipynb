{
  "nbformat": 4,
  "nbformat_minor": 0,
  "metadata": {
    "colab": {
      "name": "Crypto_Transformer_Final.ipynb",
      "provenance": [],
      "collapsed_sections": [
        "IPcKq6qp4I7M",
        "HjjeMIaAVeNH",
        "Sy-InP9enKga"
      ],
      "toc_visible": true
    },
    "kernelspec": {
      "name": "python3",
      "display_name": "Python 3"
    },
    "accelerator": "GPU"
  },
  "cells": [
    {
      "cell_type": "code",
      "metadata": {
        "id": "ZEi-veir_9vd",
        "colab_type": "code",
        "colab": {}
      },
      "source": [
        "import datetime\n",
        "import numpy as np\n",
        "import pandas as pd\n",
        "\n",
        "import matplotlib.pyplot as plt\n",
        "%matplotlib inline"
      ],
      "execution_count": 54,
      "outputs": []
    },
    {
      "cell_type": "markdown",
      "metadata": {
        "id": "m1laS0W6dZ8g",
        "colab_type": "text"
      },
      "source": [
        "### Read Data"
      ]
    },
    {
      "cell_type": "code",
      "metadata": {
        "id": "Agc0yg5c4ctw",
        "colab_type": "code",
        "colab": {
          "base_uri": "https://localhost:8080/",
          "height": 34
        },
        "outputId": "b76f510b-9c91-45c8-f383-de0277894edd"
      },
      "source": [
        "from google.colab import drive\n",
        "drive.mount('/content/drive')"
      ],
      "execution_count": 55,
      "outputs": [
        {
          "output_type": "stream",
          "text": [
            "Drive already mounted at /content/drive; to attempt to forcibly remount, call drive.mount(\"/content/drive\", force_remount=True).\n"
          ],
          "name": "stdout"
        }
      ]
    },
    {
      "cell_type": "code",
      "metadata": {
        "id": "d_pFMm8wAMkR",
        "colab_type": "code",
        "colab": {}
      },
      "source": [
        "def read_data(file_name):\n",
        "  df = pd.read_csv(f'/content/drive/My Drive/DeepLearning/crypto_data/{file_name}.csv', names=['time', 'low', 'high', 'open', 'close', 'volume'])\n",
        "  df.set_index('time', inplace=True)\n",
        "  return df "
      ],
      "execution_count": 56,
      "outputs": []
    },
    {
      "cell_type": "code",
      "metadata": {
        "id": "dowo5LcvPbdc",
        "colab_type": "code",
        "colab": {}
      },
      "source": [
        "file_names = ['BCH-USD', 'BTC-USD', 'ETH-USD', 'LTC-USD']"
      ],
      "execution_count": 57,
      "outputs": []
    },
    {
      "cell_type": "code",
      "metadata": {
        "id": "lpH1VQmtPC3P",
        "colab_type": "code",
        "colab": {}
      },
      "source": [
        "bch_df = read_data(file_names[0])\n",
        "btc_df = read_data(file_names[1])\n",
        "eth_df = read_data(file_names[2])\n",
        "ltc_df = read_data(file_names[3])"
      ],
      "execution_count": 58,
      "outputs": []
    },
    {
      "cell_type": "code",
      "metadata": {
        "id": "mZc48HaCAVP_",
        "colab_type": "code",
        "colab": {
          "base_uri": "https://localhost:8080/",
          "height": 235
        },
        "outputId": "8b84ca1d-d360-456d-9fe7-29f9d97b11a9"
      },
      "source": [
        "btc_df.head()"
      ],
      "execution_count": 59,
      "outputs": [
        {
          "output_type": "execute_result",
          "data": {
            "text/html": [
              "<div>\n",
              "<style scoped>\n",
              "    .dataframe tbody tr th:only-of-type {\n",
              "        vertical-align: middle;\n",
              "    }\n",
              "\n",
              "    .dataframe tbody tr th {\n",
              "        vertical-align: top;\n",
              "    }\n",
              "\n",
              "    .dataframe thead th {\n",
              "        text-align: right;\n",
              "    }\n",
              "</style>\n",
              "<table border=\"1\" class=\"dataframe\">\n",
              "  <thead>\n",
              "    <tr style=\"text-align: right;\">\n",
              "      <th></th>\n",
              "      <th>low</th>\n",
              "      <th>high</th>\n",
              "      <th>open</th>\n",
              "      <th>close</th>\n",
              "      <th>volume</th>\n",
              "    </tr>\n",
              "    <tr>\n",
              "      <th>time</th>\n",
              "      <th></th>\n",
              "      <th></th>\n",
              "      <th></th>\n",
              "      <th></th>\n",
              "      <th></th>\n",
              "    </tr>\n",
              "  </thead>\n",
              "  <tbody>\n",
              "    <tr>\n",
              "      <th>1528968660</th>\n",
              "      <td>6489.549805</td>\n",
              "      <td>6489.560059</td>\n",
              "      <td>6489.560059</td>\n",
              "      <td>6489.549805</td>\n",
              "      <td>0.587100</td>\n",
              "    </tr>\n",
              "    <tr>\n",
              "      <th>1528968720</th>\n",
              "      <td>6487.370117</td>\n",
              "      <td>6489.560059</td>\n",
              "      <td>6489.549805</td>\n",
              "      <td>6487.379883</td>\n",
              "      <td>7.706374</td>\n",
              "    </tr>\n",
              "    <tr>\n",
              "      <th>1528968780</th>\n",
              "      <td>6479.410156</td>\n",
              "      <td>6487.370117</td>\n",
              "      <td>6487.370117</td>\n",
              "      <td>6479.410156</td>\n",
              "      <td>3.088252</td>\n",
              "    </tr>\n",
              "    <tr>\n",
              "      <th>1528968840</th>\n",
              "      <td>6479.410156</td>\n",
              "      <td>6479.419922</td>\n",
              "      <td>6479.419922</td>\n",
              "      <td>6479.410156</td>\n",
              "      <td>1.404100</td>\n",
              "    </tr>\n",
              "    <tr>\n",
              "      <th>1528968900</th>\n",
              "      <td>6475.930176</td>\n",
              "      <td>6479.979980</td>\n",
              "      <td>6479.410156</td>\n",
              "      <td>6479.979980</td>\n",
              "      <td>0.753000</td>\n",
              "    </tr>\n",
              "  </tbody>\n",
              "</table>\n",
              "</div>"
            ],
            "text/plain": [
              "                    low         high         open        close    volume\n",
              "time                                                                    \n",
              "1528968660  6489.549805  6489.560059  6489.560059  6489.549805  0.587100\n",
              "1528968720  6487.370117  6489.560059  6489.549805  6487.379883  7.706374\n",
              "1528968780  6479.410156  6487.370117  6487.370117  6479.410156  3.088252\n",
              "1528968840  6479.410156  6479.419922  6479.419922  6479.410156  1.404100\n",
              "1528968900  6475.930176  6479.979980  6479.410156  6479.979980  0.753000"
            ]
          },
          "metadata": {
            "tags": []
          },
          "execution_count": 59
        }
      ]
    },
    {
      "cell_type": "code",
      "metadata": {
        "id": "nSK1ryGyRneA",
        "colab_type": "code",
        "colab": {}
      },
      "source": [
        "def join_df(main_df, input_df, crypto_name):\n",
        "  \n",
        "  input_df.rename(columns={'close': f'{crypto_name}_close', 'volume': f'{crypto_name}_volume'}, inplace=True)\n",
        "  input_df = input_df[[f'{crypto_name}_close', f'{crypto_name}_volume']]\n",
        "\n",
        "  if len(main_df) == 0:\n",
        "    main_df = input_df\n",
        "  else:\n",
        "    main_df = main_df.join(input_df)\n",
        "\n",
        "  return main_df"
      ],
      "execution_count": 60,
      "outputs": []
    },
    {
      "cell_type": "code",
      "metadata": {
        "id": "t5oc7ZV0Tzzr",
        "colab_type": "code",
        "colab": {}
      },
      "source": [
        "all4_df = pd.DataFrame()\n",
        "\n",
        "all4_df = join_df(all4_df, bch_df, 'BCH')\n",
        "all4_df = join_df(all4_df, btc_df, 'BTC')\n",
        "all4_df = join_df(all4_df, eth_df, 'ETH')\n",
        "all4_df = join_df(all4_df, ltc_df, 'LTC')"
      ],
      "execution_count": 61,
      "outputs": []
    },
    {
      "cell_type": "code",
      "metadata": {
        "id": "5PcZLiOyVhQZ",
        "colab_type": "code",
        "colab": {}
      },
      "source": [
        "all4_df.fillna(method=\"ffill\", inplace=True)\n",
        "all4_df.dropna(inplace=True)"
      ],
      "execution_count": 62,
      "outputs": []
    },
    {
      "cell_type": "code",
      "metadata": {
        "id": "PUQpSjjEVtOR",
        "colab_type": "code",
        "colab": {
          "base_uri": "https://localhost:8080/",
          "height": 235
        },
        "outputId": "63adda4a-30d7-4369-aceb-b1902043dd8a"
      },
      "source": [
        "all4_df.head()"
      ],
      "execution_count": 63,
      "outputs": [
        {
          "output_type": "execute_result",
          "data": {
            "text/html": [
              "<div>\n",
              "<style scoped>\n",
              "    .dataframe tbody tr th:only-of-type {\n",
              "        vertical-align: middle;\n",
              "    }\n",
              "\n",
              "    .dataframe tbody tr th {\n",
              "        vertical-align: top;\n",
              "    }\n",
              "\n",
              "    .dataframe thead th {\n",
              "        text-align: right;\n",
              "    }\n",
              "</style>\n",
              "<table border=\"1\" class=\"dataframe\">\n",
              "  <thead>\n",
              "    <tr style=\"text-align: right;\">\n",
              "      <th></th>\n",
              "      <th>BCH_close</th>\n",
              "      <th>BCH_volume</th>\n",
              "      <th>BTC_close</th>\n",
              "      <th>BTC_volume</th>\n",
              "      <th>ETH_close</th>\n",
              "      <th>ETH_volume</th>\n",
              "      <th>LTC_close</th>\n",
              "      <th>LTC_volume</th>\n",
              "    </tr>\n",
              "    <tr>\n",
              "      <th>time</th>\n",
              "      <th></th>\n",
              "      <th></th>\n",
              "      <th></th>\n",
              "      <th></th>\n",
              "      <th></th>\n",
              "      <th></th>\n",
              "      <th></th>\n",
              "      <th></th>\n",
              "    </tr>\n",
              "  </thead>\n",
              "  <tbody>\n",
              "    <tr>\n",
              "      <th>1528968720</th>\n",
              "      <td>870.859985</td>\n",
              "      <td>26.856577</td>\n",
              "      <td>6487.379883</td>\n",
              "      <td>7.706374</td>\n",
              "      <td>486.01001</td>\n",
              "      <td>26.019083</td>\n",
              "      <td>96.660004</td>\n",
              "      <td>314.387024</td>\n",
              "    </tr>\n",
              "    <tr>\n",
              "      <th>1528968780</th>\n",
              "      <td>870.099976</td>\n",
              "      <td>1.124300</td>\n",
              "      <td>6479.410156</td>\n",
              "      <td>3.088252</td>\n",
              "      <td>486.00000</td>\n",
              "      <td>8.449400</td>\n",
              "      <td>96.570000</td>\n",
              "      <td>77.129799</td>\n",
              "    </tr>\n",
              "    <tr>\n",
              "      <th>1528968840</th>\n",
              "      <td>870.789978</td>\n",
              "      <td>1.749862</td>\n",
              "      <td>6479.410156</td>\n",
              "      <td>1.404100</td>\n",
              "      <td>485.75000</td>\n",
              "      <td>26.994646</td>\n",
              "      <td>96.500000</td>\n",
              "      <td>7.216067</td>\n",
              "    </tr>\n",
              "    <tr>\n",
              "      <th>1528968900</th>\n",
              "      <td>870.000000</td>\n",
              "      <td>1.680500</td>\n",
              "      <td>6479.979980</td>\n",
              "      <td>0.753000</td>\n",
              "      <td>486.00000</td>\n",
              "      <td>77.355759</td>\n",
              "      <td>96.389999</td>\n",
              "      <td>524.539978</td>\n",
              "    </tr>\n",
              "    <tr>\n",
              "      <th>1528968960</th>\n",
              "      <td>869.989990</td>\n",
              "      <td>1.669014</td>\n",
              "      <td>6480.000000</td>\n",
              "      <td>1.490900</td>\n",
              "      <td>486.00000</td>\n",
              "      <td>7.503300</td>\n",
              "      <td>96.519997</td>\n",
              "      <td>16.991997</td>\n",
              "    </tr>\n",
              "  </tbody>\n",
              "</table>\n",
              "</div>"
            ],
            "text/plain": [
              "             BCH_close  BCH_volume  ...  LTC_close  LTC_volume\n",
              "time                                ...                       \n",
              "1528968720  870.859985   26.856577  ...  96.660004  314.387024\n",
              "1528968780  870.099976    1.124300  ...  96.570000   77.129799\n",
              "1528968840  870.789978    1.749862  ...  96.500000    7.216067\n",
              "1528968900  870.000000    1.680500  ...  96.389999  524.539978\n",
              "1528968960  869.989990    1.669014  ...  96.519997   16.991997\n",
              "\n",
              "[5 rows x 8 columns]"
            ]
          },
          "metadata": {
            "tags": []
          },
          "execution_count": 63
        }
      ]
    },
    {
      "cell_type": "markdown",
      "metadata": {
        "id": "YiOkgfGk1pWH",
        "colab_type": "text"
      },
      "source": [
        "### Technical Indicators"
      ]
    },
    {
      "cell_type": "code",
      "metadata": {
        "id": "ojSw4JGp1rVL",
        "colab_type": "code",
        "colab": {}
      },
      "source": [
        "def technical_indicators(dataset):\n",
        "\n",
        "    adjClose = dataset['LTC_close']\n",
        "\n",
        "    # Create 7 and 21 days Moving Average\n",
        "    dataset['ma7'] = adjClose.rolling(window=7).mean()\n",
        "    dataset['ma21'] = adjClose.rolling(window=21).mean()\n",
        "    \n",
        "    # Create MACD\n",
        "    dataset['26ema'] = adjClose.ewm(span=26).mean()\n",
        "    dataset['12ema'] = adjClose.ewm(span=12).mean()\n",
        "    dataset['MACD'] = (dataset['12ema']-dataset['26ema'])\n",
        "\n",
        "    # Create Bollinger Bands\n",
        "    dataset['20sd'] = adjClose.rolling(window=20,center=False).std() \n",
        "    dataset['upper_band'] = dataset['ma21'] + (dataset['20sd']*2)\n",
        "    dataset['lower_band'] = dataset['ma21'] - (dataset['20sd']*2)\n",
        "    \n",
        "    # Create Exponential moving average\n",
        "    # dataset['ema'] = adjClose.ewm(com=0.5).mean()\n",
        "    \n",
        "    # # Create RSI\n",
        "    # delta = adjClose.diff()\n",
        "    # delta = delta[1:] \n",
        "\n",
        "    # up, down = delta.copy(), delta.copy()\n",
        "    # up[up < 0] = 0\n",
        "    # down[down > 0] = 0\n",
        "\n",
        "    # # Calculate the SMA\n",
        "    # roll_up = up.rolling(14).mean()\n",
        "    # roll_down = down.abs().rolling(14).mean()\n",
        "\n",
        "    # # Calculate the RSI based on SMA\n",
        "    # RS = roll_up / roll_down\n",
        "    # dataset['RSI'] = 100.0 - (100.0 / (1.0 + RS))\n",
        "    \n",
        "    return dataset"
      ],
      "execution_count": 64,
      "outputs": []
    },
    {
      "cell_type": "code",
      "metadata": {
        "id": "C3CO7I3K1t53",
        "colab_type": "code",
        "colab": {}
      },
      "source": [
        "all4_df = technical_indicators(all4_df)"
      ],
      "execution_count": 66,
      "outputs": []
    },
    {
      "cell_type": "code",
      "metadata": {
        "id": "obFXTSOn1wGh",
        "colab_type": "code",
        "colab": {
          "base_uri": "https://localhost:8080/",
          "height": 235
        },
        "outputId": "9e510394-5666-4617-8628-4c41e1052efb"
      },
      "source": [
        "# Remove the first 20 values in order to have no NaN\n",
        "all4_df = all4_df[20:]\n",
        "all4_df.head()"
      ],
      "execution_count": 67,
      "outputs": [
        {
          "output_type": "execute_result",
          "data": {
            "text/html": [
              "<div>\n",
              "<style scoped>\n",
              "    .dataframe tbody tr th:only-of-type {\n",
              "        vertical-align: middle;\n",
              "    }\n",
              "\n",
              "    .dataframe tbody tr th {\n",
              "        vertical-align: top;\n",
              "    }\n",
              "\n",
              "    .dataframe thead th {\n",
              "        text-align: right;\n",
              "    }\n",
              "</style>\n",
              "<table border=\"1\" class=\"dataframe\">\n",
              "  <thead>\n",
              "    <tr style=\"text-align: right;\">\n",
              "      <th></th>\n",
              "      <th>BCH_close</th>\n",
              "      <th>BCH_volume</th>\n",
              "      <th>BTC_close</th>\n",
              "      <th>BTC_volume</th>\n",
              "      <th>ETH_close</th>\n",
              "      <th>ETH_volume</th>\n",
              "      <th>LTC_close</th>\n",
              "      <th>LTC_volume</th>\n",
              "      <th>ma7</th>\n",
              "      <th>ma21</th>\n",
              "      <th>26ema</th>\n",
              "      <th>12ema</th>\n",
              "      <th>MACD</th>\n",
              "      <th>20sd</th>\n",
              "      <th>upper_band</th>\n",
              "      <th>lower_band</th>\n",
              "    </tr>\n",
              "    <tr>\n",
              "      <th>time</th>\n",
              "      <th></th>\n",
              "      <th></th>\n",
              "      <th></th>\n",
              "      <th></th>\n",
              "      <th></th>\n",
              "      <th></th>\n",
              "      <th></th>\n",
              "      <th></th>\n",
              "      <th></th>\n",
              "      <th></th>\n",
              "      <th></th>\n",
              "      <th></th>\n",
              "      <th></th>\n",
              "      <th></th>\n",
              "      <th></th>\n",
              "      <th></th>\n",
              "    </tr>\n",
              "  </thead>\n",
              "  <tbody>\n",
              "    <tr>\n",
              "      <th>1528969920</th>\n",
              "      <td>873.650024</td>\n",
              "      <td>1.198600</td>\n",
              "      <td>6486.359863</td>\n",
              "      <td>1.065600</td>\n",
              "      <td>488.00000</td>\n",
              "      <td>101.905365</td>\n",
              "      <td>96.629997</td>\n",
              "      <td>65.206299</td>\n",
              "      <td>96.518570</td>\n",
              "      <td>96.478571</td>\n",
              "      <td>96.487900</td>\n",
              "      <td>96.508591</td>\n",
              "      <td>0.020691</td>\n",
              "      <td>0.075913</td>\n",
              "      <td>96.630396</td>\n",
              "      <td>96.326746</td>\n",
              "    </tr>\n",
              "    <tr>\n",
              "      <th>1528969980</th>\n",
              "      <td>873.859985</td>\n",
              "      <td>1.293300</td>\n",
              "      <td>6487.259766</td>\n",
              "      <td>0.602759</td>\n",
              "      <td>487.98999</td>\n",
              "      <td>303.575714</td>\n",
              "      <td>96.599998</td>\n",
              "      <td>206.481979</td>\n",
              "      <td>96.547141</td>\n",
              "      <td>96.475714</td>\n",
              "      <td>96.498075</td>\n",
              "      <td>96.523019</td>\n",
              "      <td>0.024944</td>\n",
              "      <td>0.078263</td>\n",
              "      <td>96.632239</td>\n",
              "      <td>96.319189</td>\n",
              "    </tr>\n",
              "    <tr>\n",
              "      <th>1528970040</th>\n",
              "      <td>873.750000</td>\n",
              "      <td>7.357900</td>\n",
              "      <td>6487.270020</td>\n",
              "      <td>0.427600</td>\n",
              "      <td>488.00000</td>\n",
              "      <td>20.277039</td>\n",
              "      <td>96.639999</td>\n",
              "      <td>35.712299</td>\n",
              "      <td>96.578570</td>\n",
              "      <td>96.479047</td>\n",
              "      <td>96.510746</td>\n",
              "      <td>96.541411</td>\n",
              "      <td>0.030664</td>\n",
              "      <td>0.086789</td>\n",
              "      <td>96.652626</td>\n",
              "      <td>96.305468</td>\n",
              "    </tr>\n",
              "    <tr>\n",
              "      <th>1528970100</th>\n",
              "      <td>873.309998</td>\n",
              "      <td>2.864491</td>\n",
              "      <td>6490.000000</td>\n",
              "      <td>0.516043</td>\n",
              "      <td>487.98999</td>\n",
              "      <td>20.961819</td>\n",
              "      <td>96.660004</td>\n",
              "      <td>119.928459</td>\n",
              "      <td>96.591427</td>\n",
              "      <td>96.486666</td>\n",
              "      <td>96.523872</td>\n",
              "      <td>96.559993</td>\n",
              "      <td>0.036121</td>\n",
              "      <td>0.093147</td>\n",
              "      <td>96.672961</td>\n",
              "      <td>96.300372</td>\n",
              "    </tr>\n",
              "    <tr>\n",
              "      <th>1528970160</th>\n",
              "      <td>873.309998</td>\n",
              "      <td>0.149200</td>\n",
              "      <td>6490.000000</td>\n",
              "      <td>0.742156</td>\n",
              "      <td>488.00000</td>\n",
              "      <td>19.020500</td>\n",
              "      <td>96.660004</td>\n",
              "      <td>27.055300</td>\n",
              "      <td>96.615714</td>\n",
              "      <td>96.499524</td>\n",
              "      <td>96.535680</td>\n",
              "      <td>96.575619</td>\n",
              "      <td>0.039939</td>\n",
              "      <td>0.100382</td>\n",
              "      <td>96.700287</td>\n",
              "      <td>96.298760</td>\n",
              "    </tr>\n",
              "  </tbody>\n",
              "</table>\n",
              "</div>"
            ],
            "text/plain": [
              "             BCH_close  BCH_volume  ...  upper_band  lower_band\n",
              "time                                ...                        \n",
              "1528969920  873.650024    1.198600  ...   96.630396   96.326746\n",
              "1528969980  873.859985    1.293300  ...   96.632239   96.319189\n",
              "1528970040  873.750000    7.357900  ...   96.652626   96.305468\n",
              "1528970100  873.309998    2.864491  ...   96.672961   96.300372\n",
              "1528970160  873.309998    0.149200  ...   96.700287   96.298760\n",
              "\n",
              "[5 rows x 16 columns]"
            ]
          },
          "metadata": {
            "tags": []
          },
          "execution_count": 67
        }
      ]
    },
    {
      "cell_type": "markdown",
      "metadata": {
        "id": "MyNqXl881yww",
        "colab_type": "text"
      },
      "source": [
        "#### Dataset observation"
      ]
    },
    {
      "cell_type": "code",
      "metadata": {
        "id": "a5nyOPAMWBMw",
        "colab_type": "code",
        "colab": {
          "base_uri": "https://localhost:8080/",
          "height": 34
        },
        "outputId": "ce950f33-4ea0-4713-dba9-98cb592f7d1a"
      },
      "source": [
        "all4_df.shape"
      ],
      "execution_count": 68,
      "outputs": [
        {
          "output_type": "execute_result",
          "data": {
            "text/plain": [
              "(92204, 16)"
            ]
          },
          "metadata": {
            "tags": []
          },
          "execution_count": 68
        }
      ]
    },
    {
      "cell_type": "code",
      "metadata": {
        "id": "iI04BiKFFDzi",
        "colab_type": "code",
        "colab": {
          "base_uri": "https://localhost:8080/",
          "height": 306
        },
        "outputId": "368b6d84-4568-460e-9a8c-192a756229a1"
      },
      "source": [
        "all4_df.dtypes"
      ],
      "execution_count": 69,
      "outputs": [
        {
          "output_type": "execute_result",
          "data": {
            "text/plain": [
              "BCH_close     float64\n",
              "BCH_volume    float64\n",
              "BTC_close     float64\n",
              "BTC_volume    float64\n",
              "ETH_close     float64\n",
              "ETH_volume    float64\n",
              "LTC_close     float64\n",
              "LTC_volume    float64\n",
              "ma7           float64\n",
              "ma21          float64\n",
              "26ema         float64\n",
              "12ema         float64\n",
              "MACD          float64\n",
              "20sd          float64\n",
              "upper_band    float64\n",
              "lower_band    float64\n",
              "dtype: object"
            ]
          },
          "metadata": {
            "tags": []
          },
          "execution_count": 69
        }
      ]
    },
    {
      "cell_type": "code",
      "metadata": {
        "id": "kachZ5rS8_9z",
        "colab_type": "code",
        "tags": [],
        "colab": {
          "base_uri": "https://localhost:8080/",
          "height": 34
        },
        "outputId": "882111f7-868f-4a93-baa0-c8010f7d199b"
      },
      "source": [
        "training_items = int(all4_df.shape[0]*.9)\n",
        "print(f'Number of training items: {training_items}. Number of test items: {all4_df.shape[0]-training_items}.')"
      ],
      "execution_count": 70,
      "outputs": [
        {
          "output_type": "stream",
          "text": [
            "Number of training items: 82983. Number of test items: 9221.\n"
          ],
          "name": "stdout"
        }
      ]
    },
    {
      "cell_type": "markdown",
      "metadata": {
        "id": "Qo64_fv4P3ah",
        "colab_type": "text"
      },
      "source": [
        "#### Plot data"
      ]
    },
    {
      "cell_type": "code",
      "metadata": {
        "id": "7WFvaSSeP59h",
        "colab_type": "code",
        "colab": {}
      },
      "source": [
        "def plot_technical_indicators(dataset, last_min):\n",
        "    plt.figure(figsize=(16, 8), dpi=100)\n",
        "    shape_0 = dataset.shape[0]\n",
        "    xmacd_ = shape_0-last_min\n",
        "    \n",
        "    dataset = dataset.iloc[-last_min:, :]\n",
        "    x_ = range(3, dataset.shape[0])\n",
        "    x_ =list(dataset.index)\n",
        "    \n",
        "    # Plot first subplot\n",
        "    plt.subplot(1, 1, 1)\n",
        "    plt.plot(dataset['ma7'],label='MA 7', color='g',linestyle='--')\n",
        "    plt.plot(dataset['LTC_close'],label='Price', color='b')\n",
        "    plt.plot(dataset['ma21'],label='MA 21', color='r',linestyle='--')\n",
        "    plt.plot(dataset['upper_band'],label='Upper Band', color='c')\n",
        "    plt.plot(dataset['lower_band'],label='Lower Band', color='c')\n",
        "    plt.fill_between(x_, dataset['lower_band'], dataset['upper_band'], alpha=0.35)\n",
        "    plt.title(f'Technical indicators for Litecoin - last 6 hours')\n",
        "    plt.ylabel('USD')\n",
        "    plt.legend()\n",
        "\n",
        "    # # Plot second subplot\n",
        "    # plt.subplot(2, 1, 2)\n",
        "    # plt.title('MACD')\n",
        "    # plt.plot(dataset['MACD'],label='MACD', linestyle='-.')\n",
        "    # plt.hlines(15, xmacd_, shape_0, colors='g', linestyles='--')\n",
        "    # plt.hlines(-15, xmacd_, shape_0, colors='g', linestyles='--')\n",
        "\n",
        "    plt.legend()\n",
        "    plt.show()"
      ],
      "execution_count": 89,
      "outputs": []
    },
    {
      "cell_type": "code",
      "metadata": {
        "id": "z_LUZVkzQt5I",
        "colab_type": "code",
        "colab": {
          "base_uri": "https://localhost:8080/",
          "height": 705
        },
        "outputId": "422776ee-8b12-47d6-8a35-1d65b12180b8"
      },
      "source": [
        "plot_technical_indicators(all4_df, 360)"
      ],
      "execution_count": 90,
      "outputs": [
        {
          "output_type": "display_data",
          "data": {
            "image/png": "[encoded data removed]",
            "text/plain": [
              "<Figure size 1600x800 with 1 Axes>"
            ]
          },
          "metadata": {
            "tags": [],
            "needs_background": "light"
          }
        }
      ]
    },
    {
      "cell_type": "markdown",
      "metadata": {
        "id": "aqTyFRxi3-sP",
        "colab_type": "text"
      },
      "source": [
        "### Create Label"
      ]
    },
    {
      "cell_type": "code",
      "metadata": {
        "id": "0E8zIfl8AkaR",
        "colab_type": "code",
        "colab": {}
      },
      "source": [
        "SEQ_LEQ = 30\n",
        "FORECAST_PERIOD = 1"
      ],
      "execution_count": 17,
      "outputs": []
    },
    {
      "cell_type": "code",
      "metadata": {
        "id": "AHJibycVAn_Y",
        "colab_type": "code",
        "colab": {}
      },
      "source": [
        "def classify(current, future):\n",
        "    if float(future) > float(current):\n",
        "        return 1\n",
        "    else:\n",
        "        return 0"
      ],
      "execution_count": 18,
      "outputs": []
    },
    {
      "cell_type": "code",
      "metadata": {
        "id": "6MgsYaxtAqS3",
        "colab_type": "code",
        "colab": {}
      },
      "source": [
        "all4_df['Future'] = all4_df['LTC_close'].shift(-FORECAST_PERIOD)"
      ],
      "execution_count": 19,
      "outputs": []
    },
    {
      "cell_type": "code",
      "metadata": {
        "id": "1c745DyuArQl",
        "colab_type": "code",
        "colab": {}
      },
      "source": [
        "all4_df['Label'] = list(map(classify, all4_df['LTC_close'], all4_df['Future']))"
      ],
      "execution_count": 20,
      "outputs": []
    },
    {
      "cell_type": "code",
      "metadata": {
        "id": "-kMdxf0IlBo8",
        "colab_type": "code",
        "colab": {
          "base_uri": "https://localhost:8080/",
          "height": 255
        },
        "outputId": "14cb9ca8-fcea-49ce-f4bf-32bb802844ad"
      },
      "source": [
        "all4_df.head()"
      ],
      "execution_count": 21,
      "outputs": [
        {
          "output_type": "execute_result",
          "data": {
            "text/html": [
              "<div>\n",
              "<style scoped>\n",
              "    .dataframe tbody tr th:only-of-type {\n",
              "        vertical-align: middle;\n",
              "    }\n",
              "\n",
              "    .dataframe tbody tr th {\n",
              "        vertical-align: top;\n",
              "    }\n",
              "\n",
              "    .dataframe thead th {\n",
              "        text-align: right;\n",
              "    }\n",
              "</style>\n",
              "<table border=\"1\" class=\"dataframe\">\n",
              "  <thead>\n",
              "    <tr style=\"text-align: right;\">\n",
              "      <th></th>\n",
              "      <th>BCH_close</th>\n",
              "      <th>BCH_volume</th>\n",
              "      <th>BTC_close</th>\n",
              "      <th>BTC_volume</th>\n",
              "      <th>ETH_close</th>\n",
              "      <th>ETH_volume</th>\n",
              "      <th>LTC_close</th>\n",
              "      <th>LTC_volume</th>\n",
              "      <th>ma7</th>\n",
              "      <th>ma21</th>\n",
              "      <th>26ema</th>\n",
              "      <th>12ema</th>\n",
              "      <th>MACD</th>\n",
              "      <th>20sd</th>\n",
              "      <th>upper_band</th>\n",
              "      <th>lower_band</th>\n",
              "      <th>Future</th>\n",
              "      <th>Label</th>\n",
              "    </tr>\n",
              "    <tr>\n",
              "      <th>time</th>\n",
              "      <th></th>\n",
              "      <th></th>\n",
              "      <th></th>\n",
              "      <th></th>\n",
              "      <th></th>\n",
              "      <th></th>\n",
              "      <th></th>\n",
              "      <th></th>\n",
              "      <th></th>\n",
              "      <th></th>\n",
              "      <th></th>\n",
              "      <th></th>\n",
              "      <th></th>\n",
              "      <th></th>\n",
              "      <th></th>\n",
              "      <th></th>\n",
              "      <th></th>\n",
              "      <th></th>\n",
              "    </tr>\n",
              "  </thead>\n",
              "  <tbody>\n",
              "    <tr>\n",
              "      <th>1528969920</th>\n",
              "      <td>873.650024</td>\n",
              "      <td>1.198600</td>\n",
              "      <td>6486.359863</td>\n",
              "      <td>1.065600</td>\n",
              "      <td>488.00000</td>\n",
              "      <td>101.905365</td>\n",
              "      <td>96.629997</td>\n",
              "      <td>65.206299</td>\n",
              "      <td>96.518570</td>\n",
              "      <td>96.478571</td>\n",
              "      <td>96.487900</td>\n",
              "      <td>96.508591</td>\n",
              "      <td>0.020691</td>\n",
              "      <td>0.075913</td>\n",
              "      <td>96.630396</td>\n",
              "      <td>96.326746</td>\n",
              "      <td>96.599998</td>\n",
              "      <td>0</td>\n",
              "    </tr>\n",
              "    <tr>\n",
              "      <th>1528969980</th>\n",
              "      <td>873.859985</td>\n",
              "      <td>1.293300</td>\n",
              "      <td>6487.259766</td>\n",
              "      <td>0.602759</td>\n",
              "      <td>487.98999</td>\n",
              "      <td>303.575714</td>\n",
              "      <td>96.599998</td>\n",
              "      <td>206.481979</td>\n",
              "      <td>96.547141</td>\n",
              "      <td>96.475714</td>\n",
              "      <td>96.498075</td>\n",
              "      <td>96.523019</td>\n",
              "      <td>0.024944</td>\n",
              "      <td>0.078263</td>\n",
              "      <td>96.632239</td>\n",
              "      <td>96.319189</td>\n",
              "      <td>96.639999</td>\n",
              "      <td>1</td>\n",
              "    </tr>\n",
              "    <tr>\n",
              "      <th>1528970040</th>\n",
              "      <td>873.750000</td>\n",
              "      <td>7.357900</td>\n",
              "      <td>6487.270020</td>\n",
              "      <td>0.427600</td>\n",
              "      <td>488.00000</td>\n",
              "      <td>20.277039</td>\n",
              "      <td>96.639999</td>\n",
              "      <td>35.712299</td>\n",
              "      <td>96.578570</td>\n",
              "      <td>96.479047</td>\n",
              "      <td>96.510746</td>\n",
              "      <td>96.541411</td>\n",
              "      <td>0.030664</td>\n",
              "      <td>0.086789</td>\n",
              "      <td>96.652626</td>\n",
              "      <td>96.305468</td>\n",
              "      <td>96.660004</td>\n",
              "      <td>1</td>\n",
              "    </tr>\n",
              "    <tr>\n",
              "      <th>1528970100</th>\n",
              "      <td>873.309998</td>\n",
              "      <td>2.864491</td>\n",
              "      <td>6490.000000</td>\n",
              "      <td>0.516043</td>\n",
              "      <td>487.98999</td>\n",
              "      <td>20.961819</td>\n",
              "      <td>96.660004</td>\n",
              "      <td>119.928459</td>\n",
              "      <td>96.591427</td>\n",
              "      <td>96.486666</td>\n",
              "      <td>96.523872</td>\n",
              "      <td>96.559993</td>\n",
              "      <td>0.036121</td>\n",
              "      <td>0.093147</td>\n",
              "      <td>96.672961</td>\n",
              "      <td>96.300372</td>\n",
              "      <td>96.660004</td>\n",
              "      <td>0</td>\n",
              "    </tr>\n",
              "    <tr>\n",
              "      <th>1528970160</th>\n",
              "      <td>873.309998</td>\n",
              "      <td>0.149200</td>\n",
              "      <td>6490.000000</td>\n",
              "      <td>0.742156</td>\n",
              "      <td>488.00000</td>\n",
              "      <td>19.020500</td>\n",
              "      <td>96.660004</td>\n",
              "      <td>27.055300</td>\n",
              "      <td>96.615714</td>\n",
              "      <td>96.499524</td>\n",
              "      <td>96.535680</td>\n",
              "      <td>96.575619</td>\n",
              "      <td>0.039939</td>\n",
              "      <td>0.100382</td>\n",
              "      <td>96.700287</td>\n",
              "      <td>96.298760</td>\n",
              "      <td>96.660004</td>\n",
              "      <td>0</td>\n",
              "    </tr>\n",
              "  </tbody>\n",
              "</table>\n",
              "</div>"
            ],
            "text/plain": [
              "             BCH_close  BCH_volume    BTC_close  ...  lower_band     Future  Label\n",
              "time                                             ...                              \n",
              "1528969920  873.650024    1.198600  6486.359863  ...   96.326746  96.599998      0\n",
              "1528969980  873.859985    1.293300  6487.259766  ...   96.319189  96.639999      1\n",
              "1528970040  873.750000    7.357900  6487.270020  ...   96.305468  96.660004      1\n",
              "1528970100  873.309998    2.864491  6490.000000  ...   96.300372  96.660004      0\n",
              "1528970160  873.309998    0.149200  6490.000000  ...   96.298760  96.660004      0\n",
              "\n",
              "[5 rows x 18 columns]"
            ]
          },
          "metadata": {
            "tags": []
          },
          "execution_count": 21
        }
      ]
    },
    {
      "cell_type": "markdown",
      "metadata": {
        "id": "3a_qJPLgA07L",
        "colab_type": "text"
      },
      "source": [
        "### Creating Sequences"
      ]
    },
    {
      "cell_type": "code",
      "metadata": {
        "id": "7rVhP4enA7_s",
        "colab_type": "code",
        "colab": {}
      },
      "source": [
        "train_samples = int(all4_df.shape[0] * 0.9)\n",
        "\n",
        "train_ = all4_df.iloc[:train_samples]\n",
        "validation_ = all4_df.iloc[train_samples:]"
      ],
      "execution_count": 22,
      "outputs": []
    },
    {
      "cell_type": "code",
      "metadata": {
        "id": "JS3V486aA-Ja",
        "colab_type": "code",
        "colab": {
          "base_uri": "https://localhost:8080/",
          "height": 255
        },
        "outputId": "ed5db15e-3e5f-444f-87c5-423589f5be48"
      },
      "source": [
        "train_.head()"
      ],
      "execution_count": 23,
      "outputs": [
        {
          "output_type": "execute_result",
          "data": {
            "text/html": [
              "<div>\n",
              "<style scoped>\n",
              "    .dataframe tbody tr th:only-of-type {\n",
              "        vertical-align: middle;\n",
              "    }\n",
              "\n",
              "    .dataframe tbody tr th {\n",
              "        vertical-align: top;\n",
              "    }\n",
              "\n",
              "    .dataframe thead th {\n",
              "        text-align: right;\n",
              "    }\n",
              "</style>\n",
              "<table border=\"1\" class=\"dataframe\">\n",
              "  <thead>\n",
              "    <tr style=\"text-align: right;\">\n",
              "      <th></th>\n",
              "      <th>BCH_close</th>\n",
              "      <th>BCH_volume</th>\n",
              "      <th>BTC_close</th>\n",
              "      <th>BTC_volume</th>\n",
              "      <th>ETH_close</th>\n",
              "      <th>ETH_volume</th>\n",
              "      <th>LTC_close</th>\n",
              "      <th>LTC_volume</th>\n",
              "      <th>ma7</th>\n",
              "      <th>ma21</th>\n",
              "      <th>26ema</th>\n",
              "      <th>12ema</th>\n",
              "      <th>MACD</th>\n",
              "      <th>20sd</th>\n",
              "      <th>upper_band</th>\n",
              "      <th>lower_band</th>\n",
              "      <th>Future</th>\n",
              "      <th>Label</th>\n",
              "    </tr>\n",
              "    <tr>\n",
              "      <th>time</th>\n",
              "      <th></th>\n",
              "      <th></th>\n",
              "      <th></th>\n",
              "      <th></th>\n",
              "      <th></th>\n",
              "      <th></th>\n",
              "      <th></th>\n",
              "      <th></th>\n",
              "      <th></th>\n",
              "      <th></th>\n",
              "      <th></th>\n",
              "      <th></th>\n",
              "      <th></th>\n",
              "      <th></th>\n",
              "      <th></th>\n",
              "      <th></th>\n",
              "      <th></th>\n",
              "      <th></th>\n",
              "    </tr>\n",
              "  </thead>\n",
              "  <tbody>\n",
              "    <tr>\n",
              "      <th>1528969920</th>\n",
              "      <td>873.650024</td>\n",
              "      <td>1.198600</td>\n",
              "      <td>6486.359863</td>\n",
              "      <td>1.065600</td>\n",
              "      <td>488.00000</td>\n",
              "      <td>101.905365</td>\n",
              "      <td>96.629997</td>\n",
              "      <td>65.206299</td>\n",
              "      <td>96.518570</td>\n",
              "      <td>96.478571</td>\n",
              "      <td>96.487900</td>\n",
              "      <td>96.508591</td>\n",
              "      <td>0.020691</td>\n",
              "      <td>0.075913</td>\n",
              "      <td>96.630396</td>\n",
              "      <td>96.326746</td>\n",
              "      <td>96.599998</td>\n",
              "      <td>0</td>\n",
              "    </tr>\n",
              "    <tr>\n",
              "      <th>1528969980</th>\n",
              "      <td>873.859985</td>\n",
              "      <td>1.293300</td>\n",
              "      <td>6487.259766</td>\n",
              "      <td>0.602759</td>\n",
              "      <td>487.98999</td>\n",
              "      <td>303.575714</td>\n",
              "      <td>96.599998</td>\n",
              "      <td>206.481979</td>\n",
              "      <td>96.547141</td>\n",
              "      <td>96.475714</td>\n",
              "      <td>96.498075</td>\n",
              "      <td>96.523019</td>\n",
              "      <td>0.024944</td>\n",
              "      <td>0.078263</td>\n",
              "      <td>96.632239</td>\n",
              "      <td>96.319189</td>\n",
              "      <td>96.639999</td>\n",
              "      <td>1</td>\n",
              "    </tr>\n",
              "    <tr>\n",
              "      <th>1528970040</th>\n",
              "      <td>873.750000</td>\n",
              "      <td>7.357900</td>\n",
              "      <td>6487.270020</td>\n",
              "      <td>0.427600</td>\n",
              "      <td>488.00000</td>\n",
              "      <td>20.277039</td>\n",
              "      <td>96.639999</td>\n",
              "      <td>35.712299</td>\n",
              "      <td>96.578570</td>\n",
              "      <td>96.479047</td>\n",
              "      <td>96.510746</td>\n",
              "      <td>96.541411</td>\n",
              "      <td>0.030664</td>\n",
              "      <td>0.086789</td>\n",
              "      <td>96.652626</td>\n",
              "      <td>96.305468</td>\n",
              "      <td>96.660004</td>\n",
              "      <td>1</td>\n",
              "    </tr>\n",
              "    <tr>\n",
              "      <th>1528970100</th>\n",
              "      <td>873.309998</td>\n",
              "      <td>2.864491</td>\n",
              "      <td>6490.000000</td>\n",
              "      <td>0.516043</td>\n",
              "      <td>487.98999</td>\n",
              "      <td>20.961819</td>\n",
              "      <td>96.660004</td>\n",
              "      <td>119.928459</td>\n",
              "      <td>96.591427</td>\n",
              "      <td>96.486666</td>\n",
              "      <td>96.523872</td>\n",
              "      <td>96.559993</td>\n",
              "      <td>0.036121</td>\n",
              "      <td>0.093147</td>\n",
              "      <td>96.672961</td>\n",
              "      <td>96.300372</td>\n",
              "      <td>96.660004</td>\n",
              "      <td>0</td>\n",
              "    </tr>\n",
              "    <tr>\n",
              "      <th>1528970160</th>\n",
              "      <td>873.309998</td>\n",
              "      <td>0.149200</td>\n",
              "      <td>6490.000000</td>\n",
              "      <td>0.742156</td>\n",
              "      <td>488.00000</td>\n",
              "      <td>19.020500</td>\n",
              "      <td>96.660004</td>\n",
              "      <td>27.055300</td>\n",
              "      <td>96.615714</td>\n",
              "      <td>96.499524</td>\n",
              "      <td>96.535680</td>\n",
              "      <td>96.575619</td>\n",
              "      <td>0.039939</td>\n",
              "      <td>0.100382</td>\n",
              "      <td>96.700287</td>\n",
              "      <td>96.298760</td>\n",
              "      <td>96.660004</td>\n",
              "      <td>0</td>\n",
              "    </tr>\n",
              "  </tbody>\n",
              "</table>\n",
              "</div>"
            ],
            "text/plain": [
              "             BCH_close  BCH_volume    BTC_close  ...  lower_band     Future  Label\n",
              "time                                             ...                              \n",
              "1528969920  873.650024    1.198600  6486.359863  ...   96.326746  96.599998      0\n",
              "1528969980  873.859985    1.293300  6487.259766  ...   96.319189  96.639999      1\n",
              "1528970040  873.750000    7.357900  6487.270020  ...   96.305468  96.660004      1\n",
              "1528970100  873.309998    2.864491  6490.000000  ...   96.300372  96.660004      0\n",
              "1528970160  873.309998    0.149200  6490.000000  ...   96.298760  96.660004      0\n",
              "\n",
              "[5 rows x 18 columns]"
            ]
          },
          "metadata": {
            "tags": []
          },
          "execution_count": 23
        }
      ]
    },
    {
      "cell_type": "code",
      "metadata": {
        "id": "P330SARIBDVG",
        "colab_type": "code",
        "colab": {}
      },
      "source": [
        "import random\n",
        "from collections import deque\n",
        "from sklearn import preprocessing"
      ],
      "execution_count": 24,
      "outputs": []
    },
    {
      "cell_type": "code",
      "metadata": {
        "id": "vyCeg8NYBFSW",
        "colab_type": "code",
        "colab": {}
      },
      "source": [
        "def preprocess(df):\n",
        "\n",
        "    df = df.drop('Future', 1)\n",
        "\n",
        "    for col in df.columns: \n",
        "        if col != 'Label': \n",
        "            df[col] = df[col].pct_change() \n",
        "            df.dropna(inplace=True) \n",
        "            df[col] = preprocessing.scale(df[col].values)\n",
        "\n",
        "    df.dropna(inplace=True)\n",
        "\n",
        "    sequential_data = [] \n",
        "    prev_days = deque(maxlen=SEQ_LEQ)\n",
        "\n",
        "    for i in df.values:\n",
        "      prev_days.append([n for n in i[:-1]]) \n",
        "      if len(prev_days) == SEQ_LEQ: \n",
        "        sequential_data.append([np.array(prev_days), i[-1]]) \n",
        "\n",
        "    random.shuffle(sequential_data)\n",
        "\n",
        "    ups = [] \n",
        "    downs = []  \n",
        "\n",
        "    for seq, label in sequential_data: \n",
        "        if label == 1:  \n",
        "            ups.append([seq, label]) \n",
        "        elif label == 0:\n",
        "            downs.append([seq, label]) \n",
        "\n",
        "    random.shuffle(downs) \n",
        "    random.shuffle(ups)\n",
        "\n",
        "    lower = min(len(downs), len(ups))\n",
        "\n",
        "    ups = ups[:lower]  \n",
        "    downs = downs[:lower]\n",
        "\n",
        "    sequential_data = ups+downs  \n",
        "\n",
        "    random.shuffle(sequential_data) \n",
        "\n",
        "    return sequential_data"
      ],
      "execution_count": 25,
      "outputs": []
    },
    {
      "cell_type": "code",
      "metadata": {
        "id": "cYl8DzRwBHcf",
        "colab_type": "code",
        "colab": {}
      },
      "source": [
        "train_sequences = preprocess(train_)\n",
        "test_sequences = preprocess(validation_)"
      ],
      "execution_count": 26,
      "outputs": []
    },
    {
      "cell_type": "code",
      "metadata": {
        "id": "phWNDb5hKSBN",
        "colab_type": "code",
        "colab": {
          "base_uri": "https://localhost:8080/",
          "height": 34
        },
        "outputId": "23bb0b1b-652c-46b9-8490-9115e06a0b35"
      },
      "source": [
        "import torch\n",
        "import torch.nn as nn\n",
        "import torch.optim as optim\n",
        "from torch.utils.data import DataLoader\n",
        "\n",
        "device = \"cuda\"\n",
        "\n",
        "torch.backends.cudnn.deterministic = True\n",
        "torch.backends.cudnn.benchmark = False\n",
        "np.random.seed(0)\n",
        "torch.manual_seed(0)"
      ],
      "execution_count": 27,
      "outputs": [
        {
          "output_type": "execute_result",
          "data": {
            "text/plain": [
              "<torch._C.Generator at 0x7f46ba5e2e30>"
            ]
          },
          "metadata": {
            "tags": []
          },
          "execution_count": 27
        }
      ]
    },
    {
      "cell_type": "markdown",
      "metadata": {
        "id": "nORrq1SKVIA_",
        "colab_type": "text"
      },
      "source": [
        "### Convert to Tensor"
      ]
    },
    {
      "cell_type": "code",
      "metadata": {
        "id": "s5hVqG4OjVAO",
        "colab_type": "code",
        "colab": {}
      },
      "source": [
        "def tensor_converter_e(sequence, label):\n",
        "  sequence = torch.tensor(sequence).to(device)\n",
        "  label_tensor = torch.tensor(label).to(device)\n",
        "  # label_tensor_zero = torch.zeros(1).to(device)\n",
        "\n",
        "  day_31 = torch.ones((1, 16), dtype=torch.double).to(device)\n",
        "\n",
        "  new_sequence = torch.cat([sequence, day_31], dim=0)\n",
        "  # print(new_sequence.shape)\n",
        "\n",
        "  return new_sequence, label_tensor.long()\n",
        "  # return new_sequence, label_tensor_zero.long()"
      ],
      "execution_count": 30,
      "outputs": []
    },
    {
      "cell_type": "code",
      "metadata": {
        "id": "RQdEaVkFjC1H",
        "colab_type": "code",
        "colab": {}
      },
      "source": [
        "train_sequences_tensor = [tensor_converter_e(seq, label) for seq, label in train_sequences]\n",
        "test_sequences_tensor = [tensor_converter_e(seq, label) for seq, label in test_sequences]"
      ],
      "execution_count": 31,
      "outputs": []
    },
    {
      "cell_type": "code",
      "metadata": {
        "id": "nMlTCo4wBk8v",
        "colab_type": "code",
        "colab": {}
      },
      "source": [
        "# from torch.utils.tensorboard import SummaryWriter\n",
        "\n",
        "# writer = SummaryWriter()"
      ],
      "execution_count": null,
      "outputs": []
    },
    {
      "cell_type": "markdown",
      "metadata": {
        "id": "JC9znVv_JmWk",
        "colab_type": "text"
      },
      "source": [
        "### Transformer Model"
      ]
    },
    {
      "cell_type": "code",
      "metadata": {
        "id": "NITfEz3jBbVg",
        "colab_type": "code",
        "colab": {}
      },
      "source": [
        "import math\n",
        "\n",
        "class PositionalEncoding(nn.Module):\n",
        "\n",
        "    def __init__(self, d_model=16, max_len=64):\n",
        "        super(PositionalEncoding, self).__init__()\n",
        "        \n",
        "        pe = torch.zeros(max_len, d_model)\n",
        "        position = torch.arange(0, max_len, dtype=torch.float).unsqueeze(1)\n",
        "        div_term = torch.exp(torch.arange(0, d_model, 2).float() * (-math.log(10000.0) / d_model))\n",
        "        pe[:, 0::2] = torch.sin(position * div_term)\n",
        "        pe[:, 1::2] = torch.cos(position * div_term)\n",
        "        pe = pe.unsqueeze(0).transpose(0, 1).to(device)\n",
        "        self.register_buffer('pe', pe)\n",
        "        print(pe.shape)\n",
        "\n",
        "    def forward(self, x):\n",
        "        x = x + self.pe[:x.shape[0]]\n",
        "        return x"
      ],
      "execution_count": 32,
      "outputs": []
    },
    {
      "cell_type": "code",
      "metadata": {
        "id": "qLasa41rBl7C",
        "colab_type": "code",
        "colab": {}
      },
      "source": [
        "class TransEncoder(nn.Module):\n",
        "\n",
        "  def __init__(self, hparams):\n",
        "    super(TransEncoder, self).__init__()\n",
        "\n",
        "    self.pos_encoder = PositionalEncoding()\n",
        "\n",
        "    self.input_projection = nn.Sequential(\n",
        "        nn.Linear(hparams.expected_features, hparams.dim_emb//2),\n",
        "        nn.Tanh(),\n",
        "        nn.Linear(hparams.dim_emb//2, hparams.dim_emb),\n",
        "    )\n",
        "    \n",
        "\n",
        "    encoder_layers = nn.TransformerEncoderLayer(hparams.dim_emb,\n",
        "                                                hparams.num_heads,\n",
        "                                                hparams.dim_feedforward,\n",
        "                                                hparams.dropout)\n",
        "    self.transformer_encoder = nn.TransformerEncoder(encoder_layers, hparams.nlayers)\n",
        "\n",
        "    # self.dropout = nn.Dropout(hparams.dropout)\n",
        "    self.classifier = nn.Linear(hparams.dim_emb, hparams.num_classes)\n",
        "    \n",
        "  def forward(self, src):\n",
        "    \n",
        "    T = src.shape[1]\n",
        "    src = src.transpose(0,1)\n",
        "    src = self.pos_encoder(src)\n",
        "    extended_src = self.input_projection(src)\n",
        "    o = self.transformer_encoder(extended_src, mask=torch.zeros(T, T).float().to(device))\n",
        "    output = self.classifier(o[-1])\n",
        "\n",
        "    return output"
      ],
      "execution_count": 33,
      "outputs": []
    },
    {
      "cell_type": "code",
      "metadata": {
        "id": "JubFEIUnBw0H",
        "colab_type": "code",
        "colab": {}
      },
      "source": [
        "class HParams():\n",
        "\n",
        "  expected_features = 16\n",
        "  num_heads = 4\n",
        "  dim_feedforward = 32\n",
        "  dim_emb = 64\n",
        "  dropout = 0.2\n",
        "  nlayers = 6\n",
        "  num_classes = 2\n",
        "\n",
        "params = HParams()"
      ],
      "execution_count": 35,
      "outputs": []
    },
    {
      "cell_type": "markdown",
      "metadata": {
        "id": "PZ_SRIPNCJr1",
        "colab_type": "text"
      },
      "source": [
        "### Trainer Class"
      ]
    },
    {
      "cell_type": "code",
      "metadata": {
        "id": "nKxMA4T0CGmM",
        "colab_type": "code",
        "colab": {}
      },
      "source": [
        "class Trainer():\n",
        "\n",
        "  def __init__(\n",
        "    self,\n",
        "    model: nn.Module,\n",
        "    loss_function,\n",
        "    optimizer):\n",
        "\n",
        "    self.model = model\n",
        "    self.loss_function = loss_function\n",
        "    self.optimizer = optimizer\n",
        "\n",
        "  def train(self, train_dataset, \n",
        "            valid_dataset, \n",
        "            epochs):\n",
        "\n",
        "    train_loss = 0.0\n",
        "    for epoch in range(epochs):\n",
        "      print(f'Epoch {epoch+1}')\n",
        "\n",
        "      epoch_loss = 0.0\n",
        "      self.model.train()\n",
        "\n",
        "      for step, sentence in enumerate(train_dataset):\n",
        "\n",
        "        tokens = sentence[0].float()\n",
        "        labels = sentence[1]\n",
        "\n",
        "        self.optimizer.zero_grad()\n",
        "\n",
        "        predictions = self.model(tokens)\n",
        "        # predictions = predictions.view(-1, predictions.shape[-1])\n",
        "        labels = labels.view(-1)\n",
        "\n",
        "        # print(len(predictions[0]))\n",
        "        # print('***********')\n",
        "        # print(len(predictions))\n",
        "        # print('***********')\n",
        "        # print(len(predictions[0][0]))\n",
        "        \n",
        "        temp_loss = self.loss_function(predictions, labels)\n",
        "\n",
        "        temp_loss.backward()\n",
        "        self.optimizer.step()\n",
        "\n",
        "        epoch_loss += temp_loss.tolist()\n",
        "\n",
        "        \n",
        "      avg_epoch_loss = epoch_loss / len(train_dataset)\n",
        "      train_loss += avg_epoch_loss\n",
        "\n",
        "      print(f'\\t[Epoch: {epoch+1}] Training Loss = {avg_epoch_loss}')\n",
        "      # writer.add_scalar(' Training Loss', avg_epoch_loss, epoch)\n",
        "\n",
        "      valid_loss = self.evaluate(valid_dataset)\n",
        "      \n",
        "      print(f'\\t[Epoch: {epoch+1}] Validation Loss = {valid_loss}')\n",
        "      # writer.add_scalar('Validation Loss', valid_loss, epoch)\n",
        "\n",
        "    print('Training has finished')\n",
        "    \n",
        "    avg_epoch_loss = train_loss / epochs\n",
        "\n",
        "    return avg_epoch_loss\n",
        "  \n",
        "\n",
        "  def evaluate(self, valid_dataset):\n",
        "\n",
        "    valid_loss = 0.0\n",
        "    self.model.eval()\n",
        "\n",
        "    with torch.no_grad():\n",
        "      for sentence in valid_dataset:\n",
        "        tokens = sentence[0].float()\n",
        "        labels = sentence[1]\n",
        "\n",
        "        predictions = self.model(tokens)\n",
        "        # predictions = predictions.view(-1, predictions.shape[-1])\n",
        "        labels = labels.view(-1)\n",
        "\n",
        "        temp_loss = self.loss_function(predictions, labels)\n",
        "        valid_loss += temp_loss.tolist()\n",
        "      \n",
        "    return valid_loss / len(valid_dataset)\n",
        "\n",
        "  def predict(self, x):\n",
        "\n",
        "    self.model.eval()\n",
        "    \n",
        "    with torch.no_grad():\n",
        "        logits = self.model(x)\n",
        "        predictions = torch.argmax(logits, -1)\n",
        "        return logits, predictions"
      ],
      "execution_count": 36,
      "outputs": []
    },
    {
      "cell_type": "markdown",
      "metadata": {
        "id": "HjjeMIaAVeNH",
        "colab_type": "text"
      },
      "source": [
        "### F-Score"
      ]
    },
    {
      "cell_type": "code",
      "metadata": {
        "id": "Fbc9ZMWGVf0f",
        "colab_type": "code",
        "colab": {
          "base_uri": "https://localhost:8080/",
          "height": 51
        },
        "outputId": "46fd2a13-161a-4cc0-c9dd-5a3c5c3e342f"
      },
      "source": [
        "from sklearn.metrics import confusion_matrix\n",
        "from sklearn.metrics import precision_score, recall_score, f1_score, accuracy_score\n",
        "\n",
        "import seaborn as sns"
      ],
      "execution_count": 37,
      "outputs": [
        {
          "output_type": "stream",
          "text": [
            "/usr/local/lib/python3.6/dist-packages/statsmodels/tools/_testing.py:19: FutureWarning: pandas.util.testing is deprecated. Use the functions in the public API at pandas.testing instead.\n",
            "  import pandas.util.testing as tm\n"
          ],
          "name": "stderr"
        }
      ]
    },
    {
      "cell_type": "code",
      "metadata": {
        "id": "DDp3wPcRVlRg",
        "colab_type": "code",
        "colab": {}
      },
      "source": [
        "def f_score(labels, predictions):\n",
        "  \n",
        "  print(f'# instances: {len(labels)}')\n",
        "\n",
        "  p = precision_score(labels, predictions, average='macro')\n",
        "  r = recall_score(labels, predictions, average='macro')\n",
        "  f = f1_score(labels, predictions, average='macro')\n",
        "\n",
        "  print(f'# precision: {p:.4f}')\n",
        "  print(f'# recall: {r:.4f}')\n",
        "  print(f'# f1: {f:.4f}')\n"
      ],
      "execution_count": 38,
      "outputs": []
    },
    {
      "cell_type": "markdown",
      "metadata": {
        "id": "Sy-InP9enKga",
        "colab_type": "text"
      },
      "source": [
        "### Confusion Matrix"
      ]
    },
    {
      "cell_type": "code",
      "metadata": {
        "id": "5XfjvMvInNu7",
        "colab_type": "code",
        "colab": {}
      },
      "source": [
        "def cm_plot(test_label, pred_labels):\n",
        "\n",
        "  label=[0, 1]\n",
        "\n",
        "  cm = confusion_matrix(test_label, pred_labels, label)\n",
        "  print(cm)\n",
        "\n",
        "  sum_col_cm = np.sum(cm, axis=1, keepdims=True)\n",
        "  acc_col_cm = (cm / sum_col_cm.astype(float))\n",
        "\n",
        "  acc_col_cm = [[round(x, 4) for x in xx] for xx in acc_col_cm]\n",
        "  acc_df = pd.DataFrame(data=acc_col_cm, index=label, columns=label)\n",
        "\n",
        "  acc_df.index.name = 'ACTUAL LABELS'\n",
        "  acc_df.columns.name = 'PREDICTED LABELS'\n",
        "  fig, ax = plt.subplots(figsize=(8,6))\n",
        "  sns.heatmap(acc_df, annot=acc_col_cm, annot_kws={\"size\": 15}, fmt='', ax=ax, cmap=\"YlGnBu\")\n",
        "  plt.show()"
      ],
      "execution_count": 39,
      "outputs": []
    },
    {
      "cell_type": "markdown",
      "metadata": {
        "id": "qIloIezEsAiR",
        "colab_type": "text"
      },
      "source": [
        "### Prepare Batch Data"
      ]
    },
    {
      "cell_type": "code",
      "metadata": {
        "id": "_bxdYQBdpAaz",
        "colab_type": "code",
        "colab": {}
      },
      "source": [
        "train_dataset = DataLoader(train_sequences_tensor, batch_size=64)\n",
        "valid_dataset = DataLoader(test_sequences_tensor, batch_size=64)"
      ],
      "execution_count": 40,
      "outputs": []
    },
    {
      "cell_type": "markdown",
      "metadata": {
        "id": "2-Aif9iXHCkm",
        "colab_type": "text"
      },
      "source": [
        "### Transformer Training"
      ]
    },
    {
      "cell_type": "code",
      "metadata": {
        "id": "83Mv_17fGtPS",
        "colab_type": "code",
        "tags": [],
        "colab": {
          "base_uri": "https://localhost:8080/",
          "height": 1000
        },
        "outputId": "0d3c3c2a-105c-473c-be1e-37f3b6af5612"
      },
      "source": [
        "model = TransEncoder(params).to(device)\n",
        "model"
      ],
      "execution_count": 41,
      "outputs": [
        {
          "output_type": "stream",
          "text": [
            "torch.Size([64, 1, 16])\n"
          ],
          "name": "stdout"
        },
        {
          "output_type": "execute_result",
          "data": {
            "text/plain": [
              "TransEncoder(\n",
              "  (pos_encoder): PositionalEncoding()\n",
              "  (input_projection): Sequential(\n",
              "    (0): Linear(in_features=16, out_features=32, bias=True)\n",
              "    (1): Tanh()\n",
              "    (2): Linear(in_features=32, out_features=64, bias=True)\n",
              "  )\n",
              "  (transformer_encoder): TransformerEncoder(\n",
              "    (layers): ModuleList(\n",
              "      (0): TransformerEncoderLayer(\n",
              "        (self_attn): MultiheadAttention(\n",
              "          (out_proj): Linear(in_features=64, out_features=64, bias=True)\n",
              "        )\n",
              "        (linear1): Linear(in_features=64, out_features=32, bias=True)\n",
              "        (dropout): Dropout(p=0.2, inplace=False)\n",
              "        (linear2): Linear(in_features=32, out_features=64, bias=True)\n",
              "        (norm1): LayerNorm((64,), eps=1e-05, elementwise_affine=True)\n",
              "        (norm2): LayerNorm((64,), eps=1e-05, elementwise_affine=True)\n",
              "        (dropout1): Dropout(p=0.2, inplace=False)\n",
              "        (dropout2): Dropout(p=0.2, inplace=False)\n",
              "      )\n",
              "      (1): TransformerEncoderLayer(\n",
              "        (self_attn): MultiheadAttention(\n",
              "          (out_proj): Linear(in_features=64, out_features=64, bias=True)\n",
              "        )\n",
              "        (linear1): Linear(in_features=64, out_features=32, bias=True)\n",
              "        (dropout): Dropout(p=0.2, inplace=False)\n",
              "        (linear2): Linear(in_features=32, out_features=64, bias=True)\n",
              "        (norm1): LayerNorm((64,), eps=1e-05, elementwise_affine=True)\n",
              "        (norm2): LayerNorm((64,), eps=1e-05, elementwise_affine=True)\n",
              "        (dropout1): Dropout(p=0.2, inplace=False)\n",
              "        (dropout2): Dropout(p=0.2, inplace=False)\n",
              "      )\n",
              "      (2): TransformerEncoderLayer(\n",
              "        (self_attn): MultiheadAttention(\n",
              "          (out_proj): Linear(in_features=64, out_features=64, bias=True)\n",
              "        )\n",
              "        (linear1): Linear(in_features=64, out_features=32, bias=True)\n",
              "        (dropout): Dropout(p=0.2, inplace=False)\n",
              "        (linear2): Linear(in_features=32, out_features=64, bias=True)\n",
              "        (norm1): LayerNorm((64,), eps=1e-05, elementwise_affine=True)\n",
              "        (norm2): LayerNorm((64,), eps=1e-05, elementwise_affine=True)\n",
              "        (dropout1): Dropout(p=0.2, inplace=False)\n",
              "        (dropout2): Dropout(p=0.2, inplace=False)\n",
              "      )\n",
              "      (3): TransformerEncoderLayer(\n",
              "        (self_attn): MultiheadAttention(\n",
              "          (out_proj): Linear(in_features=64, out_features=64, bias=True)\n",
              "        )\n",
              "        (linear1): Linear(in_features=64, out_features=32, bias=True)\n",
              "        (dropout): Dropout(p=0.2, inplace=False)\n",
              "        (linear2): Linear(in_features=32, out_features=64, bias=True)\n",
              "        (norm1): LayerNorm((64,), eps=1e-05, elementwise_affine=True)\n",
              "        (norm2): LayerNorm((64,), eps=1e-05, elementwise_affine=True)\n",
              "        (dropout1): Dropout(p=0.2, inplace=False)\n",
              "        (dropout2): Dropout(p=0.2, inplace=False)\n",
              "      )\n",
              "      (4): TransformerEncoderLayer(\n",
              "        (self_attn): MultiheadAttention(\n",
              "          (out_proj): Linear(in_features=64, out_features=64, bias=True)\n",
              "        )\n",
              "        (linear1): Linear(in_features=64, out_features=32, bias=True)\n",
              "        (dropout): Dropout(p=0.2, inplace=False)\n",
              "        (linear2): Linear(in_features=32, out_features=64, bias=True)\n",
              "        (norm1): LayerNorm((64,), eps=1e-05, elementwise_affine=True)\n",
              "        (norm2): LayerNorm((64,), eps=1e-05, elementwise_affine=True)\n",
              "        (dropout1): Dropout(p=0.2, inplace=False)\n",
              "        (dropout2): Dropout(p=0.2, inplace=False)\n",
              "      )\n",
              "      (5): TransformerEncoderLayer(\n",
              "        (self_attn): MultiheadAttention(\n",
              "          (out_proj): Linear(in_features=64, out_features=64, bias=True)\n",
              "        )\n",
              "        (linear1): Linear(in_features=64, out_features=32, bias=True)\n",
              "        (dropout): Dropout(p=0.2, inplace=False)\n",
              "        (linear2): Linear(in_features=32, out_features=64, bias=True)\n",
              "        (norm1): LayerNorm((64,), eps=1e-05, elementwise_affine=True)\n",
              "        (norm2): LayerNorm((64,), eps=1e-05, elementwise_affine=True)\n",
              "        (dropout1): Dropout(p=0.2, inplace=False)\n",
              "        (dropout2): Dropout(p=0.2, inplace=False)\n",
              "      )\n",
              "    )\n",
              "  )\n",
              "  (classifier): Linear(in_features=64, out_features=2, bias=True)\n",
              ")"
            ]
          },
          "metadata": {
            "tags": []
          },
          "execution_count": 41
        }
      ]
    },
    {
      "cell_type": "code",
      "metadata": {
        "id": "doEaU1fNHGuL",
        "colab_type": "code",
        "colab": {}
      },
      "source": [
        "trainer = Trainer(\n",
        "    model = model,\n",
        "    loss_function = nn.CrossEntropyLoss(),\n",
        "    optimizer = optim.Adam(model.parameters(), lr=5e-4),\n",
        ")"
      ],
      "execution_count": 43,
      "outputs": []
    },
    {
      "cell_type": "code",
      "metadata": {
        "id": "c1xmuEa8HO-q",
        "colab_type": "code",
        "tags": [],
        "colab": {
          "base_uri": "https://localhost:8080/",
          "height": 1000
        },
        "outputId": "2ddfcf90-b12c-459c-a069-19d0fd383e20"
      },
      "source": [
        "trainer.train(train_dataset, valid_dataset, 20)"
      ],
      "execution_count": 44,
      "outputs": [
        {
          "output_type": "stream",
          "text": [
            "Epoch 1\n",
            "\t[Epoch: 1] Training Loss = 0.6932833245328741\n",
            "\t[Epoch: 1] Validation Loss = 0.6877161153391296\n",
            "Epoch 2\n",
            "\t[Epoch: 2] Training Loss = 0.6845978421330698\n",
            "\t[Epoch: 2] Validation Loss = 0.6813722276220134\n",
            "Epoch 3\n",
            "\t[Epoch: 3] Training Loss = 0.6815797681023615\n",
            "\t[Epoch: 3] Validation Loss = 0.6804046490613151\n",
            "Epoch 4\n",
            "\t[Epoch: 4] Training Loss = 0.6795673949131067\n",
            "\t[Epoch: 4] Validation Loss = 0.6788384844275082\n",
            "Epoch 5\n",
            "\t[Epoch: 5] Training Loss = 0.6779868139983705\n",
            "\t[Epoch: 5] Validation Loss = 0.6766672163617378\n",
            "Epoch 6\n",
            "\t[Epoch: 6] Training Loss = 0.6763883994479604\n",
            "\t[Epoch: 6] Validation Loss = 0.6789653283708236\n",
            "Epoch 7\n",
            "\t[Epoch: 7] Training Loss = 0.6751884718118988\n",
            "\t[Epoch: 7] Validation Loss = 0.6771781526359857\n",
            "Epoch 8\n",
            "\t[Epoch: 8] Training Loss = 0.6757615347456488\n",
            "\t[Epoch: 8] Validation Loss = 0.6806588196286968\n",
            "Epoch 9\n",
            "\t[Epoch: 9] Training Loss = 0.6749219870962218\n",
            "\t[Epoch: 9] Validation Loss = 0.679875995014228\n",
            "Epoch 10\n",
            "\t[Epoch: 10] Training Loss = 0.673363990480115\n",
            "\t[Epoch: 10] Validation Loss = 0.674319738850874\n",
            "Epoch 11\n",
            "\t[Epoch: 11] Training Loss = 0.67232107826148\n",
            "\t[Epoch: 11] Validation Loss = 0.6746632579494926\n",
            "Epoch 12\n",
            "\t[Epoch: 12] Training Loss = 0.671561857866698\n",
            "\t[Epoch: 12] Validation Loss = 0.6727404489236719\n",
            "Epoch 13\n",
            "\t[Epoch: 13] Training Loss = 0.6714596320136487\n",
            "\t[Epoch: 13] Validation Loss = 0.6799172969425425\n",
            "Epoch 14\n",
            "\t[Epoch: 14] Training Loss = 0.6705514244411303\n",
            "\t[Epoch: 14] Validation Loss = 0.6724614536061007\n",
            "Epoch 15\n",
            "\t[Epoch: 15] Training Loss = 0.6694794861179455\n",
            "\t[Epoch: 15] Validation Loss = 0.6713756644258312\n",
            "Epoch 16\n",
            "\t[Epoch: 16] Training Loss = 0.6690264908793551\n",
            "\t[Epoch: 16] Validation Loss = 0.6696538744019527\n",
            "Epoch 17\n",
            "\t[Epoch: 17] Training Loss = 0.6688001938858388\n",
            "\t[Epoch: 17] Validation Loss = 0.6734302289345685\n",
            "Epoch 18\n",
            "\t[Epoch: 18] Training Loss = 0.6668958280150687\n",
            "\t[Epoch: 18] Validation Loss = 0.6736769033413307\n",
            "Epoch 19\n",
            "\t[Epoch: 19] Training Loss = 0.6660889167469728\n",
            "\t[Epoch: 19] Validation Loss = 0.6826743051117542\n",
            "Epoch 20\n",
            "\t[Epoch: 20] Training Loss = 0.666215192272056\n",
            "\t[Epoch: 20] Validation Loss = 0.6726809798502454\n",
            "Training has finished\n"
          ],
          "name": "stdout"
        },
        {
          "output_type": "execute_result",
          "data": {
            "text/plain": [
              "0.6742519813880911"
            ]
          },
          "metadata": {
            "tags": []
          },
          "execution_count": 44
        }
      ]
    },
    {
      "cell_type": "code",
      "metadata": {
        "id": "aCFKSVGX5I-Z",
        "colab_type": "code",
        "colab": {}
      },
      "source": [
        "model_save_name = 'tra_head2_layer2_model_drop_epoch20.pth'\n",
        "path = f\"/content/drive/My Drive/DeepLearning/models/{model_save_name}\" \n",
        "torch.save(model.state_dict(), path)"
      ],
      "execution_count": 60,
      "outputs": []
    },
    {
      "cell_type": "markdown",
      "metadata": {
        "id": "qLdXf6RwiVVz",
        "colab_type": "text"
      },
      "source": [
        "#### Test"
      ]
    },
    {
      "cell_type": "code",
      "metadata": {
        "id": "xPnyubT0hPrP",
        "colab_type": "code",
        "colab": {}
      },
      "source": [
        "predictions = []\n",
        "test_labels = []\n",
        "x = []\n",
        "for i in range(len(test_sequences_tensor)):\n",
        "\n",
        "  test_elem = test_sequences_tensor[i]\n",
        "  test_x, test_y = test_elem[0], test_elem[1]\n",
        "  x.append(test_x)\n",
        "  test_labels.append(test_y.tolist())\n",
        "x = torch.stack(x, dim=0).float()\n",
        "logits, predictions = trainer.predict(x)\n",
        "predictions = predictions.cpu()"
      ],
      "execution_count": 45,
      "outputs": []
    },
    {
      "cell_type": "code",
      "metadata": {
        "id": "wRepZofqkhgq",
        "colab_type": "code",
        "colab": {
          "base_uri": "https://localhost:8080/",
          "height": 34
        },
        "outputId": "1b1bad0c-7547-43d8-d101-419b9e366b5f"
      },
      "source": [
        "predictions[:20]"
      ],
      "execution_count": 46,
      "outputs": [
        {
          "output_type": "execute_result",
          "data": {
            "text/plain": [
              "tensor([0, 0, 1, 1, 1, 1, 0, 1, 0, 1, 1, 1, 1, 0, 0, 1, 0, 1, 1, 0])"
            ]
          },
          "metadata": {
            "tags": []
          },
          "execution_count": 46
        }
      ]
    },
    {
      "cell_type": "code",
      "metadata": {
        "id": "9ShWxpxw0PPP",
        "colab_type": "code",
        "colab": {
          "base_uri": "https://localhost:8080/",
          "height": 136
        },
        "outputId": "539c5e06-4313-4f6b-95bd-15abb04c5288"
      },
      "source": [
        "model(x)"
      ],
      "execution_count": 47,
      "outputs": [
        {
          "output_type": "execute_result",
          "data": {
            "text/plain": [
              "tensor([[-0.0248, -0.0388],\n",
              "        [ 0.0276, -0.0282],\n",
              "        [-0.0445, -0.0185],\n",
              "        ...,\n",
              "        [-0.0201, -0.0624],\n",
              "        [ 0.1177, -0.1827],\n",
              "        [-0.0082, -0.0532]], device='cuda:0', grad_fn=<AddmmBackward>)"
            ]
          },
          "metadata": {
            "tags": []
          },
          "execution_count": 47
        }
      ]
    },
    {
      "cell_type": "code",
      "metadata": {
        "id": "qOJlD42ik4BF",
        "colab_type": "code",
        "colab": {
          "base_uri": "https://localhost:8080/",
          "height": 34
        },
        "outputId": "7dafb295-65be-4daa-b7a7-c8bd068b0b64"
      },
      "source": [
        "test_labels[:20]"
      ],
      "execution_count": 48,
      "outputs": [
        {
          "output_type": "execute_result",
          "data": {
            "text/plain": [
              "[0, 0, 1, 1, 1, 0, 0, 1, 0, 1, 0, 0, 1, 0, 0, 1, 1, 1, 0, 1]"
            ]
          },
          "metadata": {
            "tags": []
          },
          "execution_count": 48
        }
      ]
    },
    {
      "cell_type": "code",
      "metadata": {
        "id": "7sxvsIEal07A",
        "colab_type": "code",
        "colab": {
          "base_uri": "https://localhost:8080/",
          "height": 85
        },
        "outputId": "30a771ec-dccc-48e5-d121-1645a97212e5"
      },
      "source": [
        "f_score(test_labels, predictions)"
      ],
      "execution_count": 49,
      "outputs": [
        {
          "output_type": "stream",
          "text": [
            "# instances: 6494\n",
            "# precision: 0.6097\n",
            "# recall: 0.5856\n",
            "# f1: 0.5616\n"
          ],
          "name": "stdout"
        }
      ]
    },
    {
      "cell_type": "code",
      "metadata": {
        "id": "xDZK36NxLZoL",
        "colab_type": "code",
        "colab": {
          "base_uri": "https://localhost:8080/",
          "height": 34
        },
        "outputId": "649e6d46-f9dc-48f5-90a0-d4e58125077b"
      },
      "source": [
        "accuracy_score(test_labels, predictions)"
      ],
      "execution_count": 43,
      "outputs": [
        {
          "output_type": "execute_result",
          "data": {
            "text/plain": [
              "0.5852832512315271"
            ]
          },
          "metadata": {
            "tags": []
          },
          "execution_count": 43
        }
      ]
    },
    {
      "cell_type": "code",
      "metadata": {
        "id": "-NHYJfjcoSKc",
        "colab_type": "code",
        "colab": {
          "base_uri": "https://localhost:8080/",
          "height": 422
        },
        "outputId": "cd759c5d-e9d3-4bee-ba4e-5ea398d6df0d"
      },
      "source": [
        "cm_plot(test_labels, predictions) "
      ],
      "execution_count": 50,
      "outputs": [
        {
          "output_type": "stream",
          "text": [
            "[[1141 2106]\n",
            " [ 585 2662]]\n"
          ],
          "name": "stdout"
        },
        {
          "output_type": "display_data",
          "data": {
            "image/png": "[encoded data removed]",
            "text/plain": [
              "<Figure size 576x432 with 2 Axes>"
            ]
          },
          "metadata": {
            "tags": [],
            "needs_background": "light"
          }
        }
      ]
    },
    {
      "cell_type": "code",
      "metadata": {
        "id": "0S7Vn84uKfmS",
        "colab_type": "code",
        "colab": {}
      },
      "source": [
        "# predictions_train_one = []\n",
        "# train_labels = []\n",
        "\n",
        "\n",
        "# for i in range(len(train_sequences_tensor)):\n",
        "\n",
        "#   train_elem = train_sequences_tensor[i]\n",
        "#   train_x, train_y = train_elem[0], train_elem[1]\n",
        "      \n",
        "#   logits, coded_pred = trainer.predict(train_x.unsqueeze(0))\n",
        "#   predictions_train_one.append(coded_pred[0].tolist()) \n",
        "#   train_labels.append(train_y.tolist())\n",
        "\n",
        "train_predictions = []\n",
        "train_labels = []\n",
        "x = []\n",
        "for i in range(len(train_sequences_tensor)):\n",
        "\n",
        "  train_elem = train_sequences_tensor[i]\n",
        "  train_x, train_y = train_elem[0], train_elem[1]\n",
        "  x.append(train_x)\n",
        "  train_labels.append(train_y.tolist())\n",
        "x = torch.stack(x, dim=0).float()\n",
        "logits, train_predictions = trainer.predict(x)\n",
        "train_predictions = train_predictions.cpu()"
      ],
      "execution_count": 51,
      "outputs": []
    },
    {
      "cell_type": "code",
      "metadata": {
        "id": "XDo8UyFpLQW9",
        "colab_type": "code",
        "colab": {
          "base_uri": "https://localhost:8080/",
          "height": 85
        },
        "outputId": "9dc0fac4-f9fd-4365-bc2e-215328325e29"
      },
      "source": [
        "f_score(train_labels, train_predictions)"
      ],
      "execution_count": 52,
      "outputs": [
        {
          "output_type": "stream",
          "text": [
            "# instances: 61768\n",
            "# precision: 0.6121\n",
            "# recall: 0.5888\n",
            "# f1: 0.5662\n"
          ],
          "name": "stdout"
        }
      ]
    },
    {
      "cell_type": "code",
      "metadata": {
        "id": "zRonSXs0LhR8",
        "colab_type": "code",
        "colab": {}
      },
      "source": [
        "# accuracy_score(train_labels, predictions_train_one)"
      ],
      "execution_count": null,
      "outputs": []
    }
  ]
}