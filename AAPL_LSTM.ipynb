{
  "nbformat": 4,
  "nbformat_minor": 0,
  "metadata": {
    "colab": {
      "name": "AAPL_Deep_Learning_Project.ipynb",
      "provenance": [],
      "collapsed_sections": [
        "3a_qJPLgA07L"
      ],
      "toc_visible": true
    },
    "kernelspec": {
      "name": "python3",
      "display_name": "Python 3"
    },
    "accelerator": "GPU"
  },
  "cells": [
    {
      "cell_type": "code",
      "metadata": {
        "id": "Yn9pquOj_xpQ",
        "colab_type": "code",
        "colab": {
          "base_uri": "https://localhost:8080/",
          "height": 34
        },
        "outputId": "2b017404-b35d-4c18-d880-14cdce17cc2f"
      },
      "source": [
        "from google.colab import drive\n",
        "drive.mount('/content/drive')"
      ],
      "execution_count": null,
      "outputs": [
        {
          "output_type": "stream",
          "text": [
            "Drive already mounted at /content/drive; to attempt to forcibly remount, call drive.mount(\"/content/drive\", force_remount=True).\n"
          ],
          "name": "stdout"
        }
      ]
    },
    {
      "cell_type": "code",
      "metadata": {
        "id": "ZEi-veir_9vd",
        "colab_type": "code",
        "colab": {}
      },
      "source": [
        "import datetime\n",
        "import numpy as np\n",
        "import pandas as pd\n",
        "from pprint import pprint\n",
        "\n",
        "\n",
        "import matplotlib.pyplot as plt\n",
        "%matplotlib inline"
      ],
      "execution_count": null,
      "outputs": []
    },
    {
      "cell_type": "code",
      "metadata": {
        "id": "d_pFMm8wAMkR",
        "colab_type": "code",
        "colab": {
          "base_uri": "https://localhost:8080/",
          "height": 34
        },
        "outputId": "1a12623f-67c0-4785-d598-7016130a40d4"
      },
      "source": [
        "aapl = pd.read_csv('/content/drive/My Drive/DeepLearning/AAPL.csv')\n",
        "aapl.shape"
      ],
      "execution_count": null,
      "outputs": [
        {
          "output_type": "execute_result",
          "data": {
            "text/plain": [
              "(9950, 7)"
            ]
          },
          "metadata": {
            "tags": []
          },
          "execution_count": 3
        }
      ]
    },
    {
      "cell_type": "code",
      "metadata": {
        "id": "mZc48HaCAVP_",
        "colab_type": "code",
        "colab": {
          "base_uri": "https://localhost:8080/",
          "height": 204
        },
        "outputId": "51ee1c83-4ccb-4720-d909-dd7521616d42"
      },
      "source": [
        "aapl.head()"
      ],
      "execution_count": null,
      "outputs": [
        {
          "output_type": "execute_result",
          "data": {
            "text/html": [
              "<div>\n",
              "<style scoped>\n",
              "    .dataframe tbody tr th:only-of-type {\n",
              "        vertical-align: middle;\n",
              "    }\n",
              "\n",
              "    .dataframe tbody tr th {\n",
              "        vertical-align: top;\n",
              "    }\n",
              "\n",
              "    .dataframe thead th {\n",
              "        text-align: right;\n",
              "    }\n",
              "</style>\n",
              "<table border=\"1\" class=\"dataframe\">\n",
              "  <thead>\n",
              "    <tr style=\"text-align: right;\">\n",
              "      <th></th>\n",
              "      <th>Date</th>\n",
              "      <th>Open</th>\n",
              "      <th>High</th>\n",
              "      <th>Low</th>\n",
              "      <th>Close</th>\n",
              "      <th>Adj Close</th>\n",
              "      <th>Volume</th>\n",
              "    </tr>\n",
              "  </thead>\n",
              "  <tbody>\n",
              "    <tr>\n",
              "      <th>0</th>\n",
              "      <td>1980-12-12</td>\n",
              "      <td>0.513393</td>\n",
              "      <td>0.515625</td>\n",
              "      <td>0.513393</td>\n",
              "      <td>0.513393</td>\n",
              "      <td>0.405683</td>\n",
              "      <td>117258400.0</td>\n",
              "    </tr>\n",
              "    <tr>\n",
              "      <th>1</th>\n",
              "      <td>1980-12-15</td>\n",
              "      <td>0.488839</td>\n",
              "      <td>0.488839</td>\n",
              "      <td>0.486607</td>\n",
              "      <td>0.486607</td>\n",
              "      <td>0.384517</td>\n",
              "      <td>43971200.0</td>\n",
              "    </tr>\n",
              "    <tr>\n",
              "      <th>2</th>\n",
              "      <td>1980-12-16</td>\n",
              "      <td>0.453125</td>\n",
              "      <td>0.453125</td>\n",
              "      <td>0.450893</td>\n",
              "      <td>0.450893</td>\n",
              "      <td>0.356296</td>\n",
              "      <td>26432000.0</td>\n",
              "    </tr>\n",
              "    <tr>\n",
              "      <th>3</th>\n",
              "      <td>1980-12-17</td>\n",
              "      <td>0.462054</td>\n",
              "      <td>0.464286</td>\n",
              "      <td>0.462054</td>\n",
              "      <td>0.462054</td>\n",
              "      <td>0.365115</td>\n",
              "      <td>21610400.0</td>\n",
              "    </tr>\n",
              "    <tr>\n",
              "      <th>4</th>\n",
              "      <td>1980-12-18</td>\n",
              "      <td>0.475446</td>\n",
              "      <td>0.477679</td>\n",
              "      <td>0.475446</td>\n",
              "      <td>0.475446</td>\n",
              "      <td>0.375698</td>\n",
              "      <td>18362400.0</td>\n",
              "    </tr>\n",
              "  </tbody>\n",
              "</table>\n",
              "</div>"
            ],
            "text/plain": [
              "         Date      Open      High       Low     Close  Adj Close       Volume\n",
              "0  1980-12-12  0.513393  0.515625  0.513393  0.513393   0.405683  117258400.0\n",
              "1  1980-12-15  0.488839  0.488839  0.486607  0.486607   0.384517   43971200.0\n",
              "2  1980-12-16  0.453125  0.453125  0.450893  0.450893   0.356296   26432000.0\n",
              "3  1980-12-17  0.462054  0.464286  0.462054  0.462054   0.365115   21610400.0\n",
              "4  1980-12-18  0.475446  0.477679  0.475446  0.475446   0.375698   18362400.0"
            ]
          },
          "metadata": {
            "tags": []
          },
          "execution_count": 4
        }
      ]
    },
    {
      "cell_type": "code",
      "metadata": {
        "id": "H48yVKS_GEu4",
        "colab_type": "code",
        "colab": {}
      },
      "source": [
        "# aapl['Date'] =  pd.to_datetime(aapl['Date'])"
      ],
      "execution_count": null,
      "outputs": []
    },
    {
      "cell_type": "code",
      "metadata": {
        "id": "iI04BiKFFDzi",
        "colab_type": "code",
        "colab": {
          "base_uri": "https://localhost:8080/",
          "height": 153
        },
        "outputId": "3ce52ca8-3d3b-4e51-9319-878d8d44397b"
      },
      "source": [
        "aapl.dtypes"
      ],
      "execution_count": null,
      "outputs": [
        {
          "output_type": "execute_result",
          "data": {
            "text/plain": [
              "Date          object\n",
              "Open         float64\n",
              "High         float64\n",
              "Low          float64\n",
              "Close        float64\n",
              "Adj Close    float64\n",
              "Volume       float64\n",
              "dtype: object"
            ]
          },
          "metadata": {
            "tags": []
          },
          "execution_count": 5
        }
      ]
    },
    {
      "cell_type": "code",
      "metadata": {
        "id": "8UbCaJvzAXmw",
        "colab_type": "code",
        "colab": {
          "base_uri": "https://localhost:8080/",
          "height": 34
        },
        "outputId": "00211355-1f03-41fe-fbf4-ff90b96abf68"
      },
      "source": [
        "# Counting null values\n",
        "aapl.isna().values.sum()"
      ],
      "execution_count": null,
      "outputs": [
        {
          "output_type": "execute_result",
          "data": {
            "text/plain": [
              "6"
            ]
          },
          "metadata": {
            "tags": []
          },
          "execution_count": 5
        }
      ]
    },
    {
      "cell_type": "code",
      "metadata": {
        "id": "3XQQxg70AZ1W",
        "colab_type": "code",
        "colab": {
          "base_uri": "https://localhost:8080/",
          "height": 34
        },
        "outputId": "d56863ae-2ea3-4958-b02f-52b65439e7e1"
      },
      "source": [
        "# Removing NaN\n",
        "aapl = aapl.dropna()\n",
        "aapl.isna().values.sum()"
      ],
      "execution_count": null,
      "outputs": [
        {
          "output_type": "execute_result",
          "data": {
            "text/plain": [
              "0"
            ]
          },
          "metadata": {
            "tags": []
          },
          "execution_count": 6
        }
      ]
    },
    {
      "cell_type": "code",
      "metadata": {
        "id": "iOAN8766Ezt-",
        "colab_type": "code",
        "colab": {
          "base_uri": "https://localhost:8080/",
          "height": 153
        },
        "outputId": "65a4dd27-a4e2-49f0-e0ee-4990a5910d37"
      },
      "source": [
        "aapl['Date'] = pd.to_datetime(aapl['Date']).astype(int)/ 10**9\n",
        "aapl.dtypes"
      ],
      "execution_count": null,
      "outputs": [
        {
          "output_type": "execute_result",
          "data": {
            "text/plain": [
              "Date         float64\n",
              "Open         float64\n",
              "High         float64\n",
              "Low          float64\n",
              "Close        float64\n",
              "Adj Close    float64\n",
              "Volume       float64\n",
              "dtype: object"
            ]
          },
          "metadata": {
            "tags": []
          },
          "execution_count": 7
        }
      ]
    },
    {
      "cell_type": "code",
      "metadata": {
        "id": "0frJLiNOGfDm",
        "colab_type": "code",
        "colab": {
          "base_uri": "https://localhost:8080/",
          "height": 204
        },
        "outputId": "8cbca9da-1a9e-4448-e5a2-0f6c16f7cc65"
      },
      "source": [
        "aapl.head()"
      ],
      "execution_count": null,
      "outputs": [
        {
          "output_type": "execute_result",
          "data": {
            "text/html": [
              "<div>\n",
              "<style scoped>\n",
              "    .dataframe tbody tr th:only-of-type {\n",
              "        vertical-align: middle;\n",
              "    }\n",
              "\n",
              "    .dataframe tbody tr th {\n",
              "        vertical-align: top;\n",
              "    }\n",
              "\n",
              "    .dataframe thead th {\n",
              "        text-align: right;\n",
              "    }\n",
              "</style>\n",
              "<table border=\"1\" class=\"dataframe\">\n",
              "  <thead>\n",
              "    <tr style=\"text-align: right;\">\n",
              "      <th></th>\n",
              "      <th>Date</th>\n",
              "      <th>Open</th>\n",
              "      <th>High</th>\n",
              "      <th>Low</th>\n",
              "      <th>Close</th>\n",
              "      <th>Adj Close</th>\n",
              "      <th>Volume</th>\n",
              "    </tr>\n",
              "  </thead>\n",
              "  <tbody>\n",
              "    <tr>\n",
              "      <th>0</th>\n",
              "      <td>345427200.0</td>\n",
              "      <td>0.513393</td>\n",
              "      <td>0.515625</td>\n",
              "      <td>0.513393</td>\n",
              "      <td>0.513393</td>\n",
              "      <td>0.405683</td>\n",
              "      <td>117258400.0</td>\n",
              "    </tr>\n",
              "    <tr>\n",
              "      <th>1</th>\n",
              "      <td>345686400.0</td>\n",
              "      <td>0.488839</td>\n",
              "      <td>0.488839</td>\n",
              "      <td>0.486607</td>\n",
              "      <td>0.486607</td>\n",
              "      <td>0.384517</td>\n",
              "      <td>43971200.0</td>\n",
              "    </tr>\n",
              "    <tr>\n",
              "      <th>2</th>\n",
              "      <td>345772800.0</td>\n",
              "      <td>0.453125</td>\n",
              "      <td>0.453125</td>\n",
              "      <td>0.450893</td>\n",
              "      <td>0.450893</td>\n",
              "      <td>0.356296</td>\n",
              "      <td>26432000.0</td>\n",
              "    </tr>\n",
              "    <tr>\n",
              "      <th>3</th>\n",
              "      <td>345859200.0</td>\n",
              "      <td>0.462054</td>\n",
              "      <td>0.464286</td>\n",
              "      <td>0.462054</td>\n",
              "      <td>0.462054</td>\n",
              "      <td>0.365115</td>\n",
              "      <td>21610400.0</td>\n",
              "    </tr>\n",
              "    <tr>\n",
              "      <th>4</th>\n",
              "      <td>345945600.0</td>\n",
              "      <td>0.475446</td>\n",
              "      <td>0.477679</td>\n",
              "      <td>0.475446</td>\n",
              "      <td>0.475446</td>\n",
              "      <td>0.375698</td>\n",
              "      <td>18362400.0</td>\n",
              "    </tr>\n",
              "  </tbody>\n",
              "</table>\n",
              "</div>"
            ],
            "text/plain": [
              "          Date      Open      High       Low     Close  Adj Close       Volume\n",
              "0  345427200.0  0.513393  0.515625  0.513393  0.513393   0.405683  117258400.0\n",
              "1  345686400.0  0.488839  0.488839  0.486607  0.486607   0.384517   43971200.0\n",
              "2  345772800.0  0.453125  0.453125  0.450893  0.450893   0.356296   26432000.0\n",
              "3  345859200.0  0.462054  0.464286  0.462054  0.462054   0.365115   21610400.0\n",
              "4  345945600.0  0.475446  0.477679  0.475446  0.475446   0.375698   18362400.0"
            ]
          },
          "metadata": {
            "tags": []
          },
          "execution_count": 8
        }
      ]
    },
    {
      "cell_type": "code",
      "metadata": {
        "id": "D8O1jB2CAac_",
        "colab_type": "code",
        "colab": {}
      },
      "source": [
        "def technical_indicators(dataset):\n",
        "\n",
        "    adjClose = dataset['Adj Close']\n",
        "\n",
        "    # Create 7 and 21 days Moving Average\n",
        "    dataset['ma7'] = adjClose.rolling(window=7).mean()\n",
        "    dataset['ma21'] = adjClose.rolling(window=21).mean()\n",
        "    \n",
        "    # Create MACD\n",
        "    dataset['26ema'] = adjClose.ewm(span=26).mean()\n",
        "    dataset['12ema'] = adjClose.ewm(span=12).mean()\n",
        "    dataset['MACD'] = (dataset['12ema']-dataset['26ema'])\n",
        "\n",
        "    # Create Bollinger Bands\n",
        "    dataset['20sd'] = adjClose.rolling(window=20,center=False).std() \n",
        "    dataset['upper_band'] = dataset['ma21'] + (dataset['20sd']*2)\n",
        "    dataset['lower_band'] = dataset['ma21'] - (dataset['20sd']*2)\n",
        "    \n",
        "    # Create Exponential moving average\n",
        "    dataset['ema'] = adjClose.ewm(com=0.5).mean()\n",
        "    \n",
        "    # Create RSI\n",
        "    delta = adjClose.diff()\n",
        "    delta = delta[1:] \n",
        "\n",
        "    up, down = delta.copy(), delta.copy()\n",
        "    up[up < 0] = 0\n",
        "    down[down > 0] = 0\n",
        "\n",
        "    # Calculate the SMA\n",
        "    roll_up = up.rolling(14).mean()\n",
        "    roll_down = down.abs().rolling(14).mean()\n",
        "\n",
        "    # Calculate the RSI based on SMA\n",
        "    RS = roll_up / roll_down\n",
        "    dataset['RSI'] = 100.0 - (100.0 / (1.0 + RS))\n",
        "    \n",
        "    return dataset"
      ],
      "execution_count": null,
      "outputs": []
    },
    {
      "cell_type": "code",
      "metadata": {
        "id": "nWyXpiWUAe94",
        "colab_type": "code",
        "colab": {}
      },
      "source": [
        "aapl_t = technical_indicators(aapl)"
      ],
      "execution_count": null,
      "outputs": []
    },
    {
      "cell_type": "code",
      "metadata": {
        "id": "6qO9j84oAhMw",
        "colab_type": "code",
        "colab": {
          "base_uri": "https://localhost:8080/",
          "height": 204
        },
        "outputId": "35d22968-9f9b-44f1-efdd-8557f31d37d9"
      },
      "source": [
        "# Remove the first 20 values in order to have no NaN\n",
        "aapl_t = aapl_t[20:]\n",
        "aapl_t.head()"
      ],
      "execution_count": null,
      "outputs": [
        {
          "output_type": "execute_result",
          "data": {
            "text/html": [
              "<div>\n",
              "<style scoped>\n",
              "    .dataframe tbody tr th:only-of-type {\n",
              "        vertical-align: middle;\n",
              "    }\n",
              "\n",
              "    .dataframe tbody tr th {\n",
              "        vertical-align: top;\n",
              "    }\n",
              "\n",
              "    .dataframe thead th {\n",
              "        text-align: right;\n",
              "    }\n",
              "</style>\n",
              "<table border=\"1\" class=\"dataframe\">\n",
              "  <thead>\n",
              "    <tr style=\"text-align: right;\">\n",
              "      <th></th>\n",
              "      <th>Date</th>\n",
              "      <th>Open</th>\n",
              "      <th>High</th>\n",
              "      <th>Low</th>\n",
              "      <th>Close</th>\n",
              "      <th>Adj Close</th>\n",
              "      <th>Volume</th>\n",
              "      <th>ma7</th>\n",
              "      <th>ma21</th>\n",
              "      <th>26ema</th>\n",
              "      <th>12ema</th>\n",
              "      <th>MACD</th>\n",
              "      <th>20sd</th>\n",
              "      <th>upper_band</th>\n",
              "      <th>lower_band</th>\n",
              "      <th>ema</th>\n",
              "      <th>RSI</th>\n",
              "    </tr>\n",
              "  </thead>\n",
              "  <tbody>\n",
              "    <tr>\n",
              "      <th>20</th>\n",
              "      <td>348192000.0</td>\n",
              "      <td>0.546875</td>\n",
              "      <td>0.546875</td>\n",
              "      <td>0.544643</td>\n",
              "      <td>0.544643</td>\n",
              "      <td>0.430377</td>\n",
              "      <td>5762400.0</td>\n",
              "      <td>0.445748</td>\n",
              "      <td>0.437684</td>\n",
              "      <td>0.445946</td>\n",
              "      <td>0.448352</td>\n",
              "      <td>0.002405</td>\n",
              "      <td>0.045701</td>\n",
              "      <td>0.529086</td>\n",
              "      <td>0.346283</td>\n",
              "      <td>0.435434</td>\n",
              "      <td>52.755916</td>\n",
              "    </tr>\n",
              "    <tr>\n",
              "      <th>21</th>\n",
              "      <td>348278400.0</td>\n",
              "      <td>0.546875</td>\n",
              "      <td>0.549107</td>\n",
              "      <td>0.546875</td>\n",
              "      <td>0.546875</td>\n",
              "      <td>0.432141</td>\n",
              "      <td>3572800.0</td>\n",
              "      <td>0.439448</td>\n",
              "      <td>0.438944</td>\n",
              "      <td>0.444693</td>\n",
              "      <td>0.445793</td>\n",
              "      <td>0.001100</td>\n",
              "      <td>0.043902</td>\n",
              "      <td>0.526749</td>\n",
              "      <td>0.351140</td>\n",
              "      <td>0.433239</td>\n",
              "      <td>49.152469</td>\n",
              "    </tr>\n",
              "    <tr>\n",
              "      <th>22</th>\n",
              "      <td>348364800.0</td>\n",
              "      <td>0.558036</td>\n",
              "      <td>0.562500</td>\n",
              "      <td>0.558036</td>\n",
              "      <td>0.558036</td>\n",
              "      <td>0.440960</td>\n",
              "      <td>3516800.0</td>\n",
              "      <td>0.437432</td>\n",
              "      <td>0.441632</td>\n",
              "      <td>0.444360</td>\n",
              "      <td>0.445033</td>\n",
              "      <td>0.000673</td>\n",
              "      <td>0.039051</td>\n",
              "      <td>0.519734</td>\n",
              "      <td>0.363530</td>\n",
              "      <td>0.438386</td>\n",
              "      <td>45.454405</td>\n",
              "    </tr>\n",
              "    <tr>\n",
              "      <th>23</th>\n",
              "      <td>348451200.0</td>\n",
              "      <td>0.555804</td>\n",
              "      <td>0.555804</td>\n",
              "      <td>0.553571</td>\n",
              "      <td>0.553571</td>\n",
              "      <td>0.437432</td>\n",
              "      <td>3348800.0</td>\n",
              "      <td>0.437684</td>\n",
              "      <td>0.445496</td>\n",
              "      <td>0.443751</td>\n",
              "      <td>0.443842</td>\n",
              "      <td>0.000091</td>\n",
              "      <td>0.034227</td>\n",
              "      <td>0.513950</td>\n",
              "      <td>0.377041</td>\n",
              "      <td>0.437750</td>\n",
              "      <td>29.545352</td>\n",
              "    </tr>\n",
              "    <tr>\n",
              "      <th>24</th>\n",
              "      <td>348710400.0</td>\n",
              "      <td>0.587054</td>\n",
              "      <td>0.589286</td>\n",
              "      <td>0.587054</td>\n",
              "      <td>0.587054</td>\n",
              "      <td>0.463890</td>\n",
              "      <td>10393600.0</td>\n",
              "      <td>0.442976</td>\n",
              "      <td>0.450199</td>\n",
              "      <td>0.445498</td>\n",
              "      <td>0.446975</td>\n",
              "      <td>0.001477</td>\n",
              "      <td>0.029583</td>\n",
              "      <td>0.509365</td>\n",
              "      <td>0.391034</td>\n",
              "      <td>0.455177</td>\n",
              "      <td>37.373870</td>\n",
              "    </tr>\n",
              "  </tbody>\n",
              "</table>\n",
              "</div>"
            ],
            "text/plain": [
              "           Date      Open      High  ...  lower_band       ema        RSI\n",
              "20  348192000.0  0.546875  0.546875  ...    0.346283  0.435434  52.755916\n",
              "21  348278400.0  0.546875  0.549107  ...    0.351140  0.433239  49.152469\n",
              "22  348364800.0  0.558036  0.562500  ...    0.363530  0.438386  45.454405\n",
              "23  348451200.0  0.555804  0.555804  ...    0.377041  0.437750  29.545352\n",
              "24  348710400.0  0.587054  0.589286  ...    0.391034  0.455177  37.373870\n",
              "\n",
              "[5 rows x 17 columns]"
            ]
          },
          "metadata": {
            "tags": []
          },
          "execution_count": 80
        }
      ]
    },
    {
      "cell_type": "code",
      "metadata": {
        "id": "0E8zIfl8AkaR",
        "colab_type": "code",
        "colab": {}
      },
      "source": [
        "SEQ_LEQ = 24\n",
        "FORECAST_PERIOD = 1"
      ],
      "execution_count": null,
      "outputs": []
    },
    {
      "cell_type": "code",
      "metadata": {
        "id": "AHJibycVAn_Y",
        "colab_type": "code",
        "colab": {}
      },
      "source": [
        "def classify(current, future):\n",
        "    if float(future) > float(current):\n",
        "        return 1\n",
        "    else:\n",
        "        return 0"
      ],
      "execution_count": null,
      "outputs": []
    },
    {
      "cell_type": "code",
      "metadata": {
        "id": "6MgsYaxtAqS3",
        "colab_type": "code",
        "colab": {}
      },
      "source": [
        "aapl['Future'] = aapl['Adj Close'].shift(-FORECAST_PERIOD)"
      ],
      "execution_count": null,
      "outputs": []
    },
    {
      "cell_type": "code",
      "metadata": {
        "id": "1c745DyuArQl",
        "colab_type": "code",
        "colab": {}
      },
      "source": [
        "aapl['Label'] = list(map(classify, aapl['Adj Close'], aapl['Future']))"
      ],
      "execution_count": null,
      "outputs": []
    },
    {
      "cell_type": "code",
      "metadata": {
        "id": "lwvSx0-cAwK4",
        "colab_type": "code",
        "colab": {
          "base_uri": "https://localhost:8080/",
          "height": 204
        },
        "outputId": "c80a7587-d548-4b5d-8bdb-6ad41df5a1f7"
      },
      "source": [
        "aapl.head()"
      ],
      "execution_count": null,
      "outputs": [
        {
          "output_type": "execute_result",
          "data": {
            "text/html": [
              "<div>\n",
              "<style scoped>\n",
              "    .dataframe tbody tr th:only-of-type {\n",
              "        vertical-align: middle;\n",
              "    }\n",
              "\n",
              "    .dataframe tbody tr th {\n",
              "        vertical-align: top;\n",
              "    }\n",
              "\n",
              "    .dataframe thead th {\n",
              "        text-align: right;\n",
              "    }\n",
              "</style>\n",
              "<table border=\"1\" class=\"dataframe\">\n",
              "  <thead>\n",
              "    <tr style=\"text-align: right;\">\n",
              "      <th></th>\n",
              "      <th>Date</th>\n",
              "      <th>Open</th>\n",
              "      <th>High</th>\n",
              "      <th>Low</th>\n",
              "      <th>Close</th>\n",
              "      <th>Adj Close</th>\n",
              "      <th>Volume</th>\n",
              "      <th>Future</th>\n",
              "      <th>Label</th>\n",
              "    </tr>\n",
              "  </thead>\n",
              "  <tbody>\n",
              "    <tr>\n",
              "      <th>0</th>\n",
              "      <td>345427200.0</td>\n",
              "      <td>0.513393</td>\n",
              "      <td>0.515625</td>\n",
              "      <td>0.513393</td>\n",
              "      <td>0.513393</td>\n",
              "      <td>0.405683</td>\n",
              "      <td>117258400.0</td>\n",
              "      <td>0.384517</td>\n",
              "      <td>0</td>\n",
              "    </tr>\n",
              "    <tr>\n",
              "      <th>1</th>\n",
              "      <td>345686400.0</td>\n",
              "      <td>0.488839</td>\n",
              "      <td>0.488839</td>\n",
              "      <td>0.486607</td>\n",
              "      <td>0.486607</td>\n",
              "      <td>0.384517</td>\n",
              "      <td>43971200.0</td>\n",
              "      <td>0.356296</td>\n",
              "      <td>0</td>\n",
              "    </tr>\n",
              "    <tr>\n",
              "      <th>2</th>\n",
              "      <td>345772800.0</td>\n",
              "      <td>0.453125</td>\n",
              "      <td>0.453125</td>\n",
              "      <td>0.450893</td>\n",
              "      <td>0.450893</td>\n",
              "      <td>0.356296</td>\n",
              "      <td>26432000.0</td>\n",
              "      <td>0.365115</td>\n",
              "      <td>1</td>\n",
              "    </tr>\n",
              "    <tr>\n",
              "      <th>3</th>\n",
              "      <td>345859200.0</td>\n",
              "      <td>0.462054</td>\n",
              "      <td>0.464286</td>\n",
              "      <td>0.462054</td>\n",
              "      <td>0.462054</td>\n",
              "      <td>0.365115</td>\n",
              "      <td>21610400.0</td>\n",
              "      <td>0.375698</td>\n",
              "      <td>1</td>\n",
              "    </tr>\n",
              "    <tr>\n",
              "      <th>4</th>\n",
              "      <td>345945600.0</td>\n",
              "      <td>0.475446</td>\n",
              "      <td>0.477679</td>\n",
              "      <td>0.475446</td>\n",
              "      <td>0.475446</td>\n",
              "      <td>0.375698</td>\n",
              "      <td>18362400.0</td>\n",
              "      <td>0.398628</td>\n",
              "      <td>1</td>\n",
              "    </tr>\n",
              "  </tbody>\n",
              "</table>\n",
              "</div>"
            ],
            "text/plain": [
              "          Date      Open      High  ...       Volume    Future  Label\n",
              "0  345427200.0  0.513393  0.515625  ...  117258400.0  0.384517      0\n",
              "1  345686400.0  0.488839  0.488839  ...   43971200.0  0.356296      0\n",
              "2  345772800.0  0.453125  0.453125  ...   26432000.0  0.365115      1\n",
              "3  345859200.0  0.462054  0.464286  ...   21610400.0  0.375698      1\n",
              "4  345945600.0  0.475446  0.477679  ...   18362400.0  0.398628      1\n",
              "\n",
              "[5 rows x 9 columns]"
            ]
          },
          "metadata": {
            "tags": []
          },
          "execution_count": 13
        }
      ]
    },
    {
      "cell_type": "code",
      "metadata": {
        "id": "-kMdxf0IlBo8",
        "colab_type": "code",
        "colab": {
          "base_uri": "https://localhost:8080/",
          "height": 204
        },
        "outputId": "a2b12ce2-37fa-4e54-d267-7c796459a1a5"
      },
      "source": [
        "aapl_s = aapl[['Date', 'Adj Close', 'Volume', 'Label']]\n",
        "aapl_s.head()"
      ],
      "execution_count": null,
      "outputs": [
        {
          "output_type": "execute_result",
          "data": {
            "text/html": [
              "<div>\n",
              "<style scoped>\n",
              "    .dataframe tbody tr th:only-of-type {\n",
              "        vertical-align: middle;\n",
              "    }\n",
              "\n",
              "    .dataframe tbody tr th {\n",
              "        vertical-align: top;\n",
              "    }\n",
              "\n",
              "    .dataframe thead th {\n",
              "        text-align: right;\n",
              "    }\n",
              "</style>\n",
              "<table border=\"1\" class=\"dataframe\">\n",
              "  <thead>\n",
              "    <tr style=\"text-align: right;\">\n",
              "      <th></th>\n",
              "      <th>Date</th>\n",
              "      <th>Adj Close</th>\n",
              "      <th>Volume</th>\n",
              "      <th>Label</th>\n",
              "    </tr>\n",
              "  </thead>\n",
              "  <tbody>\n",
              "    <tr>\n",
              "      <th>0</th>\n",
              "      <td>345427200.0</td>\n",
              "      <td>0.405683</td>\n",
              "      <td>117258400.0</td>\n",
              "      <td>0</td>\n",
              "    </tr>\n",
              "    <tr>\n",
              "      <th>1</th>\n",
              "      <td>345686400.0</td>\n",
              "      <td>0.384517</td>\n",
              "      <td>43971200.0</td>\n",
              "      <td>0</td>\n",
              "    </tr>\n",
              "    <tr>\n",
              "      <th>2</th>\n",
              "      <td>345772800.0</td>\n",
              "      <td>0.356296</td>\n",
              "      <td>26432000.0</td>\n",
              "      <td>1</td>\n",
              "    </tr>\n",
              "    <tr>\n",
              "      <th>3</th>\n",
              "      <td>345859200.0</td>\n",
              "      <td>0.365115</td>\n",
              "      <td>21610400.0</td>\n",
              "      <td>1</td>\n",
              "    </tr>\n",
              "    <tr>\n",
              "      <th>4</th>\n",
              "      <td>345945600.0</td>\n",
              "      <td>0.375698</td>\n",
              "      <td>18362400.0</td>\n",
              "      <td>1</td>\n",
              "    </tr>\n",
              "  </tbody>\n",
              "</table>\n",
              "</div>"
            ],
            "text/plain": [
              "          Date  Adj Close       Volume  Label\n",
              "0  345427200.0   0.405683  117258400.0      0\n",
              "1  345686400.0   0.384517   43971200.0      0\n",
              "2  345772800.0   0.356296   26432000.0      1\n",
              "3  345859200.0   0.365115   21610400.0      1\n",
              "4  345945600.0   0.375698   18362400.0      1"
            ]
          },
          "metadata": {
            "tags": []
          },
          "execution_count": 14
        }
      ]
    },
    {
      "cell_type": "markdown",
      "metadata": {
        "id": "3a_qJPLgA07L",
        "colab_type": "text"
      },
      "source": [
        "### Creating Sequences"
      ]
    },
    {
      "cell_type": "code",
      "metadata": {
        "id": "oAKm4cYOAxxX",
        "colab_type": "code",
        "colab": {}
      },
      "source": [
        "aapl_s = aapl_s.set_index(['Date'])"
      ],
      "execution_count": null,
      "outputs": []
    },
    {
      "cell_type": "code",
      "metadata": {
        "id": "7rVhP4enA7_s",
        "colab_type": "code",
        "colab": {}
      },
      "source": [
        "train_samples = int(aapl_s.shape[0] * 0.9)\n",
        "\n",
        "train_aapl = aapl_s.iloc[:train_samples]\n",
        "validation_aapl = aapl_s.iloc[train_samples:]"
      ],
      "execution_count": null,
      "outputs": []
    },
    {
      "cell_type": "code",
      "metadata": {
        "id": "JS3V486aA-Ja",
        "colab_type": "code",
        "colab": {
          "base_uri": "https://localhost:8080/",
          "height": 235
        },
        "outputId": "d6cc0186-736a-4f95-bb1b-5013832a7ea3"
      },
      "source": [
        "train_aapl.head()"
      ],
      "execution_count": null,
      "outputs": [
        {
          "output_type": "execute_result",
          "data": {
            "text/html": [
              "<div>\n",
              "<style scoped>\n",
              "    .dataframe tbody tr th:only-of-type {\n",
              "        vertical-align: middle;\n",
              "    }\n",
              "\n",
              "    .dataframe tbody tr th {\n",
              "        vertical-align: top;\n",
              "    }\n",
              "\n",
              "    .dataframe thead th {\n",
              "        text-align: right;\n",
              "    }\n",
              "</style>\n",
              "<table border=\"1\" class=\"dataframe\">\n",
              "  <thead>\n",
              "    <tr style=\"text-align: right;\">\n",
              "      <th></th>\n",
              "      <th>Adj Close</th>\n",
              "      <th>Volume</th>\n",
              "      <th>Label</th>\n",
              "    </tr>\n",
              "    <tr>\n",
              "      <th>Date</th>\n",
              "      <th></th>\n",
              "      <th></th>\n",
              "      <th></th>\n",
              "    </tr>\n",
              "  </thead>\n",
              "  <tbody>\n",
              "    <tr>\n",
              "      <th>345427200.0</th>\n",
              "      <td>NaN</td>\n",
              "      <td>117258400.0</td>\n",
              "      <td>0</td>\n",
              "    </tr>\n",
              "    <tr>\n",
              "      <th>345686400.0</th>\n",
              "      <td>-0.052174</td>\n",
              "      <td>43971200.0</td>\n",
              "      <td>0</td>\n",
              "    </tr>\n",
              "    <tr>\n",
              "      <th>345772800.0</th>\n",
              "      <td>-0.073393</td>\n",
              "      <td>26432000.0</td>\n",
              "      <td>1</td>\n",
              "    </tr>\n",
              "    <tr>\n",
              "      <th>345859200.0</th>\n",
              "      <td>0.024752</td>\n",
              "      <td>21610400.0</td>\n",
              "      <td>1</td>\n",
              "    </tr>\n",
              "    <tr>\n",
              "      <th>345945600.0</th>\n",
              "      <td>0.028985</td>\n",
              "      <td>18362400.0</td>\n",
              "      <td>1</td>\n",
              "    </tr>\n",
              "  </tbody>\n",
              "</table>\n",
              "</div>"
            ],
            "text/plain": [
              "             Adj Close       Volume  Label\n",
              "Date                                      \n",
              "345427200.0        NaN  117258400.0      0\n",
              "345686400.0  -0.052174   43971200.0      0\n",
              "345772800.0  -0.073393   26432000.0      1\n",
              "345859200.0   0.024752   21610400.0      1\n",
              "345945600.0   0.028985   18362400.0      1"
            ]
          },
          "metadata": {
            "tags": []
          },
          "execution_count": 43
        }
      ]
    },
    {
      "cell_type": "code",
      "metadata": {
        "id": "P330SARIBDVG",
        "colab_type": "code",
        "colab": {}
      },
      "source": [
        "import random\n",
        "from collections import deque\n",
        "from sklearn import preprocessing"
      ],
      "execution_count": null,
      "outputs": []
    },
    {
      "cell_type": "code",
      "metadata": {
        "id": "vyCeg8NYBFSW",
        "colab_type": "code",
        "colab": {}
      },
      "source": [
        "def preprocess(df):\n",
        "\n",
        "    # df = df.drop('Future', 1)\n",
        "\n",
        "    # for col in df.columns: \n",
        "    #     if col != 'Label': \n",
        "    #         df[col] = df[col].pct_change() \n",
        "    #         df.dropna(inplace=True) \n",
        "    #         df[col] = preprocessing.scale(df[col].values)\n",
        "\n",
        "    df.dropna(inplace=True)\n",
        "\n",
        "    sequential_data = [] \n",
        "    prev_days = deque(maxlen=SEQ_LEQ)\n",
        "\n",
        "    for i in df.values:\n",
        "      prev_days.append([n for n in i[:-1]]) \n",
        "      if len(prev_days) == SEQ_LEQ: \n",
        "        sequential_data.append([np.array(prev_days), i[-1]]) \n",
        "\n",
        "    random.shuffle(sequential_data)\n",
        "\n",
        "    ups = [] \n",
        "    downs = []  \n",
        "\n",
        "    for seq, label in sequential_data: \n",
        "        if label == 1:  \n",
        "            ups.append([seq, label]) \n",
        "        elif label == 0:\n",
        "            downs.append([seq, label]) \n",
        "\n",
        "    random.shuffle(downs) \n",
        "    random.shuffle(ups)\n",
        "\n",
        "    lower = min(len(downs), len(ups))\n",
        "\n",
        "    ups = ups[:lower]  \n",
        "    downs = downs[:lower]\n",
        "\n",
        "    sequential_data = ups+downs  \n",
        "    random.shuffle(sequential_data) \n",
        "\n",
        "    return sequential_data"
      ],
      "execution_count": null,
      "outputs": []
    },
    {
      "cell_type": "code",
      "metadata": {
        "id": "cYl8DzRwBHcf",
        "colab_type": "code",
        "colab": {
          "base_uri": "https://localhost:8080/",
          "height": 102
        },
        "outputId": "6b05e067-1007-44a3-a4cb-b5639c2243d4"
      },
      "source": [
        "train_sequences_1 = preprocess(train_aapl)\n",
        "test_sequences_1 = preprocess(validation_aapl)"
      ],
      "execution_count": null,
      "outputs": [
        {
          "output_type": "stream",
          "text": [
            "/usr/local/lib/python3.6/dist-packages/ipykernel_launcher.py:11: SettingWithCopyWarning: \n",
            "A value is trying to be set on a copy of a slice from a DataFrame\n",
            "\n",
            "See the caveats in the documentation: https://pandas.pydata.org/pandas-docs/stable/user_guide/indexing.html#returning-a-view-versus-a-copy\n",
            "  # This is added back by InteractiveShellApp.init_path()\n"
          ],
          "name": "stderr"
        }
      ]
    },
    {
      "cell_type": "code",
      "metadata": {
        "id": "phWNDb5hKSBN",
        "colab_type": "code",
        "colab": {
          "base_uri": "https://localhost:8080/",
          "height": 34
        },
        "outputId": "e3efd81d-2ce9-4d80-8681-1d23d8c551f4"
      },
      "source": [
        "import torch\n",
        "import torch.nn as nn\n",
        "import torch.optim as optim\n",
        "from torch.utils.data import DataLoader\n",
        "\n",
        "device = \"cuda\"\n",
        "\n",
        "torch.backends.cudnn.deterministic = True\n",
        "torch.backends.cudnn.benchmark = False\n",
        "np.random.seed(0)\n",
        "torch.manual_seed(0)"
      ],
      "execution_count": null,
      "outputs": [
        {
          "output_type": "execute_result",
          "data": {
            "text/plain": [
              "<torch._C.Generator at 0x7f18c54e14b0>"
            ]
          },
          "metadata": {
            "tags": []
          },
          "execution_count": 26
        }
      ]
    },
    {
      "cell_type": "code",
      "metadata": {
        "id": "cE0zWWg0VtPY",
        "colab_type": "code",
        "colab": {
          "base_uri": "https://localhost:8080/",
          "height": 34
        },
        "outputId": "a89bb4c5-883f-44a6-c35f-e7c91dcf343d"
      },
      "source": [
        "test_sequences_1[0][1]"
      ],
      "execution_count": null,
      "outputs": [
        {
          "output_type": "execute_result",
          "data": {
            "text/plain": [
              "1.0"
            ]
          },
          "metadata": {
            "tags": []
          },
          "execution_count": 46
        }
      ]
    },
    {
      "cell_type": "code",
      "metadata": {
        "id": "fEr-IkGAV_lK",
        "colab_type": "code",
        "colab": {
          "base_uri": "https://localhost:8080/",
          "height": 425
        },
        "outputId": "c549e059-4180-42e2-96f3-52e2d9288622"
      },
      "source": [
        "test_sequences_1[0][0]"
      ],
      "execution_count": null,
      "outputs": [
        {
          "output_type": "execute_result",
          "data": {
            "text/plain": [
              "array([[ 7.21606416e-03,  4.05291000e+07],\n",
              "       [ 1.96276705e-02,  3.27557000e+07],\n",
              "       [ 5.05031315e-02,  4.87487000e+07],\n",
              "       [-9.12728844e-03,  3.27886000e+07],\n",
              "       [ 7.94574137e-03,  3.92813000e+07],\n",
              "       [-1.35687243e-02,  5.38125000e+07],\n",
              "       [-2.07567332e-02,  3.25038000e+07],\n",
              "       [-3.09103579e-02,  4.52479000e+07],\n",
              "       [ 2.88035392e-02,  2.92643000e+07],\n",
              "       [-3.87539538e-03,  3.12036000e+07],\n",
              "       [ 2.88696307e-02,  3.16272000e+07],\n",
              "       [ 7.06799076e-04,  2.92719000e+07],\n",
              "       [-1.62094443e-02,  2.80012000e+07],\n",
              "       [ 3.28452817e-02,  3.43202000e+07],\n",
              "       [ 2.10960812e-02,  4.54576000e+07],\n",
              "       [-1.60993650e-02,  6.01542000e+07],\n",
              "       [ 1.41487894e-02,  3.33920000e+07],\n",
              "       [ 1.50088709e-02,  3.69378000e+07],\n",
              "       [ 1.03172302e-02,  3.55834000e+07],\n",
              "       [ 1.03449058e-02,  2.88038000e+07],\n",
              "       [ 2.38017378e-02,  3.35120000e+07],\n",
              "       [ 1.57353527e-02,  3.64866000e+07],\n",
              "       [-1.14282273e-02,  4.05753000e+07],\n",
              "       [-1.20741465e-02,  5.01556000e+07]])"
            ]
          },
          "metadata": {
            "tags": []
          },
          "execution_count": 47
        }
      ]
    },
    {
      "cell_type": "markdown",
      "metadata": {
        "id": "nORrq1SKVIA_",
        "colab_type": "text"
      },
      "source": [
        "### Convert to Tensor"
      ]
    },
    {
      "cell_type": "code",
      "metadata": {
        "id": "s5hVqG4OjVAO",
        "colab_type": "code",
        "colab": {}
      },
      "source": [
        "def tensor_converter_e(sequence, label):\n",
        "\n",
        "  label_tensor = torch.tensor(label).to(device)\n",
        "  # label_tensor_zero = torch.zeros(1).to(device)\n",
        "  seq_tensor = torch.tensor(sequence).to(device)\n",
        "\n",
        "  return seq_tensor, label_tensor.long()\n",
        "  # return seq_tensor.long(), label_tensor_zero.long()"
      ],
      "execution_count": null,
      "outputs": []
    },
    {
      "cell_type": "code",
      "metadata": {
        "id": "RQdEaVkFjC1H",
        "colab_type": "code",
        "colab": {}
      },
      "source": [
        "train_sequences_tensor_labelLong = [tensor_converter_e(seq, label) for seq, label in train_sequences_1]\n",
        "test_sequences_tensor_labelLong = [tensor_converter_e(seq, label) for seq, label in test_sequences_1]"
      ],
      "execution_count": null,
      "outputs": []
    },
    {
      "cell_type": "markdown",
      "metadata": {
        "id": "vjMj0PMgEEcQ",
        "colab_type": "text"
      },
      "source": [
        "#### Data structure"
      ]
    },
    {
      "cell_type": "code",
      "metadata": {
        "id": "dKXHOOtskC_L",
        "colab_type": "code",
        "colab": {
          "base_uri": "https://localhost:8080/",
          "height": 442
        },
        "outputId": "e9c809a0-5c32-445c-9603-e8f01648f9ca"
      },
      "source": [
        "train_sequences_tensor_labelLong[0]"
      ],
      "execution_count": null,
      "outputs": [
        {
          "output_type": "execute_result",
          "data": {
            "text/plain": [
              "(tensor([[ 3.5329e-03,  2.4752e+07],\n",
              "         [-2.8169e-02,  2.3324e+07],\n",
              "         [-1.4492e-02,  1.3065e+07],\n",
              "         [ 1.4705e-02,  2.1207e+07],\n",
              "         [-2.1739e-02,  3.0562e+07],\n",
              "         [-1.4814e-02,  1.9191e+07],\n",
              "         [ 1.5037e-02,  1.6758e+07],\n",
              "         [ 2.2222e-02,  2.0521e+07],\n",
              "         [-1.4492e-02,  2.1885e+07],\n",
              "         [-2.2059e-02,  2.7796e+07],\n",
              "         [ 0.0000e+00,  4.4332e+07],\n",
              "         [ 1.8797e-02,  1.0396e+07],\n",
              "         [-1.4761e-02,  1.6310e+07],\n",
              "         [-3.7446e-03,  2.0101e+07],\n",
              "         [ 3.7587e-03,  1.6153e+07],\n",
              "         [ 3.7466e-03,  1.3219e+07],\n",
              "         [-7.4632e-03,  1.8701e+07],\n",
              "         [-2.2556e-02,  3.4762e+07],\n",
              "         [ 3.8454e-03,  2.6351e+07],\n",
              "         [-1.5325e-02,  1.9673e+07],\n",
              "         [-1.5565e-02,  3.3018e+07],\n",
              "         [-1.9763e-02,  3.3502e+07],\n",
              "         [ 5.4436e-02,  3.5563e+07],\n",
              "         [-2.4856e-02,  2.7412e+07]], device='cuda:0', dtype=torch.float64),\n",
              " tensor(0, device='cuda:0'))"
            ]
          },
          "metadata": {
            "tags": []
          },
          "execution_count": 70
        }
      ]
    },
    {
      "cell_type": "code",
      "metadata": {
        "id": "VE0YPXYVVMR_",
        "colab_type": "code",
        "colab": {
          "base_uri": "https://localhost:8080/",
          "height": 34
        },
        "outputId": "1e977091-cfe9-4f9f-aed5-4dd8d8283dd9"
      },
      "source": [
        "test_sequences_tensor_labelLong[0][1]"
      ],
      "execution_count": null,
      "outputs": [
        {
          "output_type": "execute_result",
          "data": {
            "text/plain": [
              "tensor(1, device='cuda:0')"
            ]
          },
          "metadata": {
            "tags": []
          },
          "execution_count": 71
        }
      ]
    },
    {
      "cell_type": "markdown",
      "metadata": {
        "id": "mR7gIrvRBUOo",
        "colab_type": "text"
      },
      "source": [
        "##### General setup for models\n"
      ]
    },
    {
      "cell_type": "code",
      "metadata": {
        "id": "nMlTCo4wBk8v",
        "colab_type": "code",
        "colab": {}
      },
      "source": [
        "from torch.utils.tensorboard import SummaryWriter\n",
        "\n",
        "writer = SummaryWriter()"
      ],
      "execution_count": null,
      "outputs": []
    },
    {
      "cell_type": "markdown",
      "metadata": {
        "id": "uT1PmP_FBrkx",
        "colab_type": "text"
      },
      "source": [
        "### Shallow LSTM"
      ]
    },
    {
      "cell_type": "code",
      "metadata": {
        "id": "qLasa41rBl7C",
        "colab_type": "code",
        "colab": {}
      },
      "source": [
        "class ShallowLSTM(nn.Module):\n",
        "\n",
        "  def __init__(self, hparams):\n",
        "    super(ShallowLSTM, self).__init__()\n",
        "\n",
        "    pprint(params)\n",
        "\n",
        "    self.input_projection = nn.Sequential(\n",
        "        nn.Linear(2, hparams.embedding_dim//2),\n",
        "        nn.Tanh(),\n",
        "        nn.Linear(hparams.embedding_dim//2, hparams.embedding_dim),\n",
        "    )\n",
        "\n",
        "    self.lstm = nn.LSTM(hparams.embedding_dim, hparams.hidden_dim, \n",
        "                        bidirectional=hparams.bidirectional,\n",
        "                        num_layers=hparams.num_layers, \n",
        "                        dropout = hparams.dropout,\n",
        "                        batch_first = True)\n",
        "\n",
        "    lstm_output_dim = hparams.hidden_dim if hparams.bidirectional is False else hparams.hidden_dim * 2\n",
        "\n",
        "    self.dropout = nn.Dropout(hparams.dropout)\n",
        "    self.classifier = nn.Linear(lstm_output_dim, hparams.num_classes)\n",
        "\n",
        "    self.hidden_cell = (torch.zeros(1,1,hparams.hidden_dim),\n",
        "                        torch.zeros(1,1,hparams.hidden_dim))\n",
        "    \n",
        "  def forward(self, x):\n",
        "\n",
        "    embeddings = self.input_projection(x.float())\n",
        "    o, (h, c) = self.lstm(embeddings)\n",
        "    o = self.dropout(o[:, -1])\n",
        "    output = self.classifier(o)\n",
        "    \n",
        "    return output\n",
        "\n",
        "  def predict(self, x):\n",
        "    logits = self.forward(x)\n",
        "    predictions = torch.argmax(logits, dim=-1)\n",
        "    return predictions"
      ],
      "execution_count": null,
      "outputs": []
    },
    {
      "cell_type": "code",
      "metadata": {
        "id": "JubFEIUnBw0H",
        "colab_type": "code",
        "colab": {}
      },
      "source": [
        "class HParams():\n",
        "\n",
        "  hidden_dim = 64\n",
        "  embedding_dim = 128\n",
        "  num_classes = 2\n",
        "  bidirectional = False\n",
        "  num_layers = 1\n",
        "  dropout = 0\n",
        "\n",
        "params = HParams()"
      ],
      "execution_count": null,
      "outputs": []
    },
    {
      "cell_type": "markdown",
      "metadata": {
        "id": "PZ_SRIPNCJr1",
        "colab_type": "text"
      },
      "source": [
        "### Trainer Class"
      ]
    },
    {
      "cell_type": "code",
      "metadata": {
        "id": "nKxMA4T0CGmM",
        "colab_type": "code",
        "colab": {}
      },
      "source": [
        "class Trainer():\n",
        "\n",
        "  def __init__(\n",
        "    self,\n",
        "    model: nn.Module,\n",
        "    loss_function,\n",
        "    optimizer):\n",
        "\n",
        "    self.model = model\n",
        "    self.loss_function = loss_function\n",
        "    self.optimizer = optimizer\n",
        "\n",
        "  def train(self, train_dataset, \n",
        "            valid_dataset, \n",
        "            epochs):\n",
        "\n",
        "    train_loss = 0.0\n",
        "    for epoch in range(epochs):\n",
        "      print(f'Epoch {epoch+1}')\n",
        "\n",
        "      epoch_loss = 0.0\n",
        "      self.model.train()\n",
        "\n",
        "      for step, sentence in enumerate(train_dataset):\n",
        "\n",
        "        tokens = sentence[0]\n",
        "        labels = sentence[1]\n",
        "\n",
        "        self.optimizer.zero_grad()\n",
        "\n",
        "        predictions = self.model(tokens)\n",
        "        predictions = predictions.view(-1, predictions.shape[-1])\n",
        "        labels = labels.view(-1)\n",
        "        \n",
        "        temp_loss = self.loss_function(predictions, labels)\n",
        "\n",
        "        temp_loss.backward()\n",
        "        self.optimizer.step()\n",
        "\n",
        "        epoch_loss += temp_loss.tolist()\n",
        "\n",
        "        \n",
        "      avg_epoch_loss = epoch_loss / len(train_dataset)\n",
        "      train_loss += avg_epoch_loss\n",
        "\n",
        "      print(f'\\t[Epoch: {epoch+1}] Training Loss = {avg_epoch_loss}')\n",
        "      # writer.add_scalar(' Training Loss', avg_epoch_loss, epoch)\n",
        "\n",
        "      valid_loss = self.evaluate(valid_dataset)\n",
        "      \n",
        "      print(f'\\t[Epoch: {epoch+1}] Validation Loss = {valid_loss}')\n",
        "      # writer.add_scalar('Validation Loss', valid_loss, epoch)\n",
        "\n",
        "    print('Training has finished')\n",
        "    \n",
        "    avg_epoch_loss = train_loss / epochs\n",
        "\n",
        "    return avg_epoch_loss\n",
        "  \n",
        "\n",
        "  def evaluate(self, valid_dataset):\n",
        "\n",
        "    valid_loss = 0.0\n",
        "    self.model.eval()\n",
        "\n",
        "    with torch.no_grad():\n",
        "      for sentence in valid_dataset:\n",
        "        tokens = sentence[0]\n",
        "        labels = sentence[1]\n",
        "\n",
        "        predictions = self.model(tokens)\n",
        "        predictions = predictions.view(-1, predictions.shape[-1])\n",
        "        labels = labels.view(-1)\n",
        "\n",
        "        temp_loss = self.loss_function(predictions, labels)\n",
        "        # temp_loss = temp_loss.view(tokens.shape[0], -1)\n",
        "        # temp_loss = temp_loss.sum(dim=-1).mean()\n",
        "        valid_loss += temp_loss.tolist()\n",
        "      \n",
        "    return valid_loss / len(valid_dataset)\n",
        "\n",
        "\n",
        "  def predict(self, x):\n",
        "\n",
        "    self.model.eval()\n",
        "    \n",
        "    with torch.no_grad():\n",
        "        logits = self.model(x)\n",
        "        predictions = torch.argmax(logits, -1)\n",
        "        return logits, predictions"
      ],
      "execution_count": null,
      "outputs": []
    },
    {
      "cell_type": "markdown",
      "metadata": {
        "id": "2-Aif9iXHCkm",
        "colab_type": "text"
      },
      "source": [
        "### Shallow Model Training"
      ]
    },
    {
      "cell_type": "code",
      "metadata": {
        "id": "83Mv_17fGtPS",
        "colab_type": "code",
        "colab": {
          "base_uri": "https://localhost:8080/",
          "height": 204
        },
        "outputId": "33568cc3-f80c-403f-f874-6b8c0c57f795"
      },
      "source": [
        "model = ShallowLSTM(params).cuda()\n",
        "model"
      ],
      "execution_count": null,
      "outputs": [
        {
          "output_type": "stream",
          "text": [
            "<__main__.HParams object at 0x7f18710266a0>\n"
          ],
          "name": "stdout"
        },
        {
          "output_type": "execute_result",
          "data": {
            "text/plain": [
              "ShallowLSTM(\n",
              "  (input_projection): Sequential(\n",
              "    (0): Linear(in_features=2, out_features=64, bias=True)\n",
              "    (1): Tanh()\n",
              "    (2): Linear(in_features=64, out_features=128, bias=True)\n",
              "  )\n",
              "  (lstm): LSTM(128, 64, batch_first=True)\n",
              "  (dropout): Dropout(p=0, inplace=False)\n",
              "  (classifier): Linear(in_features=64, out_features=2, bias=True)\n",
              ")"
            ]
          },
          "metadata": {
            "tags": []
          },
          "execution_count": 74
        }
      ]
    },
    {
      "cell_type": "code",
      "metadata": {
        "id": "doEaU1fNHGuL",
        "colab_type": "code",
        "colab": {}
      },
      "source": [
        "trainer = Trainer(\n",
        "    model = model,\n",
        "    loss_function = nn.CrossEntropyLoss(),\n",
        "    optimizer = optim.Adam(model.parameters()),\n",
        ")"
      ],
      "execution_count": null,
      "outputs": []
    },
    {
      "cell_type": "code",
      "metadata": {
        "id": "_bxdYQBdpAaz",
        "colab_type": "code",
        "colab": {}
      },
      "source": [
        "train_dataset = DataLoader(train_sequences_tensor_labelLong, batch_size=64)\n",
        "valid_dataset = DataLoader(test_sequences_tensor_labelLong, batch_size=64)"
      ],
      "execution_count": null,
      "outputs": []
    },
    {
      "cell_type": "markdown",
      "metadata": {
        "id": "DPXYlDD3Ayxq",
        "colab_type": "text"
      },
      "source": [
        "Loss 0.69 in binary classification means random!"
      ]
    },
    {
      "cell_type": "code",
      "metadata": {
        "id": "c1xmuEa8HO-q",
        "colab_type": "code",
        "colab": {
          "base_uri": "https://localhost:8080/",
          "height": 663
        },
        "outputId": "5781c03c-6dcf-4e83-8a26-1ef23eabe5de"
      },
      "source": [
        "trainer.train(train_dataset, valid_dataset, 12)"
      ],
      "execution_count": null,
      "outputs": [
        {
          "output_type": "stream",
          "text": [
            "Epoch 1\n",
            "\t[Epoch: 1] Training Loss = 0.6950271368896874\n",
            "\t[Epoch: 1] Validation Loss = 0.6942437504019056\n",
            "Epoch 2\n",
            "\t[Epoch: 2] Training Loss = 0.6938936375353458\n",
            "\t[Epoch: 2] Validation Loss = 0.6934896750109536\n",
            "Epoch 3\n",
            "\t[Epoch: 3] Training Loss = 0.6936876730327188\n",
            "\t[Epoch: 3] Validation Loss = 0.6933210449559348\n",
            "Epoch 4\n",
            "\t[Epoch: 4] Training Loss = 0.6935125854763672\n",
            "\t[Epoch: 4] Validation Loss = 0.6932495576994759\n",
            "Epoch 5\n",
            "\t[Epoch: 5] Training Loss = 0.693386129654237\n",
            "\t[Epoch: 5] Validation Loss = 0.6932304331234523\n",
            "Epoch 6\n",
            "\t[Epoch: 6] Training Loss = 0.6933236792139763\n",
            "\t[Epoch: 6] Validation Loss = 0.6932088945593152\n",
            "Epoch 7\n",
            "\t[Epoch: 7] Training Loss = 0.6932845411509493\n",
            "\t[Epoch: 7] Validation Loss = 0.6931869855948857\n",
            "Epoch 8\n",
            "\t[Epoch: 8] Training Loss = 0.6932590760453774\n",
            "\t[Epoch: 8] Validation Loss = 0.6931711435317993\n",
            "Epoch 9\n",
            "\t[Epoch: 9] Training Loss = 0.6932417502368453\n",
            "\t[Epoch: 9] Validation Loss = 0.6931633736406054\n",
            "Epoch 10\n",
            "\t[Epoch: 10] Training Loss = 0.6932306837861555\n",
            "\t[Epoch: 10] Validation Loss = 0.6931594737938472\n",
            "Epoch 11\n",
            "\t[Epoch: 11] Training Loss = 0.6932238362131328\n",
            "\t[Epoch: 11] Validation Loss = 0.6931574046611786\n",
            "Epoch 12\n",
            "\t[Epoch: 12] Training Loss = 0.6932194306902641\n",
            "\t[Epoch: 12] Validation Loss = 0.6931561614785876\n",
            "Training has finished\n"
          ],
          "name": "stdout"
        },
        {
          "output_type": "execute_result",
          "data": {
            "text/plain": [
              "0.6935241799937547"
            ]
          },
          "metadata": {
            "tags": []
          },
          "execution_count": 79
        }
      ]
    },
    {
      "cell_type": "markdown",
      "metadata": {
        "id": "HjjeMIaAVeNH",
        "colab_type": "text"
      },
      "source": [
        "### F-Score"
      ]
    },
    {
      "cell_type": "code",
      "metadata": {
        "id": "Fbc9ZMWGVf0f",
        "colab_type": "code",
        "colab": {
          "base_uri": "https://localhost:8080/",
          "height": 51
        },
        "outputId": "76df1230-572b-4108-ef76-a87a7ac818c8"
      },
      "source": [
        "from sklearn.metrics import confusion_matrix\n",
        "from sklearn.metrics import precision_score, recall_score, f1_score\n",
        "\n",
        "import seaborn as sns"
      ],
      "execution_count": null,
      "outputs": [
        {
          "output_type": "stream",
          "text": [
            "/usr/local/lib/python3.6/dist-packages/statsmodels/tools/_testing.py:19: FutureWarning: pandas.util.testing is deprecated. Use the functions in the public API at pandas.testing instead.\n",
            "  import pandas.util.testing as tm\n"
          ],
          "name": "stderr"
        }
      ]
    },
    {
      "cell_type": "code",
      "metadata": {
        "id": "DDp3wPcRVlRg",
        "colab_type": "code",
        "colab": {}
      },
      "source": [
        "\n",
        "def f_score(labels_s, predictions_s):\n",
        "  \n",
        "  flat_labels_s = flat_list(labels_s)\n",
        "  flat_predictions_s = flat_list(predictions_s)\n",
        "\n",
        "  label_distribution = count(flat_labels_s)\n",
        "  pred_distribution = count(flat_predictions_s)\n",
        "\n",
        "  print(f'# instances: {len(flat_list(labels_s))}')\n",
        "\n",
        "  keys = set(label_distribution.keys()) | set(pred_distribution.keys())\n",
        "  for k in keys:\n",
        "      print(f'\\t# {k}: ({label_distribution.get(k, 0)}, {pred_distribution.get(k, 0)})')\n",
        "\n",
        "  p = precision_score(flat_labels_s, flat_predictions_s, average='macro')\n",
        "  r = recall_score(flat_labels_s, flat_predictions_s, average='macro')\n",
        "  f = f1_score(flat_labels_s, flat_predictions_s, average='macro')\n",
        "\n",
        "  print(f'# precision: {p:.4f}')\n",
        "  print(f'# recall: {r:.4f}')\n",
        "  print(f'# f1: {f:.4f}')\n"
      ],
      "execution_count": null,
      "outputs": []
    }
  ]
}