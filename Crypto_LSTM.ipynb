{
  "nbformat": 4,
  "nbformat_minor": 0,
  "metadata": {
    "colab": {
      "name": "Crypto_LSTM.ipynb",
      "provenance": [],
      "collapsed_sections": [
        "3a_qJPLgA07L"
      ],
      "toc_visible": true
    },
    "kernelspec": {
      "name": "python3",
      "display_name": "Python 3"
    },
    "accelerator": "GPU"
  },
  "cells": [
    {
      "cell_type": "code",
      "metadata": {
        "id": "Yn9pquOj_xpQ",
        "colab_type": "code",
        "colab": {
          "base_uri": "https://localhost:8080/",
          "height": 122
        },
        "outputId": "9f53b8bb-b425-4f76-baef-7d7e7e61dd24"
      },
      "source": [
        "from google.colab import drive\n",
        "drive.mount('/content/drive')"
      ],
      "execution_count": null,
      "outputs": [
        {
          "output_type": "stream",
          "text": [
            "Go to this URL in a browser: https://accounts.google.com/o/oauth2/auth?client_id=947318989803-6bn6qk8qdgf4n4g3pfee6491hc0brc4i.apps.googleusercontent.com&redirect_uri=urn%3aietf%3awg%3aoauth%3a2.0%3aoob&response_type=code&scope=email%20https%3a%2f%2fwww.googleapis.com%2fauth%2fdocs.test%20https%3a%2f%2fwww.googleapis.com%2fauth%2fdrive%20https%3a%2f%2fwww.googleapis.com%2fauth%2fdrive.photos.readonly%20https%3a%2f%2fwww.googleapis.com%2fauth%2fpeopleapi.readonly\n",
            "\n",
            "Enter your authorization code:\n",
            "··········\n",
            "Mounted at /content/drive\n"
          ],
          "name": "stdout"
        }
      ]
    },
    {
      "cell_type": "code",
      "metadata": {
        "id": "ZEi-veir_9vd",
        "colab_type": "code",
        "colab": {}
      },
      "source": [
        "import datetime\n",
        "import numpy as np\n",
        "import pandas as pd\n",
        "\n",
        "import matplotlib.pyplot as plt\n",
        "%matplotlib inline"
      ],
      "execution_count": null,
      "outputs": []
    },
    {
      "cell_type": "markdown",
      "metadata": {
        "id": "m1laS0W6dZ8g",
        "colab_type": "text"
      },
      "source": [
        "### Read Data"
      ]
    },
    {
      "cell_type": "code",
      "metadata": {
        "id": "d_pFMm8wAMkR",
        "colab_type": "code",
        "colab": {}
      },
      "source": [
        "def read_data(file_name):\n",
        "  df = pd.read_csv(f'/content/drive/My Drive/DeepLearning/crypto_data/{file_name}.csv', names=['time', 'low', 'high', 'open', 'close', 'volume'])\n",
        "  df.set_index('time', inplace=True)\n",
        "  return df "
      ],
      "execution_count": null,
      "outputs": []
    },
    {
      "cell_type": "code",
      "metadata": {
        "id": "dowo5LcvPbdc",
        "colab_type": "code",
        "colab": {}
      },
      "source": [
        "file_names = ['BCH-USD', 'BTC-USD', 'ETH-USD', 'LTC-USD']"
      ],
      "execution_count": null,
      "outputs": []
    },
    {
      "cell_type": "code",
      "metadata": {
        "id": "lpH1VQmtPC3P",
        "colab_type": "code",
        "colab": {}
      },
      "source": [
        "bch_df = read_data(file_names[0])\n",
        "btc_df = read_data(file_names[1])\n",
        "eth_df = read_data(file_names[2])\n",
        "ltc_df = read_data(file_names[3])"
      ],
      "execution_count": null,
      "outputs": []
    },
    {
      "cell_type": "code",
      "metadata": {
        "id": "mZc48HaCAVP_",
        "colab_type": "code",
        "colab": {
          "base_uri": "https://localhost:8080/",
          "height": 235
        },
        "outputId": "dc88ab67-ae35-4347-faec-6b724e960309"
      },
      "source": [
        "btc_df.head()"
      ],
      "execution_count": null,
      "outputs": [
        {
          "output_type": "execute_result",
          "data": {
            "text/html": [
              "<div>\n",
              "<style scoped>\n",
              "    .dataframe tbody tr th:only-of-type {\n",
              "        vertical-align: middle;\n",
              "    }\n",
              "\n",
              "    .dataframe tbody tr th {\n",
              "        vertical-align: top;\n",
              "    }\n",
              "\n",
              "    .dataframe thead th {\n",
              "        text-align: right;\n",
              "    }\n",
              "</style>\n",
              "<table border=\"1\" class=\"dataframe\">\n",
              "  <thead>\n",
              "    <tr style=\"text-align: right;\">\n",
              "      <th></th>\n",
              "      <th>low</th>\n",
              "      <th>high</th>\n",
              "      <th>open</th>\n",
              "      <th>close</th>\n",
              "      <th>volume</th>\n",
              "    </tr>\n",
              "    <tr>\n",
              "      <th>time</th>\n",
              "      <th></th>\n",
              "      <th></th>\n",
              "      <th></th>\n",
              "      <th></th>\n",
              "      <th></th>\n",
              "    </tr>\n",
              "  </thead>\n",
              "  <tbody>\n",
              "    <tr>\n",
              "      <th>1528968660</th>\n",
              "      <td>6489.549805</td>\n",
              "      <td>6489.560059</td>\n",
              "      <td>6489.560059</td>\n",
              "      <td>6489.549805</td>\n",
              "      <td>0.587100</td>\n",
              "    </tr>\n",
              "    <tr>\n",
              "      <th>1528968720</th>\n",
              "      <td>6487.370117</td>\n",
              "      <td>6489.560059</td>\n",
              "      <td>6489.549805</td>\n",
              "      <td>6487.379883</td>\n",
              "      <td>7.706374</td>\n",
              "    </tr>\n",
              "    <tr>\n",
              "      <th>1528968780</th>\n",
              "      <td>6479.410156</td>\n",
              "      <td>6487.370117</td>\n",
              "      <td>6487.370117</td>\n",
              "      <td>6479.410156</td>\n",
              "      <td>3.088252</td>\n",
              "    </tr>\n",
              "    <tr>\n",
              "      <th>1528968840</th>\n",
              "      <td>6479.410156</td>\n",
              "      <td>6479.419922</td>\n",
              "      <td>6479.419922</td>\n",
              "      <td>6479.410156</td>\n",
              "      <td>1.404100</td>\n",
              "    </tr>\n",
              "    <tr>\n",
              "      <th>1528968900</th>\n",
              "      <td>6475.930176</td>\n",
              "      <td>6479.979980</td>\n",
              "      <td>6479.410156</td>\n",
              "      <td>6479.979980</td>\n",
              "      <td>0.753000</td>\n",
              "    </tr>\n",
              "  </tbody>\n",
              "</table>\n",
              "</div>"
            ],
            "text/plain": [
              "                    low         high         open        close    volume\n",
              "time                                                                    \n",
              "1528968660  6489.549805  6489.560059  6489.560059  6489.549805  0.587100\n",
              "1528968720  6487.370117  6489.560059  6489.549805  6487.379883  7.706374\n",
              "1528968780  6479.410156  6487.370117  6487.370117  6479.410156  3.088252\n",
              "1528968840  6479.410156  6479.419922  6479.419922  6479.410156  1.404100\n",
              "1528968900  6475.930176  6479.979980  6479.410156  6479.979980  0.753000"
            ]
          },
          "metadata": {
            "tags": []
          },
          "execution_count": 6
        }
      ]
    },
    {
      "cell_type": "code",
      "metadata": {
        "id": "nSK1ryGyRneA",
        "colab_type": "code",
        "colab": {}
      },
      "source": [
        "def join_df(main_df, input_df, crypto_name):\n",
        "  \n",
        "  input_df.rename(columns={'close': f'{crypto_name}_close', 'volume': f'{crypto_name}_volume'}, inplace=True)\n",
        "  input_df = input_df[[f'{crypto_name}_close', f'{crypto_name}_volume']]\n",
        "\n",
        "  if len(main_df) == 0:\n",
        "    main_df = input_df\n",
        "  else:\n",
        "    main_df = main_df.join(input_df)\n",
        "\n",
        "  return main_df"
      ],
      "execution_count": null,
      "outputs": []
    },
    {
      "cell_type": "code",
      "metadata": {
        "id": "t5oc7ZV0Tzzr",
        "colab_type": "code",
        "colab": {}
      },
      "source": [
        "all4_df = pd.DataFrame()\n",
        "\n",
        "all4_df = join_df(all4_df, bch_df, 'BCH')\n",
        "all4_df = join_df(all4_df, btc_df, 'BTC')\n",
        "all4_df = join_df(all4_df, eth_df, 'ETH')\n",
        "all4_df = join_df(all4_df, ltc_df, 'LTC')"
      ],
      "execution_count": null,
      "outputs": []
    },
    {
      "cell_type": "code",
      "metadata": {
        "id": "5PcZLiOyVhQZ",
        "colab_type": "code",
        "colab": {}
      },
      "source": [
        "all4_df.fillna(method=\"ffill\", inplace=True)\n",
        "all4_df.dropna(inplace=True)"
      ],
      "execution_count": null,
      "outputs": []
    },
    {
      "cell_type": "code",
      "metadata": {
        "id": "PUQpSjjEVtOR",
        "colab_type": "code",
        "colab": {
          "base_uri": "https://localhost:8080/",
          "height": 235
        },
        "outputId": "40a6bbd6-2d09-46d6-cac0-bac8e72790f2"
      },
      "source": [
        "all4_df.head()"
      ],
      "execution_count": null,
      "outputs": [
        {
          "output_type": "execute_result",
          "data": {
            "text/html": [
              "<div>\n",
              "<style scoped>\n",
              "    .dataframe tbody tr th:only-of-type {\n",
              "        vertical-align: middle;\n",
              "    }\n",
              "\n",
              "    .dataframe tbody tr th {\n",
              "        vertical-align: top;\n",
              "    }\n",
              "\n",
              "    .dataframe thead th {\n",
              "        text-align: right;\n",
              "    }\n",
              "</style>\n",
              "<table border=\"1\" class=\"dataframe\">\n",
              "  <thead>\n",
              "    <tr style=\"text-align: right;\">\n",
              "      <th></th>\n",
              "      <th>BCH_close</th>\n",
              "      <th>BCH_volume</th>\n",
              "      <th>BTC_close</th>\n",
              "      <th>BTC_volume</th>\n",
              "      <th>ETH_close</th>\n",
              "      <th>ETH_volume</th>\n",
              "      <th>LTC_close</th>\n",
              "      <th>LTC_volume</th>\n",
              "    </tr>\n",
              "    <tr>\n",
              "      <th>time</th>\n",
              "      <th></th>\n",
              "      <th></th>\n",
              "      <th></th>\n",
              "      <th></th>\n",
              "      <th></th>\n",
              "      <th></th>\n",
              "      <th></th>\n",
              "      <th></th>\n",
              "    </tr>\n",
              "  </thead>\n",
              "  <tbody>\n",
              "    <tr>\n",
              "      <th>1528968720</th>\n",
              "      <td>870.859985</td>\n",
              "      <td>26.856577</td>\n",
              "      <td>6487.379883</td>\n",
              "      <td>7.706374</td>\n",
              "      <td>486.01001</td>\n",
              "      <td>26.019083</td>\n",
              "      <td>96.660004</td>\n",
              "      <td>314.387024</td>\n",
              "    </tr>\n",
              "    <tr>\n",
              "      <th>1528968780</th>\n",
              "      <td>870.099976</td>\n",
              "      <td>1.124300</td>\n",
              "      <td>6479.410156</td>\n",
              "      <td>3.088252</td>\n",
              "      <td>486.00000</td>\n",
              "      <td>8.449400</td>\n",
              "      <td>96.570000</td>\n",
              "      <td>77.129799</td>\n",
              "    </tr>\n",
              "    <tr>\n",
              "      <th>1528968840</th>\n",
              "      <td>870.789978</td>\n",
              "      <td>1.749862</td>\n",
              "      <td>6479.410156</td>\n",
              "      <td>1.404100</td>\n",
              "      <td>485.75000</td>\n",
              "      <td>26.994646</td>\n",
              "      <td>96.500000</td>\n",
              "      <td>7.216067</td>\n",
              "    </tr>\n",
              "    <tr>\n",
              "      <th>1528968900</th>\n",
              "      <td>870.000000</td>\n",
              "      <td>1.680500</td>\n",
              "      <td>6479.979980</td>\n",
              "      <td>0.753000</td>\n",
              "      <td>486.00000</td>\n",
              "      <td>77.355759</td>\n",
              "      <td>96.389999</td>\n",
              "      <td>524.539978</td>\n",
              "    </tr>\n",
              "    <tr>\n",
              "      <th>1528968960</th>\n",
              "      <td>869.989990</td>\n",
              "      <td>1.669014</td>\n",
              "      <td>6480.000000</td>\n",
              "      <td>1.490900</td>\n",
              "      <td>486.00000</td>\n",
              "      <td>7.503300</td>\n",
              "      <td>96.519997</td>\n",
              "      <td>16.991997</td>\n",
              "    </tr>\n",
              "  </tbody>\n",
              "</table>\n",
              "</div>"
            ],
            "text/plain": [
              "             BCH_close  BCH_volume  ...  LTC_close  LTC_volume\n",
              "time                                ...                       \n",
              "1528968720  870.859985   26.856577  ...  96.660004  314.387024\n",
              "1528968780  870.099976    1.124300  ...  96.570000   77.129799\n",
              "1528968840  870.789978    1.749862  ...  96.500000    7.216067\n",
              "1528968900  870.000000    1.680500  ...  96.389999  524.539978\n",
              "1528968960  869.989990    1.669014  ...  96.519997   16.991997\n",
              "\n",
              "[5 rows x 8 columns]"
            ]
          },
          "metadata": {
            "tags": []
          },
          "execution_count": 10
        }
      ]
    },
    {
      "cell_type": "code",
      "metadata": {
        "id": "a5nyOPAMWBMw",
        "colab_type": "code",
        "colab": {
          "base_uri": "https://localhost:8080/",
          "height": 34
        },
        "outputId": "9c14c720-2036-4301-8928-64cf14525479"
      },
      "source": [
        "all4_df.shape"
      ],
      "execution_count": null,
      "outputs": [
        {
          "output_type": "execute_result",
          "data": {
            "text/plain": [
              "(92224, 8)"
            ]
          },
          "metadata": {
            "tags": []
          },
          "execution_count": 44
        }
      ]
    },
    {
      "cell_type": "code",
      "metadata": {
        "id": "iI04BiKFFDzi",
        "colab_type": "code",
        "colab": {
          "base_uri": "https://localhost:8080/",
          "height": 170
        },
        "outputId": "314cf40e-57dd-4775-faa9-086831df7c49"
      },
      "source": [
        "all4_df.dtypes"
      ],
      "execution_count": null,
      "outputs": [
        {
          "output_type": "execute_result",
          "data": {
            "text/plain": [
              "BCH_close     float64\n",
              "BCH_volume    float64\n",
              "BTC_close     float64\n",
              "BTC_volume    float64\n",
              "ETH_close     float64\n",
              "ETH_volume    float64\n",
              "LTC_close     float64\n",
              "LTC_volume    float64\n",
              "dtype: object"
            ]
          },
          "metadata": {
            "tags": []
          },
          "execution_count": 31
        }
      ]
    },
    {
      "cell_type": "code",
      "metadata": {
        "id": "kachZ5rS8_9z",
        "colab_type": "code",
        "colab": {
          "base_uri": "https://localhost:8080/",
          "height": 34
        },
        "outputId": "f2277b65-0234-4ace-a55a-f3feef732a28"
      },
      "source": [
        "training_items = int(all4_df.shape[0]*.9)\n",
        "print(f'Number of training items: {training_items}. Number of test items: {all4_df.shape[0]-training_items}.')"
      ],
      "execution_count": null,
      "outputs": [
        {
          "output_type": "stream",
          "text": [
            "Number of training items: 83001. Number of test items: 9223.\n"
          ],
          "name": "stdout"
        }
      ]
    },
    {
      "cell_type": "markdown",
      "metadata": {
        "id": "aqTyFRxi3-sP",
        "colab_type": "text"
      },
      "source": [
        "### Create Label"
      ]
    },
    {
      "cell_type": "code",
      "metadata": {
        "id": "0E8zIfl8AkaR",
        "colab_type": "code",
        "colab": {}
      },
      "source": [
        "SEQ_LEQ = 30\n",
        "FORECAST_PERIOD = 1"
      ],
      "execution_count": null,
      "outputs": []
    },
    {
      "cell_type": "code",
      "metadata": {
        "id": "AHJibycVAn_Y",
        "colab_type": "code",
        "colab": {}
      },
      "source": [
        "def classify(current, future):\n",
        "    if float(future) > float(current):\n",
        "        return 1\n",
        "    else:\n",
        "        return 0"
      ],
      "execution_count": null,
      "outputs": []
    },
    {
      "cell_type": "code",
      "metadata": {
        "id": "6MgsYaxtAqS3",
        "colab_type": "code",
        "colab": {}
      },
      "source": [
        "all4_df['Future'] = all4_df['LTC_close'].shift(-FORECAST_PERIOD)"
      ],
      "execution_count": null,
      "outputs": []
    },
    {
      "cell_type": "code",
      "metadata": {
        "id": "1c745DyuArQl",
        "colab_type": "code",
        "colab": {}
      },
      "source": [
        "all4_df['Label'] = list(map(classify, all4_df['LTC_close'], all4_df['Future']))"
      ],
      "execution_count": null,
      "outputs": []
    },
    {
      "cell_type": "code",
      "metadata": {
        "id": "-kMdxf0IlBo8",
        "colab_type": "code",
        "colab": {
          "base_uri": "https://localhost:8080/",
          "height": 235
        },
        "outputId": "150d9d24-594b-4bc7-c84a-0e807123e2a3"
      },
      "source": [
        "all4_df.head()"
      ],
      "execution_count": null,
      "outputs": [
        {
          "output_type": "execute_result",
          "data": {
            "text/html": [
              "<div>\n",
              "<style scoped>\n",
              "    .dataframe tbody tr th:only-of-type {\n",
              "        vertical-align: middle;\n",
              "    }\n",
              "\n",
              "    .dataframe tbody tr th {\n",
              "        vertical-align: top;\n",
              "    }\n",
              "\n",
              "    .dataframe thead th {\n",
              "        text-align: right;\n",
              "    }\n",
              "</style>\n",
              "<table border=\"1\" class=\"dataframe\">\n",
              "  <thead>\n",
              "    <tr style=\"text-align: right;\">\n",
              "      <th></th>\n",
              "      <th>BCH_close</th>\n",
              "      <th>BCH_volume</th>\n",
              "      <th>BTC_close</th>\n",
              "      <th>BTC_volume</th>\n",
              "      <th>ETH_close</th>\n",
              "      <th>ETH_volume</th>\n",
              "      <th>LTC_close</th>\n",
              "      <th>LTC_volume</th>\n",
              "      <th>Future</th>\n",
              "      <th>Label</th>\n",
              "    </tr>\n",
              "    <tr>\n",
              "      <th>time</th>\n",
              "      <th></th>\n",
              "      <th></th>\n",
              "      <th></th>\n",
              "      <th></th>\n",
              "      <th></th>\n",
              "      <th></th>\n",
              "      <th></th>\n",
              "      <th></th>\n",
              "      <th></th>\n",
              "      <th></th>\n",
              "    </tr>\n",
              "  </thead>\n",
              "  <tbody>\n",
              "    <tr>\n",
              "      <th>1528968720</th>\n",
              "      <td>870.859985</td>\n",
              "      <td>26.856577</td>\n",
              "      <td>6487.379883</td>\n",
              "      <td>7.706374</td>\n",
              "      <td>486.01001</td>\n",
              "      <td>26.019083</td>\n",
              "      <td>96.660004</td>\n",
              "      <td>314.387024</td>\n",
              "      <td>96.570000</td>\n",
              "      <td>0</td>\n",
              "    </tr>\n",
              "    <tr>\n",
              "      <th>1528968780</th>\n",
              "      <td>870.099976</td>\n",
              "      <td>1.124300</td>\n",
              "      <td>6479.410156</td>\n",
              "      <td>3.088252</td>\n",
              "      <td>486.00000</td>\n",
              "      <td>8.449400</td>\n",
              "      <td>96.570000</td>\n",
              "      <td>77.129799</td>\n",
              "      <td>96.500000</td>\n",
              "      <td>0</td>\n",
              "    </tr>\n",
              "    <tr>\n",
              "      <th>1528968840</th>\n",
              "      <td>870.789978</td>\n",
              "      <td>1.749862</td>\n",
              "      <td>6479.410156</td>\n",
              "      <td>1.404100</td>\n",
              "      <td>485.75000</td>\n",
              "      <td>26.994646</td>\n",
              "      <td>96.500000</td>\n",
              "      <td>7.216067</td>\n",
              "      <td>96.389999</td>\n",
              "      <td>0</td>\n",
              "    </tr>\n",
              "    <tr>\n",
              "      <th>1528968900</th>\n",
              "      <td>870.000000</td>\n",
              "      <td>1.680500</td>\n",
              "      <td>6479.979980</td>\n",
              "      <td>0.753000</td>\n",
              "      <td>486.00000</td>\n",
              "      <td>77.355759</td>\n",
              "      <td>96.389999</td>\n",
              "      <td>524.539978</td>\n",
              "      <td>96.519997</td>\n",
              "      <td>1</td>\n",
              "    </tr>\n",
              "    <tr>\n",
              "      <th>1528968960</th>\n",
              "      <td>869.989990</td>\n",
              "      <td>1.669014</td>\n",
              "      <td>6480.000000</td>\n",
              "      <td>1.490900</td>\n",
              "      <td>486.00000</td>\n",
              "      <td>7.503300</td>\n",
              "      <td>96.519997</td>\n",
              "      <td>16.991997</td>\n",
              "      <td>96.440002</td>\n",
              "      <td>0</td>\n",
              "    </tr>\n",
              "  </tbody>\n",
              "</table>\n",
              "</div>"
            ],
            "text/plain": [
              "             BCH_close  BCH_volume    BTC_close  ...  LTC_volume     Future  Label\n",
              "time                                             ...                              \n",
              "1528968720  870.859985   26.856577  6487.379883  ...  314.387024  96.570000      0\n",
              "1528968780  870.099976    1.124300  6479.410156  ...   77.129799  96.500000      0\n",
              "1528968840  870.789978    1.749862  6479.410156  ...    7.216067  96.389999      0\n",
              "1528968900  870.000000    1.680500  6479.979980  ...  524.539978  96.519997      1\n",
              "1528968960  869.989990    1.669014  6480.000000  ...   16.991997  96.440002      0\n",
              "\n",
              "[5 rows x 10 columns]"
            ]
          },
          "metadata": {
            "tags": []
          },
          "execution_count": 50
        }
      ]
    },
    {
      "cell_type": "markdown",
      "metadata": {
        "id": "3a_qJPLgA07L",
        "colab_type": "text"
      },
      "source": [
        "### Creating Sequences"
      ]
    },
    {
      "cell_type": "code",
      "metadata": {
        "id": "7rVhP4enA7_s",
        "colab_type": "code",
        "colab": {}
      },
      "source": [
        "train_samples = int(all4_df.shape[0] * 0.9)\n",
        "\n",
        "train_ = all4_df.iloc[:train_samples]\n",
        "validation_ = all4_df.iloc[train_samples:]"
      ],
      "execution_count": null,
      "outputs": []
    },
    {
      "cell_type": "code",
      "metadata": {
        "id": "JS3V486aA-Ja",
        "colab_type": "code",
        "colab": {
          "base_uri": "https://localhost:8080/",
          "height": 235
        },
        "outputId": "7b590a33-3f5d-42e5-a036-f1bf014f1203"
      },
      "source": [
        "train_.head()"
      ],
      "execution_count": null,
      "outputs": [
        {
          "output_type": "execute_result",
          "data": {
            "text/html": [
              "<div>\n",
              "<style scoped>\n",
              "    .dataframe tbody tr th:only-of-type {\n",
              "        vertical-align: middle;\n",
              "    }\n",
              "\n",
              "    .dataframe tbody tr th {\n",
              "        vertical-align: top;\n",
              "    }\n",
              "\n",
              "    .dataframe thead th {\n",
              "        text-align: right;\n",
              "    }\n",
              "</style>\n",
              "<table border=\"1\" class=\"dataframe\">\n",
              "  <thead>\n",
              "    <tr style=\"text-align: right;\">\n",
              "      <th></th>\n",
              "      <th>BCH_close</th>\n",
              "      <th>BCH_volume</th>\n",
              "      <th>BTC_close</th>\n",
              "      <th>BTC_volume</th>\n",
              "      <th>ETH_close</th>\n",
              "      <th>ETH_volume</th>\n",
              "      <th>LTC_close</th>\n",
              "      <th>LTC_volume</th>\n",
              "      <th>Future</th>\n",
              "      <th>Label</th>\n",
              "    </tr>\n",
              "    <tr>\n",
              "      <th>time</th>\n",
              "      <th></th>\n",
              "      <th></th>\n",
              "      <th></th>\n",
              "      <th></th>\n",
              "      <th></th>\n",
              "      <th></th>\n",
              "      <th></th>\n",
              "      <th></th>\n",
              "      <th></th>\n",
              "      <th></th>\n",
              "    </tr>\n",
              "  </thead>\n",
              "  <tbody>\n",
              "    <tr>\n",
              "      <th>1528968720</th>\n",
              "      <td>870.859985</td>\n",
              "      <td>26.856577</td>\n",
              "      <td>6487.379883</td>\n",
              "      <td>7.706374</td>\n",
              "      <td>486.01001</td>\n",
              "      <td>26.019083</td>\n",
              "      <td>96.660004</td>\n",
              "      <td>314.387024</td>\n",
              "      <td>96.570000</td>\n",
              "      <td>0</td>\n",
              "    </tr>\n",
              "    <tr>\n",
              "      <th>1528968780</th>\n",
              "      <td>870.099976</td>\n",
              "      <td>1.124300</td>\n",
              "      <td>6479.410156</td>\n",
              "      <td>3.088252</td>\n",
              "      <td>486.00000</td>\n",
              "      <td>8.449400</td>\n",
              "      <td>96.570000</td>\n",
              "      <td>77.129799</td>\n",
              "      <td>96.500000</td>\n",
              "      <td>0</td>\n",
              "    </tr>\n",
              "    <tr>\n",
              "      <th>1528968840</th>\n",
              "      <td>870.789978</td>\n",
              "      <td>1.749862</td>\n",
              "      <td>6479.410156</td>\n",
              "      <td>1.404100</td>\n",
              "      <td>485.75000</td>\n",
              "      <td>26.994646</td>\n",
              "      <td>96.500000</td>\n",
              "      <td>7.216067</td>\n",
              "      <td>96.389999</td>\n",
              "      <td>0</td>\n",
              "    </tr>\n",
              "    <tr>\n",
              "      <th>1528968900</th>\n",
              "      <td>870.000000</td>\n",
              "      <td>1.680500</td>\n",
              "      <td>6479.979980</td>\n",
              "      <td>0.753000</td>\n",
              "      <td>486.00000</td>\n",
              "      <td>77.355759</td>\n",
              "      <td>96.389999</td>\n",
              "      <td>524.539978</td>\n",
              "      <td>96.519997</td>\n",
              "      <td>1</td>\n",
              "    </tr>\n",
              "    <tr>\n",
              "      <th>1528968960</th>\n",
              "      <td>869.989990</td>\n",
              "      <td>1.669014</td>\n",
              "      <td>6480.000000</td>\n",
              "      <td>1.490900</td>\n",
              "      <td>486.00000</td>\n",
              "      <td>7.503300</td>\n",
              "      <td>96.519997</td>\n",
              "      <td>16.991997</td>\n",
              "      <td>96.440002</td>\n",
              "      <td>0</td>\n",
              "    </tr>\n",
              "  </tbody>\n",
              "</table>\n",
              "</div>"
            ],
            "text/plain": [
              "             BCH_close  BCH_volume    BTC_close  ...  LTC_volume     Future  Label\n",
              "time                                             ...                              \n",
              "1528968720  870.859985   26.856577  6487.379883  ...  314.387024  96.570000      0\n",
              "1528968780  870.099976    1.124300  6479.410156  ...   77.129799  96.500000      0\n",
              "1528968840  870.789978    1.749862  6479.410156  ...    7.216067  96.389999      0\n",
              "1528968900  870.000000    1.680500  6479.979980  ...  524.539978  96.519997      1\n",
              "1528968960  869.989990    1.669014  6480.000000  ...   16.991997  96.440002      0\n",
              "\n",
              "[5 rows x 10 columns]"
            ]
          },
          "metadata": {
            "tags": []
          },
          "execution_count": 52
        }
      ]
    },
    {
      "cell_type": "code",
      "metadata": {
        "id": "P330SARIBDVG",
        "colab_type": "code",
        "colab": {}
      },
      "source": [
        "import random\n",
        "from collections import deque\n",
        "from sklearn import preprocessing"
      ],
      "execution_count": null,
      "outputs": []
    },
    {
      "cell_type": "code",
      "metadata": {
        "id": "vyCeg8NYBFSW",
        "colab_type": "code",
        "colab": {}
      },
      "source": [
        "def preprocess(df):\n",
        "\n",
        "    df = df.drop('Future', 1)\n",
        "\n",
        "    for col in df.columns: \n",
        "        if col != 'Label': \n",
        "            df[col] = df[col].pct_change() \n",
        "            df.dropna(inplace=True) \n",
        "            df[col] = preprocessing.scale(df[col].values)\n",
        "\n",
        "    df.dropna(inplace=True)\n",
        "\n",
        "    sequential_data = [] \n",
        "    prev_days = deque(maxlen=SEQ_LEQ)\n",
        "\n",
        "    for i in df.values:\n",
        "      prev_days.append([n for n in i[:-1]]) \n",
        "      if len(prev_days) == SEQ_LEQ: \n",
        "        sequential_data.append([np.array(prev_days), i[-1]]) \n",
        "\n",
        "    random.shuffle(sequential_data)\n",
        "\n",
        "    ups = [] \n",
        "    downs = []  \n",
        "\n",
        "    for seq, label in sequential_data: \n",
        "        if label == 1:  \n",
        "            ups.append([seq, label]) \n",
        "        elif label == 0:\n",
        "            downs.append([seq, label]) \n",
        "\n",
        "    random.shuffle(downs) \n",
        "    random.shuffle(ups)\n",
        "\n",
        "    lower = min(len(downs), len(ups))\n",
        "\n",
        "    ups = ups[:lower]  \n",
        "    downs = downs[:lower]\n",
        "\n",
        "    sequential_data = ups+downs  \n",
        "\n",
        "    random.shuffle(sequential_data) \n",
        "\n",
        "    return sequential_data"
      ],
      "execution_count": null,
      "outputs": []
    },
    {
      "cell_type": "code",
      "metadata": {
        "id": "cYl8DzRwBHcf",
        "colab_type": "code",
        "colab": {}
      },
      "source": [
        "train_sequences = preprocess(train_)\n",
        "test_sequences = preprocess(validation_)"
      ],
      "execution_count": null,
      "outputs": []
    },
    {
      "cell_type": "code",
      "metadata": {
        "id": "phWNDb5hKSBN",
        "colab_type": "code",
        "colab": {
          "base_uri": "https://localhost:8080/",
          "height": 34
        },
        "outputId": "e4361f41-42a7-4678-93ad-91e34c02aaa1"
      },
      "source": [
        "import torch\n",
        "import torch.nn as nn\n",
        "import torch.optim as optim\n",
        "from torch.utils.data import DataLoader\n",
        "\n",
        "device = \"cuda\"\n",
        "\n",
        "torch.backends.cudnn.deterministic = True\n",
        "torch.backends.cudnn.benchmark = False\n",
        "np.random.seed(0)\n",
        "torch.manual_seed(0)"
      ],
      "execution_count": null,
      "outputs": [
        {
          "output_type": "execute_result",
          "data": {
            "text/plain": [
              "<torch._C.Generator at 0x7f72df512cf0>"
            ]
          },
          "metadata": {
            "tags": []
          },
          "execution_count": 19
        }
      ]
    },
    {
      "cell_type": "markdown",
      "metadata": {
        "id": "nORrq1SKVIA_",
        "colab_type": "text"
      },
      "source": [
        "### Convert to Tensor"
      ]
    },
    {
      "cell_type": "code",
      "metadata": {
        "id": "s5hVqG4OjVAO",
        "colab_type": "code",
        "colab": {}
      },
      "source": [
        "def tensor_converter_e(sequence, label):\n",
        "\n",
        "  label_tensor = torch.tensor(label).to(device)\n",
        "  # label_tensor_zero = torch.zeros(1).to(device)\n",
        "  seq_tensor = torch.tensor(sequence).to(device)\n",
        "\n",
        "  return seq_tensor, label_tensor.long()\n",
        "  # return seq_tensor, label_tensor_zero.long()"
      ],
      "execution_count": null,
      "outputs": []
    },
    {
      "cell_type": "code",
      "metadata": {
        "id": "RQdEaVkFjC1H",
        "colab_type": "code",
        "colab": {}
      },
      "source": [
        "train_sequences_tensor = [tensor_converter_e(seq, label) for seq, label in train_sequences]\n",
        "test_sequences_tensor = [tensor_converter_e(seq, label) for seq, label in test_sequences]"
      ],
      "execution_count": null,
      "outputs": []
    },
    {
      "cell_type": "markdown",
      "metadata": {
        "id": "uT1PmP_FBrkx",
        "colab_type": "text"
      },
      "source": [
        "### OneLayer LSTM"
      ]
    },
    {
      "cell_type": "code",
      "metadata": {
        "id": "KDZa_kiefbB_",
        "colab_type": "code",
        "colab": {}
      },
      "source": [
        "from pprint import pprint"
      ],
      "execution_count": null,
      "outputs": []
    },
    {
      "cell_type": "code",
      "metadata": {
        "id": "qLasa41rBl7C",
        "colab_type": "code",
        "colab": {}
      },
      "source": [
        "class ShallowLSTM(nn.Module):\n",
        "\n",
        "  def __init__(self, hparams):\n",
        "    super(ShallowLSTM, self).__init__()\n",
        "\n",
        "    pprint(params)\n",
        "\n",
        "    self.input_projection = nn.Sequential(\n",
        "        nn.Linear(hparams.input_projection, hparams.embedding_dim//2),\n",
        "        nn.Tanh(),\n",
        "        nn.Linear(hparams.embedding_dim//2, hparams.embedding_dim),\n",
        "    )\n",
        "\n",
        "    self.lstm = nn.LSTM(hparams.embedding_dim, hparams.hidden_dim, \n",
        "                        bidirectional=hparams.bidirectional,\n",
        "                        num_layers=hparams.num_layers, \n",
        "                        dropout = hparams.dropout,\n",
        "                        batch_first = True)\n",
        "\n",
        "    lstm_output_dim = hparams.hidden_dim if hparams.bidirectional is False else hparams.hidden_dim * 2\n",
        "\n",
        "    self.dropout = nn.Dropout(hparams.dropout)\n",
        "    self.classifier = nn.Linear(lstm_output_dim, hparams.num_classes)\n",
        "\n",
        "    self.hidden_cell = (torch.zeros(1,1,hparams.hidden_dim),\n",
        "                        torch.zeros(1,1,hparams.hidden_dim))\n",
        "    \n",
        "  def forward(self, x):\n",
        "\n",
        "    embeddings = self.input_projection(x.float())\n",
        "    o, (h, c) = self.lstm(embeddings)\n",
        "    o = self.dropout(o[:, -1])\n",
        "    output = self.classifier(o)\n",
        "    \n",
        "    return output\n",
        "\n",
        "  # def predict(self, x):\n",
        "  #   logits = self.forward(x)\n",
        "  #   predictions = torch.argmax(logits, dim=-1)\n",
        "  #   return predictions"
      ],
      "execution_count": null,
      "outputs": []
    },
    {
      "cell_type": "code",
      "metadata": {
        "id": "JubFEIUnBw0H",
        "colab_type": "code",
        "colab": {}
      },
      "source": [
        "class HParams():\n",
        "\n",
        "  input_projection = 8\n",
        "  hidden_dim = 32\n",
        "  embedding_dim = 64\n",
        "  num_classes = 2\n",
        "  bidirectional = False\n",
        "  num_layers = 1\n",
        "  dropout = 0\n",
        "\n",
        "params = HParams()"
      ],
      "execution_count": null,
      "outputs": []
    },
    {
      "cell_type": "markdown",
      "metadata": {
        "id": "K9tq5BSbG0vI",
        "colab_type": "text"
      },
      "source": [
        "### Three Layer LSTM"
      ]
    },
    {
      "cell_type": "code",
      "metadata": {
        "id": "xWlhy752G3k3",
        "colab_type": "code",
        "colab": {}
      },
      "source": [
        "class treLSTM(nn.Module):\n",
        "\n",
        "  def __init__(self, hparams):\n",
        "    super(treLSTM, self).__init__()\n",
        "\n",
        "    pprint(hparams)\n",
        "\n",
        "    # self.input_projection = nn.Sequential(\n",
        "    # nn.Linear(8, hparams.embedding_dim//2),\n",
        "    # nn.Tanh(),\n",
        "    # nn.Linear(hparams.embedding_dim//2, hparams.embedding_dim),)\n",
        "\n",
        "    self.lstm1 = nn.LSTM(hparams.embedding_dim, hparams.hidden_dim, \n",
        "                        bidirectional=hparams.bidirectional,\n",
        "                        num_layers=hparams.num_layers, \n",
        "                        dropout = hparams.dropout, \n",
        "                        batch_first = True)\n",
        "    \n",
        "    lstm_output_dim = hparams.hidden_dim if hparams.bidirectional is False else hparams.hidden_dim * 2\n",
        "\n",
        "\n",
        "    self.lstm2 = nn.LSTM(lstm_output_dim, hparams.hidden_dim2, \n",
        "                        bidirectional=hparams.bidirectional,\n",
        "                        num_layers=hparams.num_layers2, \n",
        "                        dropout = hparams.dropout2)\n",
        "\n",
        "    lstm_output_dim2 = hparams.hidden_dim2 if hparams.bidirectional is False else hparams.hidden_dim2 * 2\n",
        "\n",
        "\n",
        "    self.lstm3 = nn.LSTM(lstm_output_dim, hparams.hidden_dim3, \n",
        "                    bidirectional=hparams.bidirectional,\n",
        "                    num_layers=hparams.num_layers3, \n",
        "                    dropout = hparams.dropout3)\n",
        "\n",
        "    lstm_output_dim3 = hparams.hidden_dim3 if hparams.bidirectional is False else hparams.hidden_dim3 * 2\n",
        "\n",
        "    self.dropout = nn.Dropout(hparams.dropout)\n",
        "    self.dropout2 = nn.Dropout(hparams.dropout2)\n",
        "    self.dropout3 = nn.Dropout(hparams.dropout3)\n",
        "\n",
        "\n",
        "    self.projection_layer = nn.Sequential(nn.Linear(lstm_output_dim3, 32), \n",
        "                                          nn.ReLU(),\n",
        "                                          nn.Linear(32, hparams.num_classes))\n",
        "                              \n",
        "\n",
        "  \n",
        "  def forward(self, x):\n",
        "    \n",
        "    # embeddings = self.input_projection(x.float())\n",
        "    o, (h, c) = self.lstm1(x.float())\n",
        "    o = self.dropout(o)\n",
        "    o2, (h2, c2) = self.lstm2(o)\n",
        "    o2 = self.dropout2(o2)\n",
        "\n",
        "    o3, (h3, c3) = self.lstm3(o2)\n",
        "    o3 = self.dropout(o3[:, -1])\n",
        "\n",
        "    output = self.projection_layer(o3)\n",
        "\n",
        "    return output\n",
        "\n",
        "  def predict(self, x):\n",
        "    logits = self.forward(x)\n",
        "    predictions = torch.argmax(logits, dim=-1)\n",
        "    return predictions"
      ],
      "execution_count": null,
      "outputs": []
    },
    {
      "cell_type": "code",
      "metadata": {
        "id": "oY5hLHWlHRBk",
        "colab_type": "code",
        "colab": {}
      },
      "source": [
        "class HParams_tre():\n",
        "\n",
        "    hidden_dim = 128\n",
        "    embedding_dim = 8\n",
        "    num_classes = 2\n",
        "    bidirectional = True\n",
        "    num_layers = 1\n",
        "    dropout = 0.2\n",
        "\n",
        "\n",
        "    hidden_dim2 = 128\n",
        "    num_layers2 = 1\n",
        "    dropout2 = 0.1\n",
        "\n",
        "    hidden_dim3 = 128\n",
        "    num_layers3 = 1\n",
        "    dropout3 = 0.2\n",
        "\n",
        "params_tre = HParams_tre()"
      ],
      "execution_count": null,
      "outputs": []
    },
    {
      "cell_type": "markdown",
      "metadata": {
        "id": "Gk1-NsbFo6Ph",
        "colab_type": "text"
      },
      "source": [
        "### TwoLayer LSTM"
      ]
    },
    {
      "cell_type": "code",
      "metadata": {
        "id": "priO3buopCyP",
        "colab_type": "code",
        "colab": {}
      },
      "source": [
        "class DeepLSTM(nn.Module):\n",
        "\n",
        "  def __init__(self, hparams):\n",
        "    super(DeepLSTM, self).__init__()\n",
        "\n",
        "    pprint(params2)\n",
        "\n",
        "    self.input_projection = nn.Sequential(\n",
        "    nn.Linear(8, hparams.embedding_dim//2),\n",
        "    nn.Tanh(),\n",
        "    nn.Linear(hparams.embedding_dim//2, hparams.embedding_dim),)\n",
        "\n",
        "    self.lstm1 = nn.LSTM(hparams.embedding_dim, hparams.hidden_dim, \n",
        "                        bidirectional=hparams.bidirectional,\n",
        "                        num_layers=hparams.num_layers, \n",
        "                        dropout = hparams.dropout, \n",
        "                        batch_first = True)\n",
        "    \n",
        "    lstm_output_dim = hparams.hidden_dim if hparams.bidirectional is False else hparams.hidden_dim * 2\n",
        "    \n",
        "    self.lstm2 = nn.LSTM(lstm_output_dim, hparams.hidden_dim2, \n",
        "                        bidirectional=hparams.bidirectional,\n",
        "                        num_layers=hparams.num_layers2, \n",
        "                        dropout = hparams.dropout2)\n",
        "\n",
        "    lstm_output_dim2 = hparams.hidden_dim2 if hparams.bidirectional is False else hparams.hidden_dim2 * 2\n",
        "\n",
        "    self.dropout = nn.Dropout(hparams.dropout)\n",
        "    self.dropout2 = nn.Dropout(hparams.dropout2)\n",
        "\n",
        "\n",
        "    self.projection_layer = nn.Sequential(nn.Linear(lstm_output_dim2, 32), \n",
        "                                          nn.ReLU(),\n",
        "                                          nn.Linear(32, 16),\n",
        "                                          nn.ReLU(),\n",
        "                                          nn.Linear(16, hparams.num_classes))\n",
        "                              \n",
        "\n",
        "  \n",
        "  def forward(self, x):\n",
        "    \n",
        "    embeddings = self.input_projection(x.float())\n",
        "    o, (h, c) = self.lstm1(embeddings)\n",
        "    o = self.dropout(o)\n",
        "    o2, (h2, c2) = self.lstm2(o)\n",
        "    # o2 = self.dropout2(o2)\n",
        "    o2 = self.dropout(o2[:, -1])\n",
        "\n",
        "    output = self.projection_layer(o2)\n",
        "\n",
        "    return output\n",
        "\n",
        "  def predict(self, x):\n",
        "    logits = self.forward(x)\n",
        "    predictions = torch.argmax(logits, dim=-1)\n",
        "    return predictions"
      ],
      "execution_count": null,
      "outputs": []
    },
    {
      "cell_type": "code",
      "metadata": {
        "id": "SToJ_0SqrLwP",
        "colab_type": "code",
        "colab": {}
      },
      "source": [
        "class HParamsD():\n",
        "\n",
        "    hidden_dim = 128\n",
        "    embedding_dim = 64\n",
        "    num_classes = 2\n",
        "    bidirectional = False\n",
        "    num_layers = 1\n",
        "    dropout = 0.2\n",
        "\n",
        "\n",
        "    hidden_dim2 = 64\n",
        "    num_layers2 = 1\n",
        "    dropout2 = 0\n",
        "\n",
        "params2 = HParamsD()"
      ],
      "execution_count": null,
      "outputs": []
    },
    {
      "cell_type": "markdown",
      "metadata": {
        "id": "PZ_SRIPNCJr1",
        "colab_type": "text"
      },
      "source": [
        "### Trainer Class"
      ]
    },
    {
      "cell_type": "code",
      "metadata": {
        "id": "nKxMA4T0CGmM",
        "colab_type": "code",
        "colab": {}
      },
      "source": [
        "class Trainer():\n",
        "\n",
        "  def __init__(\n",
        "    self,\n",
        "    model: nn.Module,\n",
        "    loss_function,\n",
        "    optimizer):\n",
        "\n",
        "    self.model = model\n",
        "    self.loss_function = loss_function\n",
        "    self.optimizer = optimizer\n",
        "\n",
        "  def train(self, train_dataset, \n",
        "            valid_dataset, \n",
        "            epochs):\n",
        "\n",
        "    train_loss = 0.0\n",
        "    for epoch in range(epochs):\n",
        "      print(f'Epoch {epoch+1}')\n",
        "\n",
        "      epoch_loss = 0.0\n",
        "      self.model.train()\n",
        "\n",
        "      for step, sentence in enumerate(train_dataset):\n",
        "\n",
        "        tokens = sentence[0]\n",
        "        labels = sentence[1]\n",
        "\n",
        "        self.optimizer.zero_grad()\n",
        "\n",
        "        predictions = self.model(tokens)\n",
        "        predictions = predictions.view(-1, predictions.shape[-1])\n",
        "        labels = labels.view(-1)\n",
        "        \n",
        "        temp_loss = self.loss_function(predictions, labels)\n",
        "\n",
        "        temp_loss.backward()\n",
        "        self.optimizer.step()\n",
        "\n",
        "        epoch_loss += temp_loss.tolist()\n",
        "\n",
        "        \n",
        "      avg_epoch_loss = epoch_loss / len(train_dataset)\n",
        "      train_loss += avg_epoch_loss\n",
        "\n",
        "      print(f'\\t[Epoch: {epoch+1}] Training Loss = {avg_epoch_loss}')\n",
        "      # writer.add_scalar(' Training Loss', avg_epoch_loss, epoch)\n",
        "\n",
        "      valid_loss = self.evaluate(valid_dataset)\n",
        "      \n",
        "      print(f'\\t[Epoch: {epoch+1}] Validation Loss = {valid_loss}')\n",
        "      # writer.add_scalar('Validation Loss', valid_loss, epoch)\n",
        "\n",
        "    print('Training has finished')\n",
        "    \n",
        "    avg_epoch_loss = train_loss / epochs\n",
        "\n",
        "    return avg_epoch_loss\n",
        "  \n",
        "\n",
        "  def evaluate(self, valid_dataset):\n",
        "\n",
        "    valid_loss = 0.0\n",
        "    self.model.eval()\n",
        "\n",
        "    with torch.no_grad():\n",
        "      for sentence in valid_dataset:\n",
        "        tokens = sentence[0]\n",
        "        labels = sentence[1]\n",
        "\n",
        "        predictions = self.model(tokens)\n",
        "        predictions = predictions.view(-1, predictions.shape[-1])\n",
        "        labels = labels.view(-1)\n",
        "\n",
        "        temp_loss = self.loss_function(predictions, labels)\n",
        "        # temp_loss = temp_loss.view(tokens.shape[0], -1)\n",
        "        # temp_loss = temp_loss.sum(dim=-1).mean()\n",
        "        valid_loss += temp_loss.tolist()\n",
        "      \n",
        "    return valid_loss / len(valid_dataset)\n",
        "\n",
        "\n",
        "  def predict(self, x):\n",
        "\n",
        "    self.model.eval()\n",
        "    \n",
        "    with torch.no_grad():\n",
        "        logits = self.model(x)\n",
        "        predictions = torch.argmax(logits, -1)\n",
        "        return logits, predictions"
      ],
      "execution_count": null,
      "outputs": []
    },
    {
      "cell_type": "markdown",
      "metadata": {
        "id": "HjjeMIaAVeNH",
        "colab_type": "text"
      },
      "source": [
        "### F-Score"
      ]
    },
    {
      "cell_type": "code",
      "metadata": {
        "id": "Fbc9ZMWGVf0f",
        "colab_type": "code",
        "colab": {
          "base_uri": "https://localhost:8080/",
          "height": 51
        },
        "outputId": "9fc715ba-6a9f-49d6-97bf-ff1a8ae0a841"
      },
      "source": [
        "from sklearn.metrics import confusion_matrix\n",
        "from sklearn.metrics import precision_score, recall_score, f1_score, accuracy_score\n",
        "\n",
        "import seaborn as sns"
      ],
      "execution_count": null,
      "outputs": [
        {
          "output_type": "stream",
          "text": [
            "/usr/local/lib/python3.6/dist-packages/statsmodels/tools/_testing.py:19: FutureWarning: pandas.util.testing is deprecated. Use the functions in the public API at pandas.testing instead.\n",
            "  import pandas.util.testing as tm\n"
          ],
          "name": "stderr"
        }
      ]
    },
    {
      "cell_type": "code",
      "metadata": {
        "id": "DDp3wPcRVlRg",
        "colab_type": "code",
        "colab": {}
      },
      "source": [
        "def f_score(labels, predictions):\n",
        "  \n",
        "  print(f'# instances: {len(labels)}')\n",
        "\n",
        "  p = precision_score(labels, predictions, average='macro')\n",
        "  r = recall_score(labels, predictions, average='macro')\n",
        "  f = f1_score(labels, predictions, average='macro')\n",
        "\n",
        "  print(f'# precision: {p:.4f}')\n",
        "  print(f'# recall: {r:.4f}')\n",
        "  print(f'# f1: {f:.4f}')\n"
      ],
      "execution_count": null,
      "outputs": []
    },
    {
      "cell_type": "markdown",
      "metadata": {
        "id": "Sy-InP9enKga",
        "colab_type": "text"
      },
      "source": [
        "### Confusion Matrix"
      ]
    },
    {
      "cell_type": "code",
      "metadata": {
        "id": "5XfjvMvInNu7",
        "colab_type": "code",
        "colab": {}
      },
      "source": [
        "def cm_plot(test_label, pred_labels):\n",
        "\n",
        "  label=[0, 1]\n",
        "\n",
        "  cm = confusion_matrix(test_label, pred_labels, label)\n",
        "  print(cm)\n",
        "\n",
        "  sum_col_cm = np.sum(cm, axis=1, keepdims=True)\n",
        "  acc_col_cm = (cm / sum_col_cm.astype(float))\n",
        "\n",
        "  acc_col_cm = [[round(x, 4) for x in xx] for xx in acc_col_cm]\n",
        "  acc_df = pd.DataFrame(data=acc_col_cm, index=label, columns=label)\n",
        "\n",
        "  acc_df.index.name = 'ACTUAL LABELS'\n",
        "  acc_df.columns.name = 'PREDICTED LABELS'\n",
        "  fig, ax = plt.subplots(figsize=(8,6))\n",
        "  sns.heatmap(acc_df, annot=acc_col_cm, annot_kws={\"size\": 15}, fmt='', ax=ax, cmap=\"YlGnBu\")\n",
        "  plt.show()"
      ],
      "execution_count": null,
      "outputs": []
    },
    {
      "cell_type": "markdown",
      "metadata": {
        "id": "qIloIezEsAiR",
        "colab_type": "text"
      },
      "source": [
        "### Prepare Batch Data"
      ]
    },
    {
      "cell_type": "code",
      "metadata": {
        "id": "_bxdYQBdpAaz",
        "colab_type": "code",
        "colab": {}
      },
      "source": [
        "train_dataset = DataLoader(train_sequences_tensor, batch_size=64)\n",
        "valid_dataset = DataLoader(test_sequences_tensor, batch_size=64)"
      ],
      "execution_count": null,
      "outputs": []
    },
    {
      "cell_type": "markdown",
      "metadata": {
        "id": "2-Aif9iXHCkm",
        "colab_type": "text"
      },
      "source": [
        "### OneLayer_F8 Training"
      ]
    },
    {
      "cell_type": "code",
      "metadata": {
        "id": "83Mv_17fGtPS",
        "colab_type": "code",
        "colab": {
          "base_uri": "https://localhost:8080/",
          "height": 204
        },
        "outputId": "4300e3f3-0f36-4219-d4b6-4f6d69cf6903"
      },
      "source": [
        "model = ShallowLSTM(params).cuda()\n",
        "model"
      ],
      "execution_count": null,
      "outputs": [
        {
          "output_type": "stream",
          "text": [
            "<__main__.HParams object at 0x7f9f41c91ef0>\n"
          ],
          "name": "stdout"
        },
        {
          "output_type": "execute_result",
          "data": {
            "text/plain": [
              "ShallowLSTM(\n",
              "  (input_projection): Sequential(\n",
              "    (0): Linear(in_features=8, out_features=32, bias=True)\n",
              "    (1): Tanh()\n",
              "    (2): Linear(in_features=32, out_features=64, bias=True)\n",
              "  )\n",
              "  (lstm): LSTM(64, 32, batch_first=True)\n",
              "  (dropout): Dropout(p=0, inplace=False)\n",
              "  (classifier): Linear(in_features=32, out_features=2, bias=True)\n",
              ")"
            ]
          },
          "metadata": {
            "tags": []
          },
          "execution_count": 67
        }
      ]
    },
    {
      "cell_type": "code",
      "metadata": {
        "id": "doEaU1fNHGuL",
        "colab_type": "code",
        "colab": {}
      },
      "source": [
        "trainer = Trainer(\n",
        "    model = model,\n",
        "    loss_function = nn.CrossEntropyLoss(),\n",
        "    optimizer = optim.Adam(model.parameters()),\n",
        ")"
      ],
      "execution_count": null,
      "outputs": []
    },
    {
      "cell_type": "code",
      "metadata": {
        "id": "O1TpaMvCjhA3",
        "colab_type": "code",
        "colab": {}
      },
      "source": [
        "trainer.train(train_dataset, valid_dataset, 10)"
      ],
      "execution_count": null,
      "outputs": []
    },
    {
      "cell_type": "code",
      "metadata": {
        "id": "nFe9CH64hbiI",
        "colab_type": "code",
        "colab": {}
      },
      "source": [
        "# hidden 64, embedding 64, features 8\n",
        "model_save_name = 'OneLayer_H64_E64_epoch20_F8.pth'\n",
        "path = f\"/content/drive/My Drive/DeepLearning/models/{model_save_name}\" \n",
        "torch.save(model.state_dict(), path)"
      ],
      "execution_count": null,
      "outputs": []
    },
    {
      "cell_type": "markdown",
      "metadata": {
        "id": "qLdXf6RwiVVz",
        "colab_type": "text"
      },
      "source": [
        "#### Test"
      ]
    },
    {
      "cell_type": "code",
      "metadata": {
        "id": "xPnyubT0hPrP",
        "colab_type": "code",
        "colab": {}
      },
      "source": [
        "predictions = []\n",
        "test_labels = []\n",
        "\n",
        "for i in range(len(test_sequences_tensor)):\n",
        "\n",
        "  test_elem = test_sequences_tensor[i]\n",
        "  test_x, test_y = test_elem[0], test_elem[1]\n",
        "      \n",
        "  logits, coded_pred = trainer.predict(test_x.unsqueeze(0))\n",
        "  predictions.append(coded_pred[0].tolist()) \n",
        "  test_labels.append(test_y.tolist())"
      ],
      "execution_count": null,
      "outputs": []
    },
    {
      "cell_type": "code",
      "metadata": {
        "id": "0S7Vn84uKfmS",
        "colab_type": "code",
        "colab": {}
      },
      "source": [
        "predictions_train_one = []\n",
        "train_labels = []\n",
        "\n",
        "\n",
        "for i in range(len(train_sequences_tensor)):\n",
        "\n",
        "  train_elem = train_sequences_tensor[i]\n",
        "  train_x, train_y = train_elem[0], train_elem[1]\n",
        "      \n",
        "  logits, coded_pred = trainer.predict(train_x.unsqueeze(0))\n",
        "  predictions_train_one.append(coded_pred[0].tolist()) \n",
        "  train_labels.append(train_y.tolist())"
      ],
      "execution_count": null,
      "outputs": []
    },
    {
      "cell_type": "code",
      "metadata": {
        "id": "wRepZofqkhgq",
        "colab_type": "code",
        "colab": {
          "base_uri": "https://localhost:8080/",
          "height": 34
        },
        "outputId": "ef1f5d2d-847e-4c9a-8b9f-1b90369d2de5"
      },
      "source": [
        "predictions[:10]"
      ],
      "execution_count": null,
      "outputs": [
        {
          "output_type": "execute_result",
          "data": {
            "text/plain": [
              "[0, 0, 0, 0, 0, 0, 0, 0, 0, 0]"
            ]
          },
          "metadata": {
            "tags": []
          },
          "execution_count": 47
        }
      ]
    },
    {
      "cell_type": "code",
      "metadata": {
        "id": "qOJlD42ik4BF",
        "colab_type": "code",
        "colab": {
          "base_uri": "https://localhost:8080/",
          "height": 34
        },
        "outputId": "0b4cae57-a5fe-4970-96ad-be2cbfab7ad2"
      },
      "source": [
        "test_labels[:10]"
      ],
      "execution_count": null,
      "outputs": [
        {
          "output_type": "execute_result",
          "data": {
            "text/plain": [
              "[0, 1, 0, 1, 0, 0, 0, 0, 0, 1]"
            ]
          },
          "metadata": {
            "tags": []
          },
          "execution_count": 48
        }
      ]
    },
    {
      "cell_type": "code",
      "metadata": {
        "id": "7sxvsIEal07A",
        "colab_type": "code",
        "colab": {
          "base_uri": "https://localhost:8080/",
          "height": 85
        },
        "outputId": "a38485f0-259a-482f-d20c-cf8fff97ddfb"
      },
      "source": [
        "f_score(test_labels, predictions)"
      ],
      "execution_count": null,
      "outputs": [
        {
          "output_type": "stream",
          "text": [
            "# instances: 6496\n",
            "# precision: 0.5984\n",
            "# recall: 0.5953\n",
            "# f1: 0.5921\n"
          ],
          "name": "stdout"
        }
      ]
    },
    {
      "cell_type": "code",
      "metadata": {
        "id": "XDo8UyFpLQW9",
        "colab_type": "code",
        "colab": {
          "base_uri": "https://localhost:8080/",
          "height": 85
        },
        "outputId": "0ad7b99e-34ca-4ab0-ffdd-c634c1141fc4"
      },
      "source": [
        "f_score(train_labels, predictions_train_one)"
      ],
      "execution_count": null,
      "outputs": [
        {
          "output_type": "stream",
          "text": [
            "# instances: 61788\n",
            "# precision: 0.6146\n",
            "# recall: 0.6114\n",
            "# f1: 0.6087\n"
          ],
          "name": "stdout"
        }
      ]
    },
    {
      "cell_type": "code",
      "metadata": {
        "id": "xDZK36NxLZoL",
        "colab_type": "code",
        "colab": {
          "base_uri": "https://localhost:8080/",
          "height": 34
        },
        "outputId": "df63ae17-1770-4cef-c3f4-b725e36cbfcc"
      },
      "source": [
        "accuracy_score(test_labels, predictions)"
      ],
      "execution_count": null,
      "outputs": [
        {
          "output_type": "execute_result",
          "data": {
            "text/plain": [
              "0.5952894088669951"
            ]
          },
          "metadata": {
            "tags": []
          },
          "execution_count": 68
        }
      ]
    },
    {
      "cell_type": "code",
      "metadata": {
        "id": "zRonSXs0LhR8",
        "colab_type": "code",
        "colab": {
          "base_uri": "https://localhost:8080/",
          "height": 34
        },
        "outputId": "ec16cf51-904b-432c-bf87-ea194c49c8eb"
      },
      "source": [
        "accuracy_score(train_labels, predictions_train_one)"
      ],
      "execution_count": null,
      "outputs": [
        {
          "output_type": "execute_result",
          "data": {
            "text/plain": [
              "0.6114294037677219"
            ]
          },
          "metadata": {
            "tags": []
          },
          "execution_count": 69
        }
      ]
    },
    {
      "cell_type": "code",
      "metadata": {
        "id": "-NHYJfjcoSKc",
        "colab_type": "code",
        "colab": {
          "base_uri": "https://localhost:8080/",
          "height": 422
        },
        "outputId": "a6b5f4f2-f197-4b40-dcd8-be86be611cd7"
      },
      "source": [
        "cm_plot(test_labels, predictions)"
      ],
      "execution_count": null,
      "outputs": [
        {
          "output_type": "stream",
          "text": [
            "[[1818 1430]\n",
            " [1146 2102]]\n"
          ],
          "name": "stdout"
        },
        {
          "output_type": "display_data",
          "data": {
            "image/png": "[encoded data removed]",
            "text/plain": [
              "<Figure size 576x432 with 2 Axes>"
            ]
          },
          "metadata": {
            "tags": [],
            "needs_background": "light"
          }
        }
      ]
    },
    {
      "cell_type": "markdown",
      "metadata": {
        "id": "TfGDYd67JWEK",
        "colab_type": "text"
      },
      "source": [
        "### Tre LSTM trainin"
      ]
    },
    {
      "cell_type": "code",
      "metadata": {
        "id": "simFJmYKJZFz",
        "colab_type": "code",
        "colab": {
          "base_uri": "https://localhost:8080/",
          "height": 343
        },
        "outputId": "5f9551da-7e6f-418a-c703-5b9795e72e09"
      },
      "source": [
        "model_tre = treLSTM(params_tre).cuda()\n",
        "model_tre"
      ],
      "execution_count": null,
      "outputs": [
        {
          "output_type": "stream",
          "text": [
            "<__main__.HParams_tre object at 0x7f2f09ab60f0>\n"
          ],
          "name": "stdout"
        },
        {
          "output_type": "stream",
          "text": [
            "/usr/local/lib/python3.6/dist-packages/torch/nn/modules/rnn.py:50: UserWarning: dropout option adds dropout after all but last recurrent layer, so non-zero dropout expects num_layers greater than 1, but got dropout=0.2 and num_layers=1\n",
            "  \"num_layers={}\".format(dropout, num_layers))\n",
            "/usr/local/lib/python3.6/dist-packages/torch/nn/modules/rnn.py:50: UserWarning: dropout option adds dropout after all but last recurrent layer, so non-zero dropout expects num_layers greater than 1, but got dropout=0.1 and num_layers=1\n",
            "  \"num_layers={}\".format(dropout, num_layers))\n"
          ],
          "name": "stderr"
        },
        {
          "output_type": "execute_result",
          "data": {
            "text/plain": [
              "treLSTM(\n",
              "  (lstm1): LSTM(8, 128, batch_first=True, dropout=0.2, bidirectional=True)\n",
              "  (lstm2): LSTM(256, 128, dropout=0.1, bidirectional=True)\n",
              "  (lstm3): LSTM(256, 128, dropout=0.2, bidirectional=True)\n",
              "  (dropout): Dropout(p=0.2, inplace=False)\n",
              "  (dropout2): Dropout(p=0.1, inplace=False)\n",
              "  (dropout3): Dropout(p=0.2, inplace=False)\n",
              "  (projection_layer): Sequential(\n",
              "    (0): Linear(in_features=256, out_features=32, bias=True)\n",
              "    (1): ReLU()\n",
              "    (2): Linear(in_features=32, out_features=2, bias=True)\n",
              "  )\n",
              ")"
            ]
          },
          "metadata": {
            "tags": []
          },
          "execution_count": 70
        }
      ]
    },
    {
      "cell_type": "code",
      "metadata": {
        "id": "F6s7RJ5UJmZB",
        "colab_type": "code",
        "colab": {}
      },
      "source": [
        "trainer_tre = Trainer(\n",
        "    model = model_tre,\n",
        "    loss_function = nn.CrossEntropyLoss(),\n",
        "    optimizer = optim.Adam(model_tre.parameters()),\n",
        ")"
      ],
      "execution_count": null,
      "outputs": []
    },
    {
      "cell_type": "code",
      "metadata": {
        "id": "hCYVKNt3KJ6c",
        "colab_type": "code",
        "colab": {
          "base_uri": "https://localhost:8080/",
          "height": 561
        },
        "outputId": "abdb07b5-6b85-463e-b639-49d94c15dce2"
      },
      "source": [
        "trainer_tre.train(train_dataset, valid_dataset, 10)"
      ],
      "execution_count": null,
      "outputs": [
        {
          "output_type": "stream",
          "text": [
            "Epoch 1\n",
            "\t[Epoch: 1] Training Loss = 0.6830947568821364\n",
            "\t[Epoch: 1] Validation Loss = 0.6800559408524457\n",
            "Epoch 2\n",
            "\t[Epoch: 2] Training Loss = 0.6784608267232252\n",
            "\t[Epoch: 2] Validation Loss = 0.6775872783333647\n",
            "Epoch 3\n",
            "\t[Epoch: 3] Training Loss = 0.6758389648813639\n",
            "\t[Epoch: 3] Validation Loss = 0.6744897967460108\n",
            "Epoch 4\n",
            "\t[Epoch: 4] Training Loss = 0.6726367682773874\n",
            "\t[Epoch: 4] Validation Loss = 0.6715522940252342\n",
            "Epoch 5\n",
            "\t[Epoch: 5] Training Loss = 0.6676498155416168\n",
            "\t[Epoch: 5] Validation Loss = 0.6665599690932854\n",
            "Epoch 6\n",
            "\t[Epoch: 6] Training Loss = 0.6613071634902717\n",
            "\t[Epoch: 6] Validation Loss = 0.667170881056318\n",
            "Epoch 7\n",
            "\t[Epoch: 7] Training Loss = 0.6535032311951892\n",
            "\t[Epoch: 7] Validation Loss = 0.6692463124499601\n",
            "Epoch 8\n",
            "\t[Epoch: 8] Training Loss = 0.6430437703680548\n",
            "\t[Epoch: 8] Validation Loss = 0.6764273830488616\n",
            "Epoch 9\n",
            "\t[Epoch: 9] Training Loss = 0.625343172539095\n",
            "\t[Epoch: 9] Validation Loss = 0.6846678964063233\n",
            "Epoch 10\n",
            "\t[Epoch: 10] Training Loss = 0.6002107304260598\n",
            "\t[Epoch: 10] Validation Loss = 0.7075949591748855\n",
            "Training has finished\n"
          ],
          "name": "stdout"
        },
        {
          "output_type": "execute_result",
          "data": {
            "text/plain": [
              "0.6561089200324399"
            ]
          },
          "metadata": {
            "tags": []
          },
          "execution_count": 72
        }
      ]
    },
    {
      "cell_type": "code",
      "metadata": {
        "id": "59uQpMF4MtqA",
        "colab_type": "code",
        "colab": {}
      },
      "source": [
        "model_save_name = 'tre_bidict_epoch10.pth'\n",
        "path = f\"/content/drive/My Drive/DeepLearning/models/{model_save_name}\" \n",
        "torch.save(model_tre.state_dict(), path)"
      ],
      "execution_count": null,
      "outputs": []
    },
    {
      "cell_type": "code",
      "metadata": {
        "id": "ArktHzuLMgKq",
        "colab_type": "code",
        "colab": {}
      },
      "source": [
        "predictions_tre = []\n",
        "test_labels = []\n",
        "\n",
        "\n",
        "for i in range(len(test_sequences_tensor)):\n",
        "\n",
        "  test_elem = test_sequences_tensor[i]\n",
        "  test_x, test_y = test_elem[0], test_elem[1]\n",
        "      \n",
        "  logits, coded_pred = trainer_tre.predict(test_x.unsqueeze(0))\n",
        "  predictions_tre.append(coded_pred[0].tolist()) \n",
        "  test_labels.append(test_y.tolist())"
      ],
      "execution_count": null,
      "outputs": []
    },
    {
      "cell_type": "code",
      "metadata": {
        "id": "j3bygrWZQADt",
        "colab_type": "code",
        "colab": {}
      },
      "source": [
        "predictions_train_tre = []\n",
        "train_labels = []\n",
        "\n",
        "\n",
        "for i in range(len(train_sequences_tensor)):\n",
        "\n",
        "  train_elem = train_sequences_tensor[i]\n",
        "  train_x, train_y = train_elem[0], train_elem[1]\n",
        "      \n",
        "  logits, coded_pred = trainer_tre.predict(train_x.unsqueeze(0))\n",
        "  predictions_train_tre.append(coded_pred[0].tolist()) \n",
        "  train_labels.append(train_y.tolist())"
      ],
      "execution_count": null,
      "outputs": []
    },
    {
      "cell_type": "code",
      "metadata": {
        "id": "_7zBpPSkMk2z",
        "colab_type": "code",
        "colab": {
          "base_uri": "https://localhost:8080/",
          "height": 85
        },
        "outputId": "c17c4ea6-158f-4442-c4ac-316cd082f0f1"
      },
      "source": [
        "f_score(test_labels, predictions_tre)"
      ],
      "execution_count": null,
      "outputs": [
        {
          "output_type": "stream",
          "text": [
            "# instances: 6496\n",
            "# precision: 0.5954\n",
            "# recall: 0.5939\n",
            "# f1: 0.5923\n"
          ],
          "name": "stdout"
        }
      ]
    },
    {
      "cell_type": "code",
      "metadata": {
        "id": "pjSKqda_Qd31",
        "colab_type": "code",
        "colab": {
          "base_uri": "https://localhost:8080/",
          "height": 85
        },
        "outputId": "53f201b4-f6cf-410c-c838-aeb5beeb929e"
      },
      "source": [
        "f_score(train_labels, predictions_train_tre)"
      ],
      "execution_count": null,
      "outputs": [
        {
          "output_type": "stream",
          "text": [
            "# instances: 61788\n",
            "# precision: 0.6066\n",
            "# recall: 0.6058\n",
            "# f1: 0.6051\n"
          ],
          "name": "stdout"
        }
      ]
    },
    {
      "cell_type": "code",
      "metadata": {
        "id": "cuZWhtGrNn4Z",
        "colab_type": "code",
        "colab": {
          "base_uri": "https://localhost:8080/",
          "height": 34
        },
        "outputId": "a266f717-29a5-453a-e699-2cd6b98f877a"
      },
      "source": [
        "accuracy_score(test_labels, predictions_tre)"
      ],
      "execution_count": null,
      "outputs": [
        {
          "output_type": "execute_result",
          "data": {
            "text/plain": [
              "0.5939039408866995"
            ]
          },
          "metadata": {
            "tags": []
          },
          "execution_count": 75
        }
      ]
    },
    {
      "cell_type": "code",
      "metadata": {
        "id": "KikUKijuQ8aH",
        "colab_type": "code",
        "colab": {
          "base_uri": "https://localhost:8080/",
          "height": 34
        },
        "outputId": "35f6c701-015b-483e-f678-e1f1674c7875"
      },
      "source": [
        "accuracy_score(train_labels, predictions_train_tre)"
      ],
      "execution_count": null,
      "outputs": [
        {
          "output_type": "execute_result",
          "data": {
            "text/plain": [
              "0.6058296109276883"
            ]
          },
          "metadata": {
            "tags": []
          },
          "execution_count": 78
        }
      ]
    },
    {
      "cell_type": "code",
      "metadata": {
        "id": "5Gpys_WyNvuk",
        "colab_type": "code",
        "colab": {
          "base_uri": "https://localhost:8080/",
          "height": 422
        },
        "outputId": "40fc6015-5734-4662-eb08-b7b516976696"
      },
      "source": [
        "cm_plot(test_labels, predictions_tre)"
      ],
      "execution_count": null,
      "outputs": [
        {
          "output_type": "stream",
          "text": [
            "[[1697 1551]\n",
            " [1086 2162]]\n"
          ],
          "name": "stdout"
        },
        {
          "output_type": "display_data",
          "data": {
            "image/png": "[encoded data removed]",
            "text/plain": [
              "<Figure size 576x432 with 2 Axes>"
            ]
          },
          "metadata": {
            "tags": [],
            "needs_background": "light"
          }
        }
      ]
    },
    {
      "cell_type": "markdown",
      "metadata": {
        "id": "3bvjY4_PrhAa",
        "colab_type": "text"
      },
      "source": [
        "###Deep LSTM Training"
      ]
    },
    {
      "cell_type": "code",
      "metadata": {
        "id": "ggSzpAYPrlOt",
        "colab_type": "code",
        "colab": {
          "base_uri": "https://localhost:8080/",
          "height": 394
        },
        "outputId": "228b4348-0877-4d16-dbb5-92d594a42afa"
      },
      "source": [
        "model_d = DeepLSTM(params2).cuda()\n",
        "model_d"
      ],
      "execution_count": null,
      "outputs": [
        {
          "output_type": "stream",
          "text": [
            "<__main__.HParamsD object at 0x7f728c181a90>\n"
          ],
          "name": "stdout"
        },
        {
          "output_type": "stream",
          "text": [
            "/usr/local/lib/python3.6/dist-packages/torch/nn/modules/rnn.py:50: UserWarning: dropout option adds dropout after all but last recurrent layer, so non-zero dropout expects num_layers greater than 1, but got dropout=0.2 and num_layers=1\n",
            "  \"num_layers={}\".format(dropout, num_layers))\n"
          ],
          "name": "stderr"
        },
        {
          "output_type": "execute_result",
          "data": {
            "text/plain": [
              "DeepLSTM(\n",
              "  (input_projection): Sequential(\n",
              "    (0): Linear(in_features=8, out_features=32, bias=True)\n",
              "    (1): Tanh()\n",
              "    (2): Linear(in_features=32, out_features=64, bias=True)\n",
              "  )\n",
              "  (lstm1): LSTM(64, 128, batch_first=True, dropout=0.2)\n",
              "  (lstm2): LSTM(128, 64)\n",
              "  (dropout): Dropout(p=0.2, inplace=False)\n",
              "  (dropout2): Dropout(p=0, inplace=False)\n",
              "  (projection_layer): Sequential(\n",
              "    (0): Linear(in_features=64, out_features=32, bias=True)\n",
              "    (1): ReLU()\n",
              "    (2): Linear(in_features=32, out_features=16, bias=True)\n",
              "    (3): ReLU()\n",
              "    (4): Linear(in_features=16, out_features=2, bias=True)\n",
              "  )\n",
              ")"
            ]
          },
          "metadata": {
            "tags": []
          },
          "execution_count": 33
        }
      ]
    },
    {
      "cell_type": "code",
      "metadata": {
        "id": "Cbpq_I-Fr5us",
        "colab_type": "code",
        "colab": {}
      },
      "source": [
        "trainer_d = Trainer(\n",
        "    model = model_d,\n",
        "    loss_function = nn.CrossEntropyLoss(),\n",
        "    optimizer = optim.Adam(model_d.parameters()),\n",
        ")"
      ],
      "execution_count": null,
      "outputs": []
    },
    {
      "cell_type": "code",
      "metadata": {
        "id": "b9gvZtDAsLUk",
        "colab_type": "code",
        "colab": {
          "base_uri": "https://localhost:8080/",
          "height": 561
        },
        "outputId": "f769050f-06b9-4c8f-99cd-6bb0a2785868"
      },
      "source": [
        "trainer_d.train(train_dataset, valid_dataset, 10)"
      ],
      "execution_count": null,
      "outputs": [
        {
          "output_type": "stream",
          "text": [
            "Epoch 1\n",
            "\t[Epoch: 1] Training Loss = 0.681109053686292\n",
            "\t[Epoch: 1] Validation Loss = 0.6725831300604577\n",
            "Epoch 2\n",
            "\t[Epoch: 2] Training Loss = 0.6680985778014853\n",
            "\t[Epoch: 2] Validation Loss = 0.6576736668745676\n",
            "Epoch 3\n",
            "\t[Epoch: 3] Training Loss = 0.659711507104692\n",
            "\t[Epoch: 3] Validation Loss = 0.653757860847548\n",
            "Epoch 4\n",
            "\t[Epoch: 4] Training Loss = 0.6562272805111256\n",
            "\t[Epoch: 4] Validation Loss = 0.6518857216133791\n",
            "Epoch 5\n",
            "\t[Epoch: 5] Training Loss = 0.654601733445134\n",
            "\t[Epoch: 5] Validation Loss = 0.6536523010216507\n",
            "Epoch 6\n",
            "\t[Epoch: 6] Training Loss = 0.6520194126212079\n",
            "\t[Epoch: 6] Validation Loss = 0.6550068154054529\n",
            "Epoch 7\n",
            "\t[Epoch: 7] Training Loss = 0.6491431060168067\n",
            "\t[Epoch: 7] Validation Loss = 0.6580368923205956\n",
            "Epoch 8\n",
            "\t[Epoch: 8] Training Loss = 0.6458153250794973\n",
            "\t[Epoch: 8] Validation Loss = 0.6598044470244763\n",
            "Epoch 9\n",
            "\t[Epoch: 9] Training Loss = 0.6410028672860029\n",
            "\t[Epoch: 9] Validation Loss = 0.6611051559448242\n",
            "Epoch 10\n",
            "\t[Epoch: 10] Training Loss = 0.6341135074880059\n",
            "\t[Epoch: 10] Validation Loss = 0.6638090166391111\n",
            "Training has finished\n"
          ],
          "name": "stdout"
        },
        {
          "output_type": "execute_result",
          "data": {
            "text/plain": [
              "0.654184237104025"
            ]
          },
          "metadata": {
            "tags": []
          },
          "execution_count": 35
        }
      ]
    },
    {
      "cell_type": "code",
      "metadata": {
        "id": "05zE7vLq1vVU",
        "colab_type": "code",
        "colab": {}
      },
      "source": [
        "model_save_name = 'TwoLayers_H128H64_D02_epoch10.pth'\n",
        "path = f\"/content/drive/My Drive/DeepLearning/models/{model_save_name}\" \n",
        "torch.save(model_d.state_dict(), path)"
      ],
      "execution_count": null,
      "outputs": []
    },
    {
      "cell_type": "code",
      "metadata": {
        "id": "cZJCg8hsH7DS",
        "colab_type": "code",
        "colab": {}
      },
      "source": [
        "best_model = \n",
        "\n",
        "model_save_name = 'TwoLayers_H128H64_D02_epoch10.pth'\n",
        "path = f\"/content/drive/My Drive/DeepLearning/models/{model_save_name}\" \n",
        "torch.load_sta(model_d.state_dict(), path)"
      ],
      "execution_count": null,
      "outputs": []
    },
    {
      "cell_type": "markdown",
      "metadata": {
        "id": "mJ5tb1NNso5Z",
        "colab_type": "text"
      },
      "source": [
        "#### Test"
      ]
    },
    {
      "cell_type": "code",
      "metadata": {
        "id": "3rZIhA3XsoDp",
        "colab_type": "code",
        "colab": {}
      },
      "source": [
        "predictions = []\n",
        "test_labels = []\n",
        "\n",
        "for i in range(len(test_sequences_tensor)):\n",
        "\n",
        "  test_elem = test_sequences_tensor[i]\n",
        "  test_x, test_y = test_elem[0], test_elem[1]\n",
        "      \n",
        "  logits, coded_pred = trainer_d.predict(test_x.unsqueeze(0))\n",
        "  predictions.append(coded_pred[0].tolist()) \n",
        "  test_labels.append(test_y.tolist())"
      ],
      "execution_count": null,
      "outputs": []
    },
    {
      "cell_type": "code",
      "metadata": {
        "id": "u3urZ3UPZ64q",
        "colab_type": "code",
        "colab": {}
      },
      "source": [
        "predictions_d_train_two = []\n",
        "\n",
        "for i in range(len(train_sequences_tensor)):\n",
        "\n",
        "  train_elem = train_sequences_tensor[i]\n",
        "  train_x, train_y = train_elem[0], train_elem[1]\n",
        "      \n",
        "  logits, coded_pred = trainer_d.predict(train_x.unsqueeze(0))\n",
        "  predictions_d_train_two.append(coded_pred[0].tolist()) "
      ],
      "execution_count": null,
      "outputs": []
    },
    {
      "cell_type": "code",
      "metadata": {
        "id": "ZgzOFj-ItDM6",
        "colab_type": "code",
        "colab": {
          "base_uri": "https://localhost:8080/",
          "height": 85
        },
        "outputId": "8ed091e1-e758-49a6-ff0c-33e80540c623"
      },
      "source": [
        "f_score(test_labels, predictions)"
      ],
      "execution_count": null,
      "outputs": [
        {
          "output_type": "stream",
          "text": [
            "# instances: 6496\n",
            "# precision: 0.6142\n",
            "# recall: 0.6142\n",
            "# f1: 0.6142\n"
          ],
          "name": "stdout"
        }
      ]
    },
    {
      "cell_type": "code",
      "metadata": {
        "id": "Xmz1j3Nn8E9x",
        "colab_type": "code",
        "colab": {}
      },
      "source": [
        "print(f_score(train_labels, predictions_d_train_two))\n",
        "print(accuracy_score(train_labels, predictions_d_train_two))\n",
        "print(accuracy_score(test_labels, predictions_d))"
      ],
      "execution_count": null,
      "outputs": []
    },
    {
      "cell_type": "code",
      "metadata": {
        "id": "Kk1K1Pzv0d48",
        "colab_type": "code",
        "colab": {
          "base_uri": "https://localhost:8080/",
          "height": 422
        },
        "outputId": "ffd6040d-0900-4297-a8e0-032cd149983f"
      },
      "source": [
        "cm_plot(test_labels, predictions)"
      ],
      "execution_count": null,
      "outputs": [
        {
          "output_type": "stream",
          "text": [
            "[[1975 1273]\n",
            " [1233 2015]]\n"
          ],
          "name": "stdout"
        },
        {
          "output_type": "display_data",
          "data": {
            "image/png": "[encoded data removed]",
            "text/plain": [
              "<Figure size 576x432 with 2 Axes>"
            ]
          },
          "metadata": {
            "tags": [],
            "needs_background": "light"
          }
        }
      ]
    },
    {
      "cell_type": "code",
      "metadata": {
        "id": "lUOMWED617c8",
        "colab_type": "code",
        "colab": {
          "base_uri": "https://localhost:8080/",
          "height": 34
        },
        "outputId": "97417cbc-5db5-41c6-ff43-bdc4a802828f"
      },
      "source": [
        "accuracy_score(test_labels, predictions_d1)"
      ],
      "execution_count": null,
      "outputs": [
        {
          "output_type": "execute_result",
          "data": {
            "text/plain": [
              "0.5398645696810834"
            ]
          },
          "metadata": {
            "tags": []
          },
          "execution_count": 138
        }
      ]
    },
    {
      "cell_type": "markdown",
      "metadata": {
        "id": "d-wYpllt3TeF",
        "colab_type": "text"
      },
      "source": [
        "### Adding Technical Indicators"
      ]
    },
    {
      "cell_type": "code",
      "metadata": {
        "id": "xQZ8JO8i3XkA",
        "colab_type": "code",
        "colab": {}
      },
      "source": [
        "def technical_indicators(dataset):\n",
        "\n",
        "    adjClose = dataset['LTC_close']\n",
        "\n",
        "    # Create 7 and 21 days Moving Average\n",
        "    dataset['ma7'] = adjClose.rolling(window=7).mean()\n",
        "    dataset['ma21'] = adjClose.rolling(window=21).mean()\n",
        "    \n",
        "    # Create MACD\n",
        "    dataset['26ema'] = adjClose.ewm(span=26).mean()\n",
        "    dataset['12ema'] = adjClose.ewm(span=12).mean()\n",
        "    dataset['MACD'] = (dataset['12ema']-dataset['26ema'])\n",
        "\n",
        "    # Create Bollinger Bands\n",
        "    dataset['20sd'] = adjClose.rolling(window=20,center=False).std() \n",
        "    dataset['upper_band'] = dataset['ma21'] + (dataset['20sd']*2)\n",
        "    dataset['lower_band'] = dataset['ma21'] - (dataset['20sd']*2)\n",
        "    \n",
        "    # Create Exponential moving average\n",
        "    dataset['ema'] = adjClose.ewm(com=0.5).mean()\n",
        "    \n",
        "    # Create RSI\n",
        "    delta = adjClose.diff()\n",
        "    delta = delta[1:] \n",
        "\n",
        "    up, down = delta.copy(), delta.copy()\n",
        "    up[up < 0] = 0\n",
        "    down[down > 0] = 0\n",
        "\n",
        "    # Calculate the SMA\n",
        "    roll_up = up.rolling(14).mean()\n",
        "    roll_down = down.abs().rolling(14).mean()\n",
        "\n",
        "    # Calculate the RSI based on SMA\n",
        "    RS = roll_up / roll_down\n",
        "    dataset['RSI'] = 100.0 - (100.0 / (1.0 + RS))\n",
        "    \n",
        "    return dataset"
      ],
      "execution_count": null,
      "outputs": []
    },
    {
      "cell_type": "code",
      "metadata": {
        "id": "uWhLk4Y63tLI",
        "colab_type": "code",
        "colab": {}
      },
      "source": [
        "all4_df_t = technical_indicators(all4_df)"
      ],
      "execution_count": null,
      "outputs": []
    },
    {
      "cell_type": "code",
      "metadata": {
        "id": "0RvItD5M3zjB",
        "colab_type": "code",
        "colab": {}
      },
      "source": [
        "all4_df_t = all4_df_t[20:]"
      ],
      "execution_count": null,
      "outputs": []
    },
    {
      "cell_type": "code",
      "metadata": {
        "id": "EELt_5UO4twl",
        "colab_type": "code",
        "colab": {
          "base_uri": "https://localhost:8080/",
          "height": 255
        },
        "outputId": "8664570a-a954-4e22-e83a-e2792554b1b4"
      },
      "source": [
        "all4_df_t.head()"
      ],
      "execution_count": null,
      "outputs": [
        {
          "output_type": "execute_result",
          "data": {
            "text/html": [
              "<div>\n",
              "<style scoped>\n",
              "    .dataframe tbody tr th:only-of-type {\n",
              "        vertical-align: middle;\n",
              "    }\n",
              "\n",
              "    .dataframe tbody tr th {\n",
              "        vertical-align: top;\n",
              "    }\n",
              "\n",
              "    .dataframe thead th {\n",
              "        text-align: right;\n",
              "    }\n",
              "</style>\n",
              "<table border=\"1\" class=\"dataframe\">\n",
              "  <thead>\n",
              "    <tr style=\"text-align: right;\">\n",
              "      <th></th>\n",
              "      <th>BCH_close</th>\n",
              "      <th>BCH_volume</th>\n",
              "      <th>BTC_close</th>\n",
              "      <th>BTC_volume</th>\n",
              "      <th>ETH_close</th>\n",
              "      <th>ETH_volume</th>\n",
              "      <th>LTC_close</th>\n",
              "      <th>LTC_volume</th>\n",
              "      <th>ma7</th>\n",
              "      <th>ma21</th>\n",
              "      <th>26ema</th>\n",
              "      <th>12ema</th>\n",
              "      <th>MACD</th>\n",
              "      <th>20sd</th>\n",
              "      <th>upper_band</th>\n",
              "      <th>lower_band</th>\n",
              "      <th>ema</th>\n",
              "      <th>RSI</th>\n",
              "    </tr>\n",
              "    <tr>\n",
              "      <th>time</th>\n",
              "      <th></th>\n",
              "      <th></th>\n",
              "      <th></th>\n",
              "      <th></th>\n",
              "      <th></th>\n",
              "      <th></th>\n",
              "      <th></th>\n",
              "      <th></th>\n",
              "      <th></th>\n",
              "      <th></th>\n",
              "      <th></th>\n",
              "      <th></th>\n",
              "      <th></th>\n",
              "      <th></th>\n",
              "      <th></th>\n",
              "      <th></th>\n",
              "      <th></th>\n",
              "      <th></th>\n",
              "    </tr>\n",
              "  </thead>\n",
              "  <tbody>\n",
              "    <tr>\n",
              "      <th>1528969920</th>\n",
              "      <td>873.650024</td>\n",
              "      <td>1.198600</td>\n",
              "      <td>6486.359863</td>\n",
              "      <td>1.065600</td>\n",
              "      <td>488.00000</td>\n",
              "      <td>101.905365</td>\n",
              "      <td>96.629997</td>\n",
              "      <td>65.206299</td>\n",
              "      <td>96.518570</td>\n",
              "      <td>96.478571</td>\n",
              "      <td>96.487900</td>\n",
              "      <td>96.508591</td>\n",
              "      <td>0.020691</td>\n",
              "      <td>0.075913</td>\n",
              "      <td>96.630396</td>\n",
              "      <td>96.326746</td>\n",
              "      <td>96.599981</td>\n",
              "      <td>61.764723</td>\n",
              "    </tr>\n",
              "    <tr>\n",
              "      <th>1528969980</th>\n",
              "      <td>873.859985</td>\n",
              "      <td>1.293300</td>\n",
              "      <td>6487.259766</td>\n",
              "      <td>0.602759</td>\n",
              "      <td>487.98999</td>\n",
              "      <td>303.575714</td>\n",
              "      <td>96.599998</td>\n",
              "      <td>206.481979</td>\n",
              "      <td>96.547141</td>\n",
              "      <td>96.475714</td>\n",
              "      <td>96.498075</td>\n",
              "      <td>96.523019</td>\n",
              "      <td>0.024944</td>\n",
              "      <td>0.078263</td>\n",
              "      <td>96.632239</td>\n",
              "      <td>96.319189</td>\n",
              "      <td>96.599992</td>\n",
              "      <td>65.625127</td>\n",
              "    </tr>\n",
              "    <tr>\n",
              "      <th>1528970040</th>\n",
              "      <td>873.750000</td>\n",
              "      <td>7.357900</td>\n",
              "      <td>6487.270020</td>\n",
              "      <td>0.427600</td>\n",
              "      <td>488.00000</td>\n",
              "      <td>20.277039</td>\n",
              "      <td>96.639999</td>\n",
              "      <td>35.712299</td>\n",
              "      <td>96.578570</td>\n",
              "      <td>96.479047</td>\n",
              "      <td>96.510746</td>\n",
              "      <td>96.541411</td>\n",
              "      <td>0.030664</td>\n",
              "      <td>0.086789</td>\n",
              "      <td>96.652626</td>\n",
              "      <td>96.305468</td>\n",
              "      <td>96.626663</td>\n",
              "      <td>67.647279</td>\n",
              "    </tr>\n",
              "    <tr>\n",
              "      <th>1528970100</th>\n",
              "      <td>873.309998</td>\n",
              "      <td>2.864491</td>\n",
              "      <td>6490.000000</td>\n",
              "      <td>0.516043</td>\n",
              "      <td>487.98999</td>\n",
              "      <td>20.961819</td>\n",
              "      <td>96.660004</td>\n",
              "      <td>119.928459</td>\n",
              "      <td>96.591427</td>\n",
              "      <td>96.486666</td>\n",
              "      <td>96.523872</td>\n",
              "      <td>96.559993</td>\n",
              "      <td>0.036121</td>\n",
              "      <td>0.093147</td>\n",
              "      <td>96.672961</td>\n",
              "      <td>96.300372</td>\n",
              "      <td>96.648890</td>\n",
              "      <td>68.571890</td>\n",
              "    </tr>\n",
              "    <tr>\n",
              "      <th>1528970160</th>\n",
              "      <td>873.309998</td>\n",
              "      <td>0.149200</td>\n",
              "      <td>6490.000000</td>\n",
              "      <td>0.742156</td>\n",
              "      <td>488.00000</td>\n",
              "      <td>19.020500</td>\n",
              "      <td>96.660004</td>\n",
              "      <td>27.055300</td>\n",
              "      <td>96.615714</td>\n",
              "      <td>96.499524</td>\n",
              "      <td>96.535680</td>\n",
              "      <td>96.575619</td>\n",
              "      <td>0.039939</td>\n",
              "      <td>0.100382</td>\n",
              "      <td>96.700287</td>\n",
              "      <td>96.298760</td>\n",
              "      <td>96.656299</td>\n",
              "      <td>68.571890</td>\n",
              "    </tr>\n",
              "  </tbody>\n",
              "</table>\n",
              "</div>"
            ],
            "text/plain": [
              "             BCH_close  BCH_volume  ...        ema        RSI\n",
              "time                                ...                      \n",
              "1528969920  873.650024    1.198600  ...  96.599981  61.764723\n",
              "1528969980  873.859985    1.293300  ...  96.599992  65.625127\n",
              "1528970040  873.750000    7.357900  ...  96.626663  67.647279\n",
              "1528970100  873.309998    2.864491  ...  96.648890  68.571890\n",
              "1528970160  873.309998    0.149200  ...  96.656299  68.571890\n",
              "\n",
              "[5 rows x 18 columns]"
            ]
          },
          "metadata": {
            "tags": []
          },
          "execution_count": 14
        }
      ]
    }
  ]
}